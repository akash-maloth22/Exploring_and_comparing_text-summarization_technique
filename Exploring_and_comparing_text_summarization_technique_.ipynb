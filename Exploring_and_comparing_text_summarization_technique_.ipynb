{
  "cells": [
    {
      "cell_type": "markdown",
      "metadata": {
        "id": "view-in-github",
        "colab_type": "text"
      },
      "source": [
        "<a href=\"https://colab.research.google.com/github/akash-maloth22/Exploring_and_comparing_text-summarization_technique/blob/main/Exploring_and_comparing_text_summarization_technique_.ipynb\" target=\"_parent\"><img src=\"https://colab.research.google.com/assets/colab-badge.svg\" alt=\"Open In Colab\"/></a>"
      ]
    },
    {
      "cell_type": "code",
      "source": [
        "import ipywidgets as widgets\n",
        "from IPython.display import display\n",
        "from IPython.core.interactiveshell import InteractiveShell\n",
        "InteractiveShell.ast_node_interactivity = \"last_expr\""
      ],
      "metadata": {
        "id": "RsPciM8pHArQ"
      },
      "execution_count": null,
      "outputs": []
    },
    {
      "cell_type": "code",
      "source": [
        "widgets.IntSlider()\n"
      ],
      "metadata": {
        "id": "sr3ZYAuTHGKD",
        "outputId": "904c65ff-fe60-4790-9dc3-bfe91aef9ba5",
        "colab": {
          "base_uri": "https://localhost:8080/",
          "height": 49,
          "referenced_widgets": [
            "9a5f8b23d5984ed4822cb78bcfb8edd8",
            "ea0a82dc73964227a5c1d0ed97803ed6",
            "d9c4f835d0954a6d8a061397097f47fa"
          ]
        }
      },
      "execution_count": null,
      "outputs": [
        {
          "output_type": "display_data",
          "data": {
            "text/plain": [
              "IntSlider(value=0)"
            ],
            "application/vnd.jupyter.widget-view+json": {
              "version_major": 2,
              "version_minor": 0,
              "model_id": "9a5f8b23d5984ed4822cb78bcfb8edd8"
            }
          },
          "metadata": {}
        }
      ]
    },
    {
      "cell_type": "code",
      "execution_count": null,
      "metadata": {
        "colab": {
          "base_uri": "https://localhost:8080/"
        },
        "collapsed": true,
        "id": "zzO_fYdue7zO",
        "outputId": "25b83b28-3f03-4040-ee2c-45a839f7153d"
      },
      "outputs": [
        {
          "name": "stdout",
          "output_type": "stream",
          "text": [
            "Collecting evaluate\n",
            "  Downloading evaluate-0.4.3-py3-none-any.whl.metadata (9.2 kB)\n",
            "Collecting datasets>=2.0.0 (from evaluate)\n",
            "  Downloading datasets-3.5.0-py3-none-any.whl.metadata (19 kB)\n",
            "Requirement already satisfied: numpy>=1.17 in /usr/local/lib/python3.11/dist-packages (from evaluate) (2.0.2)\n",
            "Collecting dill (from evaluate)\n",
            "  Downloading dill-0.4.0-py3-none-any.whl.metadata (10 kB)\n",
            "Requirement already satisfied: pandas in /usr/local/lib/python3.11/dist-packages (from evaluate) (2.2.2)\n",
            "Requirement already satisfied: requests>=2.19.0 in /usr/local/lib/python3.11/dist-packages (from evaluate) (2.32.3)\n",
            "Requirement already satisfied: tqdm>=4.62.1 in /usr/local/lib/python3.11/dist-packages (from evaluate) (4.67.1)\n",
            "Collecting xxhash (from evaluate)\n",
            "  Downloading xxhash-3.5.0-cp311-cp311-manylinux_2_17_x86_64.manylinux2014_x86_64.whl.metadata (12 kB)\n",
            "Collecting multiprocess (from evaluate)\n",
            "  Downloading multiprocess-0.70.18-py311-none-any.whl.metadata (7.5 kB)\n",
            "Requirement already satisfied: fsspec>=2021.05.0 in /usr/local/lib/python3.11/dist-packages (from fsspec[http]>=2021.05.0->evaluate) (2025.3.2)\n",
            "Requirement already satisfied: huggingface-hub>=0.7.0 in /usr/local/lib/python3.11/dist-packages (from evaluate) (0.30.2)\n",
            "Requirement already satisfied: packaging in /usr/local/lib/python3.11/dist-packages (from evaluate) (24.2)\n",
            "Requirement already satisfied: filelock in /usr/local/lib/python3.11/dist-packages (from datasets>=2.0.0->evaluate) (3.18.0)\n",
            "Requirement already satisfied: pyarrow>=15.0.0 in /usr/local/lib/python3.11/dist-packages (from datasets>=2.0.0->evaluate) (18.1.0)\n",
            "Collecting dill (from evaluate)\n",
            "  Downloading dill-0.3.8-py3-none-any.whl.metadata (10 kB)\n",
            "Collecting multiprocess (from evaluate)\n",
            "  Downloading multiprocess-0.70.16-py311-none-any.whl.metadata (7.2 kB)\n",
            "Collecting fsspec>=2021.05.0 (from fsspec[http]>=2021.05.0->evaluate)\n",
            "  Downloading fsspec-2024.12.0-py3-none-any.whl.metadata (11 kB)\n",
            "Requirement already satisfied: aiohttp in /usr/local/lib/python3.11/dist-packages (from datasets>=2.0.0->evaluate) (3.11.15)\n",
            "Requirement already satisfied: pyyaml>=5.1 in /usr/local/lib/python3.11/dist-packages (from datasets>=2.0.0->evaluate) (6.0.2)\n",
            "Requirement already satisfied: typing-extensions>=3.7.4.3 in /usr/local/lib/python3.11/dist-packages (from huggingface-hub>=0.7.0->evaluate) (4.13.2)\n",
            "Requirement already satisfied: charset-normalizer<4,>=2 in /usr/local/lib/python3.11/dist-packages (from requests>=2.19.0->evaluate) (3.4.1)\n",
            "Requirement already satisfied: idna<4,>=2.5 in /usr/local/lib/python3.11/dist-packages (from requests>=2.19.0->evaluate) (3.10)\n",
            "Requirement already satisfied: urllib3<3,>=1.21.1 in /usr/local/lib/python3.11/dist-packages (from requests>=2.19.0->evaluate) (2.3.0)\n",
            "Requirement already satisfied: certifi>=2017.4.17 in /usr/local/lib/python3.11/dist-packages (from requests>=2.19.0->evaluate) (2025.1.31)\n",
            "Requirement already satisfied: python-dateutil>=2.8.2 in /usr/local/lib/python3.11/dist-packages (from pandas->evaluate) (2.8.2)\n",
            "Requirement already satisfied: pytz>=2020.1 in /usr/local/lib/python3.11/dist-packages (from pandas->evaluate) (2025.2)\n",
            "Requirement already satisfied: tzdata>=2022.7 in /usr/local/lib/python3.11/dist-packages (from pandas->evaluate) (2025.2)\n",
            "Requirement already satisfied: aiohappyeyeballs>=2.3.0 in /usr/local/lib/python3.11/dist-packages (from aiohttp->datasets>=2.0.0->evaluate) (2.6.1)\n",
            "Requirement already satisfied: aiosignal>=1.1.2 in /usr/local/lib/python3.11/dist-packages (from aiohttp->datasets>=2.0.0->evaluate) (1.3.2)\n",
            "Requirement already satisfied: attrs>=17.3.0 in /usr/local/lib/python3.11/dist-packages (from aiohttp->datasets>=2.0.0->evaluate) (25.3.0)\n",
            "Requirement already satisfied: frozenlist>=1.1.1 in /usr/local/lib/python3.11/dist-packages (from aiohttp->datasets>=2.0.0->evaluate) (1.6.0)\n",
            "Requirement already satisfied: multidict<7.0,>=4.5 in /usr/local/lib/python3.11/dist-packages (from aiohttp->datasets>=2.0.0->evaluate) (6.4.3)\n",
            "Requirement already satisfied: propcache>=0.2.0 in /usr/local/lib/python3.11/dist-packages (from aiohttp->datasets>=2.0.0->evaluate) (0.3.1)\n",
            "Requirement already satisfied: yarl<2.0,>=1.17.0 in /usr/local/lib/python3.11/dist-packages (from aiohttp->datasets>=2.0.0->evaluate) (1.20.0)\n",
            "Requirement already satisfied: six>=1.5 in /usr/local/lib/python3.11/dist-packages (from python-dateutil>=2.8.2->pandas->evaluate) (1.17.0)\n",
            "Downloading evaluate-0.4.3-py3-none-any.whl (84 kB)\n",
            "\u001b[2K   \u001b[90m━━━━━━━━━━━━━━━━━━━━━━━━━━━━━━━━━━━━━━━━\u001b[0m \u001b[32m84.0/84.0 kB\u001b[0m \u001b[31m2.7 MB/s\u001b[0m eta \u001b[36m0:00:00\u001b[0m\n",
            "\u001b[?25hDownloading datasets-3.5.0-py3-none-any.whl (491 kB)\n",
            "\u001b[2K   \u001b[90m━━━━━━━━━━━━━━━━━━━━━━━━━━━━━━━━━━━━━━━━\u001b[0m \u001b[32m491.2/491.2 kB\u001b[0m \u001b[31m10.6 MB/s\u001b[0m eta \u001b[36m0:00:00\u001b[0m\n",
            "\u001b[?25hDownloading dill-0.3.8-py3-none-any.whl (116 kB)\n",
            "\u001b[2K   \u001b[90m━━━━━━━━━━━━━━━━━━━━━━━━━━━━━━━━━━━━━━━━\u001b[0m \u001b[32m116.3/116.3 kB\u001b[0m \u001b[31m3.3 MB/s\u001b[0m eta \u001b[36m0:00:00\u001b[0m\n",
            "\u001b[?25hDownloading fsspec-2024.12.0-py3-none-any.whl (183 kB)\n",
            "\u001b[2K   \u001b[90m━━━━━━━━━━━━━━━━━━━━━━━━━━━━━━━━━━━━━━━━\u001b[0m \u001b[32m183.9/183.9 kB\u001b[0m \u001b[31m7.7 MB/s\u001b[0m eta \u001b[36m0:00:00\u001b[0m\n",
            "\u001b[?25hDownloading multiprocess-0.70.16-py311-none-any.whl (143 kB)\n",
            "\u001b[2K   \u001b[90m━━━━━━━━━━━━━━━━━━━━━━━━━━━━━━━━━━━━━━━━\u001b[0m \u001b[32m143.5/143.5 kB\u001b[0m \u001b[31m6.9 MB/s\u001b[0m eta \u001b[36m0:00:00\u001b[0m\n",
            "\u001b[?25hDownloading xxhash-3.5.0-cp311-cp311-manylinux_2_17_x86_64.manylinux2014_x86_64.whl (194 kB)\n",
            "\u001b[2K   \u001b[90m━━━━━━━━━━━━━━━━━━━━━━━━━━━━━━━━━━━━━━━━\u001b[0m \u001b[32m194.8/194.8 kB\u001b[0m \u001b[31m6.0 MB/s\u001b[0m eta \u001b[36m0:00:00\u001b[0m\n",
            "\u001b[?25hInstalling collected packages: xxhash, fsspec, dill, multiprocess, datasets, evaluate\n",
            "  Attempting uninstall: fsspec\n",
            "    Found existing installation: fsspec 2025.3.2\n",
            "    Uninstalling fsspec-2025.3.2:\n",
            "      Successfully uninstalled fsspec-2025.3.2\n",
            "\u001b[31mERROR: pip's dependency resolver does not currently take into account all the packages that are installed. This behaviour is the source of the following dependency conflicts.\n",
            "torch 2.6.0+cu124 requires nvidia-cublas-cu12==12.4.5.8; platform_system == \"Linux\" and platform_machine == \"x86_64\", but you have nvidia-cublas-cu12 12.5.3.2 which is incompatible.\n",
            "torch 2.6.0+cu124 requires nvidia-cuda-cupti-cu12==12.4.127; platform_system == \"Linux\" and platform_machine == \"x86_64\", but you have nvidia-cuda-cupti-cu12 12.5.82 which is incompatible.\n",
            "torch 2.6.0+cu124 requires nvidia-cuda-nvrtc-cu12==12.4.127; platform_system == \"Linux\" and platform_machine == \"x86_64\", but you have nvidia-cuda-nvrtc-cu12 12.5.82 which is incompatible.\n",
            "torch 2.6.0+cu124 requires nvidia-cuda-runtime-cu12==12.4.127; platform_system == \"Linux\" and platform_machine == \"x86_64\", but you have nvidia-cuda-runtime-cu12 12.5.82 which is incompatible.\n",
            "torch 2.6.0+cu124 requires nvidia-cudnn-cu12==9.1.0.70; platform_system == \"Linux\" and platform_machine == \"x86_64\", but you have nvidia-cudnn-cu12 9.3.0.75 which is incompatible.\n",
            "torch 2.6.0+cu124 requires nvidia-cufft-cu12==11.2.1.3; platform_system == \"Linux\" and platform_machine == \"x86_64\", but you have nvidia-cufft-cu12 11.2.3.61 which is incompatible.\n",
            "torch 2.6.0+cu124 requires nvidia-curand-cu12==10.3.5.147; platform_system == \"Linux\" and platform_machine == \"x86_64\", but you have nvidia-curand-cu12 10.3.6.82 which is incompatible.\n",
            "torch 2.6.0+cu124 requires nvidia-cusolver-cu12==11.6.1.9; platform_system == \"Linux\" and platform_machine == \"x86_64\", but you have nvidia-cusolver-cu12 11.6.3.83 which is incompatible.\n",
            "torch 2.6.0+cu124 requires nvidia-cusparse-cu12==12.3.1.170; platform_system == \"Linux\" and platform_machine == \"x86_64\", but you have nvidia-cusparse-cu12 12.5.1.3 which is incompatible.\n",
            "torch 2.6.0+cu124 requires nvidia-nvjitlink-cu12==12.4.127; platform_system == \"Linux\" and platform_machine == \"x86_64\", but you have nvidia-nvjitlink-cu12 12.5.82 which is incompatible.\n",
            "gcsfs 2025.3.2 requires fsspec==2025.3.2, but you have fsspec 2024.12.0 which is incompatible.\u001b[0m\u001b[31m\n",
            "\u001b[0mSuccessfully installed datasets-3.5.0 dill-0.3.8 evaluate-0.4.3 fsspec-2024.12.0 multiprocess-0.70.16 xxhash-3.5.0\n"
          ]
        }
      ],
      "source": [
        "!pip install -U evaluate"
      ]
    },
    {
      "cell_type": "code",
      "execution_count": null,
      "metadata": {
        "colab": {
          "base_uri": "https://localhost:8080/"
        },
        "collapsed": true,
        "id": "IHG3CojteCCn",
        "outputId": "a4986903-404d-41c7-f67e-bd395feeff1a"
      },
      "outputs": [
        {
          "name": "stderr",
          "output_type": "stream",
          "text": [
            "[nltk_data] Downloading package punkt_tab to /root/nltk_data...\n",
            "[nltk_data]   Unzipping tokenizers/punkt_tab.zip.\n"
          ]
        },
        {
          "name": "stdout",
          "output_type": "stream",
          "text": [
            "Collecting sumy\n",
            "  Downloading sumy-0.11.0-py2.py3-none-any.whl.metadata (7.5 kB)\n",
            "Requirement already satisfied: evaluate in /usr/local/lib/python3.11/dist-packages (0.4.3)\n",
            "Requirement already satisfied: pandas in /usr/local/lib/python3.11/dist-packages (2.2.2)\n",
            "Requirement already satisfied: tqdm in /usr/local/lib/python3.11/dist-packages (4.67.1)\n",
            "Collecting docopt<0.7,>=0.6.1 (from sumy)\n",
            "  Downloading docopt-0.6.2.tar.gz (25 kB)\n",
            "  Preparing metadata (setup.py) ... \u001b[?25l\u001b[?25hdone\n",
            "Collecting breadability>=0.1.20 (from sumy)\n",
            "  Downloading breadability-0.1.20.tar.gz (32 kB)\n",
            "  Preparing metadata (setup.py) ... \u001b[?25l\u001b[?25hdone\n",
            "Requirement already satisfied: requests>=2.7.0 in /usr/local/lib/python3.11/dist-packages (from sumy) (2.32.3)\n",
            "Collecting pycountry>=18.2.23 (from sumy)\n",
            "  Downloading pycountry-24.6.1-py3-none-any.whl.metadata (12 kB)\n",
            "Requirement already satisfied: nltk>=3.0.2 in /usr/local/lib/python3.11/dist-packages (from sumy) (3.9.1)\n",
            "Requirement already satisfied: datasets>=2.0.0 in /usr/local/lib/python3.11/dist-packages (from evaluate) (3.5.0)\n",
            "Requirement already satisfied: numpy>=1.17 in /usr/local/lib/python3.11/dist-packages (from evaluate) (2.0.2)\n",
            "Requirement already satisfied: dill in /usr/local/lib/python3.11/dist-packages (from evaluate) (0.3.8)\n",
            "Requirement already satisfied: xxhash in /usr/local/lib/python3.11/dist-packages (from evaluate) (3.5.0)\n",
            "Requirement already satisfied: multiprocess in /usr/local/lib/python3.11/dist-packages (from evaluate) (0.70.16)\n",
            "Requirement already satisfied: fsspec>=2021.05.0 in /usr/local/lib/python3.11/dist-packages (from fsspec[http]>=2021.05.0->evaluate) (2024.12.0)\n",
            "Requirement already satisfied: huggingface-hub>=0.7.0 in /usr/local/lib/python3.11/dist-packages (from evaluate) (0.30.2)\n",
            "Requirement already satisfied: packaging in /usr/local/lib/python3.11/dist-packages (from evaluate) (24.2)\n",
            "Requirement already satisfied: python-dateutil>=2.8.2 in /usr/local/lib/python3.11/dist-packages (from pandas) (2.8.2)\n",
            "Requirement already satisfied: pytz>=2020.1 in /usr/local/lib/python3.11/dist-packages (from pandas) (2025.2)\n",
            "Requirement already satisfied: tzdata>=2022.7 in /usr/local/lib/python3.11/dist-packages (from pandas) (2025.2)\n",
            "Requirement already satisfied: chardet in /usr/local/lib/python3.11/dist-packages (from breadability>=0.1.20->sumy) (5.2.0)\n",
            "Requirement already satisfied: lxml>=2.0 in /usr/local/lib/python3.11/dist-packages (from breadability>=0.1.20->sumy) (5.3.2)\n",
            "Requirement already satisfied: filelock in /usr/local/lib/python3.11/dist-packages (from datasets>=2.0.0->evaluate) (3.18.0)\n",
            "Requirement already satisfied: pyarrow>=15.0.0 in /usr/local/lib/python3.11/dist-packages (from datasets>=2.0.0->evaluate) (18.1.0)\n",
            "Requirement already satisfied: aiohttp in /usr/local/lib/python3.11/dist-packages (from datasets>=2.0.0->evaluate) (3.11.15)\n",
            "Requirement already satisfied: pyyaml>=5.1 in /usr/local/lib/python3.11/dist-packages (from datasets>=2.0.0->evaluate) (6.0.2)\n",
            "Requirement already satisfied: typing-extensions>=3.7.4.3 in /usr/local/lib/python3.11/dist-packages (from huggingface-hub>=0.7.0->evaluate) (4.13.2)\n",
            "Requirement already satisfied: click in /usr/local/lib/python3.11/dist-packages (from nltk>=3.0.2->sumy) (8.1.8)\n",
            "Requirement already satisfied: joblib in /usr/local/lib/python3.11/dist-packages (from nltk>=3.0.2->sumy) (1.4.2)\n",
            "Requirement already satisfied: regex>=2021.8.3 in /usr/local/lib/python3.11/dist-packages (from nltk>=3.0.2->sumy) (2024.11.6)\n",
            "Requirement already satisfied: six>=1.5 in /usr/local/lib/python3.11/dist-packages (from python-dateutil>=2.8.2->pandas) (1.17.0)\n",
            "Requirement already satisfied: charset-normalizer<4,>=2 in /usr/local/lib/python3.11/dist-packages (from requests>=2.7.0->sumy) (3.4.1)\n",
            "Requirement already satisfied: idna<4,>=2.5 in /usr/local/lib/python3.11/dist-packages (from requests>=2.7.0->sumy) (3.10)\n",
            "Requirement already satisfied: urllib3<3,>=1.21.1 in /usr/local/lib/python3.11/dist-packages (from requests>=2.7.0->sumy) (2.3.0)\n",
            "Requirement already satisfied: certifi>=2017.4.17 in /usr/local/lib/python3.11/dist-packages (from requests>=2.7.0->sumy) (2025.1.31)\n",
            "Requirement already satisfied: aiohappyeyeballs>=2.3.0 in /usr/local/lib/python3.11/dist-packages (from aiohttp->datasets>=2.0.0->evaluate) (2.6.1)\n",
            "Requirement already satisfied: aiosignal>=1.1.2 in /usr/local/lib/python3.11/dist-packages (from aiohttp->datasets>=2.0.0->evaluate) (1.3.2)\n",
            "Requirement already satisfied: attrs>=17.3.0 in /usr/local/lib/python3.11/dist-packages (from aiohttp->datasets>=2.0.0->evaluate) (25.3.0)\n",
            "Requirement already satisfied: frozenlist>=1.1.1 in /usr/local/lib/python3.11/dist-packages (from aiohttp->datasets>=2.0.0->evaluate) (1.6.0)\n",
            "Requirement already satisfied: multidict<7.0,>=4.5 in /usr/local/lib/python3.11/dist-packages (from aiohttp->datasets>=2.0.0->evaluate) (6.4.3)\n",
            "Requirement already satisfied: propcache>=0.2.0 in /usr/local/lib/python3.11/dist-packages (from aiohttp->datasets>=2.0.0->evaluate) (0.3.1)\n",
            "Requirement already satisfied: yarl<2.0,>=1.17.0 in /usr/local/lib/python3.11/dist-packages (from aiohttp->datasets>=2.0.0->evaluate) (1.20.0)\n",
            "Downloading sumy-0.11.0-py2.py3-none-any.whl (97 kB)\n",
            "\u001b[2K   \u001b[90m━━━━━━━━━━━━━━━━━━━━━━━━━━━━━━━━━━━━━━━━\u001b[0m \u001b[32m97.3/97.3 kB\u001b[0m \u001b[31m7.8 MB/s\u001b[0m eta \u001b[36m0:00:00\u001b[0m\n",
            "\u001b[?25hDownloading pycountry-24.6.1-py3-none-any.whl (6.3 MB)\n",
            "\u001b[2K   \u001b[90m━━━━━━━━━━━━━━━━━━━━━━━━━━━━━━━━━━━━━━━━\u001b[0m \u001b[32m6.3/6.3 MB\u001b[0m \u001b[31m48.8 MB/s\u001b[0m eta \u001b[36m0:00:00\u001b[0m\n",
            "\u001b[?25hBuilding wheels for collected packages: breadability, docopt\n",
            "  Building wheel for breadability (setup.py) ... \u001b[?25l\u001b[?25hdone\n",
            "  Created wheel for breadability: filename=breadability-0.1.20-py2.py3-none-any.whl size=21693 sha256=8c795165c3f17ea815ef510213d0c7421e0b77c14dd5d71afee897a979e1b9e1\n",
            "  Stored in directory: /root/.cache/pip/wheels/4d/57/58/7e3d7fedf51fe248b7fcee3df6945ae28638e22cddf01eb92b\n",
            "  Building wheel for docopt (setup.py) ... \u001b[?25l\u001b[?25hdone\n",
            "  Created wheel for docopt: filename=docopt-0.6.2-py2.py3-none-any.whl size=13706 sha256=bd3eab3079c8377e281a6d3affa867a0cd7b7086c27f2ba9ee9925d2eef639b1\n",
            "  Stored in directory: /root/.cache/pip/wheels/1a/b0/8c/4b75c4116c31f83c8f9f047231251e13cc74481cca4a78a9ce\n",
            "Successfully built breadability docopt\n",
            "Installing collected packages: docopt, pycountry, breadability, sumy\n",
            "Successfully installed breadability-0.1.20 docopt-0.6.2 pycountry-24.6.1 sumy-0.11.0\n"
          ]
        },
        {
          "name": "stderr",
          "output_type": "stream",
          "text": [
            "[nltk_data] Downloading package punkt to /root/nltk_data...\n",
            "[nltk_data]   Unzipping tokenizers/punkt.zip.\n",
            "[nltk_data] Downloading package averaged_perceptron_tagger to\n",
            "[nltk_data]     /root/nltk_data...\n",
            "[nltk_data]   Unzipping taggers/averaged_perceptron_tagger.zip.\n"
          ]
        },
        {
          "name": "stdout",
          "output_type": "stream",
          "text": [
            "Requirement already satisfied: sumy in /usr/local/lib/python3.11/dist-packages (0.11.0)\n",
            "Requirement already satisfied: docopt<0.7,>=0.6.1 in /usr/local/lib/python3.11/dist-packages (from sumy) (0.6.2)\n",
            "Requirement already satisfied: breadability>=0.1.20 in /usr/local/lib/python3.11/dist-packages (from sumy) (0.1.20)\n",
            "Requirement already satisfied: requests>=2.7.0 in /usr/local/lib/python3.11/dist-packages (from sumy) (2.32.3)\n",
            "Requirement already satisfied: pycountry>=18.2.23 in /usr/local/lib/python3.11/dist-packages (from sumy) (24.6.1)\n",
            "Requirement already satisfied: nltk>=3.0.2 in /usr/local/lib/python3.11/dist-packages (from sumy) (3.9.1)\n",
            "Requirement already satisfied: chardet in /usr/local/lib/python3.11/dist-packages (from breadability>=0.1.20->sumy) (5.2.0)\n",
            "Requirement already satisfied: lxml>=2.0 in /usr/local/lib/python3.11/dist-packages (from breadability>=0.1.20->sumy) (5.3.2)\n",
            "Requirement already satisfied: click in /usr/local/lib/python3.11/dist-packages (from nltk>=3.0.2->sumy) (8.1.8)\n",
            "Requirement already satisfied: joblib in /usr/local/lib/python3.11/dist-packages (from nltk>=3.0.2->sumy) (1.4.2)\n",
            "Requirement already satisfied: regex>=2021.8.3 in /usr/local/lib/python3.11/dist-packages (from nltk>=3.0.2->sumy) (2024.11.6)\n",
            "Requirement already satisfied: tqdm in /usr/local/lib/python3.11/dist-packages (from nltk>=3.0.2->sumy) (4.67.1)\n",
            "Requirement already satisfied: charset-normalizer<4,>=2 in /usr/local/lib/python3.11/dist-packages (from requests>=2.7.0->sumy) (3.4.1)\n",
            "Requirement already satisfied: idna<4,>=2.5 in /usr/local/lib/python3.11/dist-packages (from requests>=2.7.0->sumy) (3.10)\n",
            "Requirement already satisfied: urllib3<3,>=1.21.1 in /usr/local/lib/python3.11/dist-packages (from requests>=2.7.0->sumy) (2.3.0)\n",
            "Requirement already satisfied: certifi>=2017.4.17 in /usr/local/lib/python3.11/dist-packages (from requests>=2.7.0->sumy) (2025.1.31)\n",
            "Requirement already satisfied: sumy in /usr/local/lib/python3.11/dist-packages (0.11.0)\n",
            "Requirement already satisfied: evaluate in /usr/local/lib/python3.11/dist-packages (0.4.3)\n",
            "Requirement already satisfied: pandas in /usr/local/lib/python3.11/dist-packages (2.2.2)\n",
            "Requirement already satisfied: tqdm in /usr/local/lib/python3.11/dist-packages (4.67.1)\n",
            "Requirement already satisfied: docopt<0.7,>=0.6.1 in /usr/local/lib/python3.11/dist-packages (from sumy) (0.6.2)\n",
            "Requirement already satisfied: breadability>=0.1.20 in /usr/local/lib/python3.11/dist-packages (from sumy) (0.1.20)\n",
            "Requirement already satisfied: requests>=2.7.0 in /usr/local/lib/python3.11/dist-packages (from sumy) (2.32.3)\n",
            "Requirement already satisfied: pycountry>=18.2.23 in /usr/local/lib/python3.11/dist-packages (from sumy) (24.6.1)\n",
            "Requirement already satisfied: nltk>=3.0.2 in /usr/local/lib/python3.11/dist-packages (from sumy) (3.9.1)\n",
            "Requirement already satisfied: datasets>=2.0.0 in /usr/local/lib/python3.11/dist-packages (from evaluate) (3.5.0)\n",
            "Requirement already satisfied: numpy>=1.17 in /usr/local/lib/python3.11/dist-packages (from evaluate) (2.0.2)\n",
            "Requirement already satisfied: dill in /usr/local/lib/python3.11/dist-packages (from evaluate) (0.3.8)\n",
            "Requirement already satisfied: xxhash in /usr/local/lib/python3.11/dist-packages (from evaluate) (3.5.0)\n",
            "Requirement already satisfied: multiprocess in /usr/local/lib/python3.11/dist-packages (from evaluate) (0.70.16)\n",
            "Requirement already satisfied: fsspec>=2021.05.0 in /usr/local/lib/python3.11/dist-packages (from fsspec[http]>=2021.05.0->evaluate) (2024.12.0)\n",
            "Requirement already satisfied: huggingface-hub>=0.7.0 in /usr/local/lib/python3.11/dist-packages (from evaluate) (0.30.2)\n",
            "Requirement already satisfied: packaging in /usr/local/lib/python3.11/dist-packages (from evaluate) (24.2)\n",
            "Requirement already satisfied: python-dateutil>=2.8.2 in /usr/local/lib/python3.11/dist-packages (from pandas) (2.8.2)\n",
            "Requirement already satisfied: pytz>=2020.1 in /usr/local/lib/python3.11/dist-packages (from pandas) (2025.2)\n",
            "Requirement already satisfied: tzdata>=2022.7 in /usr/local/lib/python3.11/dist-packages (from pandas) (2025.2)\n",
            "Requirement already satisfied: chardet in /usr/local/lib/python3.11/dist-packages (from breadability>=0.1.20->sumy) (5.2.0)\n",
            "Requirement already satisfied: lxml>=2.0 in /usr/local/lib/python3.11/dist-packages (from breadability>=0.1.20->sumy) (5.3.2)\n",
            "Requirement already satisfied: filelock in /usr/local/lib/python3.11/dist-packages (from datasets>=2.0.0->evaluate) (3.18.0)\n",
            "Requirement already satisfied: pyarrow>=15.0.0 in /usr/local/lib/python3.11/dist-packages (from datasets>=2.0.0->evaluate) (18.1.0)\n",
            "Requirement already satisfied: aiohttp in /usr/local/lib/python3.11/dist-packages (from datasets>=2.0.0->evaluate) (3.11.15)\n",
            "Requirement already satisfied: pyyaml>=5.1 in /usr/local/lib/python3.11/dist-packages (from datasets>=2.0.0->evaluate) (6.0.2)\n",
            "Requirement already satisfied: typing-extensions>=3.7.4.3 in /usr/local/lib/python3.11/dist-packages (from huggingface-hub>=0.7.0->evaluate) (4.13.2)\n",
            "Requirement already satisfied: click in /usr/local/lib/python3.11/dist-packages (from nltk>=3.0.2->sumy) (8.1.8)\n",
            "Requirement already satisfied: joblib in /usr/local/lib/python3.11/dist-packages (from nltk>=3.0.2->sumy) (1.4.2)\n",
            "Requirement already satisfied: regex>=2021.8.3 in /usr/local/lib/python3.11/dist-packages (from nltk>=3.0.2->sumy) (2024.11.6)\n",
            "Requirement already satisfied: six>=1.5 in /usr/local/lib/python3.11/dist-packages (from python-dateutil>=2.8.2->pandas) (1.17.0)\n",
            "Requirement already satisfied: charset-normalizer<4,>=2 in /usr/local/lib/python3.11/dist-packages (from requests>=2.7.0->sumy) (3.4.1)\n",
            "Requirement already satisfied: idna<4,>=2.5 in /usr/local/lib/python3.11/dist-packages (from requests>=2.7.0->sumy) (3.10)\n",
            "Requirement already satisfied: urllib3<3,>=1.21.1 in /usr/local/lib/python3.11/dist-packages (from requests>=2.7.0->sumy) (2.3.0)\n",
            "Requirement already satisfied: certifi>=2017.4.17 in /usr/local/lib/python3.11/dist-packages (from requests>=2.7.0->sumy) (2025.1.31)\n",
            "Requirement already satisfied: aiohappyeyeballs>=2.3.0 in /usr/local/lib/python3.11/dist-packages (from aiohttp->datasets>=2.0.0->evaluate) (2.6.1)\n",
            "Requirement already satisfied: aiosignal>=1.1.2 in /usr/local/lib/python3.11/dist-packages (from aiohttp->datasets>=2.0.0->evaluate) (1.3.2)\n",
            "Requirement already satisfied: attrs>=17.3.0 in /usr/local/lib/python3.11/dist-packages (from aiohttp->datasets>=2.0.0->evaluate) (25.3.0)\n",
            "Requirement already satisfied: frozenlist>=1.1.1 in /usr/local/lib/python3.11/dist-packages (from aiohttp->datasets>=2.0.0->evaluate) (1.6.0)\n",
            "Requirement already satisfied: multidict<7.0,>=4.5 in /usr/local/lib/python3.11/dist-packages (from aiohttp->datasets>=2.0.0->evaluate) (6.4.3)\n",
            "Requirement already satisfied: propcache>=0.2.0 in /usr/local/lib/python3.11/dist-packages (from aiohttp->datasets>=2.0.0->evaluate) (0.3.1)\n",
            "Requirement already satisfied: yarl<2.0,>=1.17.0 in /usr/local/lib/python3.11/dist-packages (from aiohttp->datasets>=2.0.0->evaluate) (1.20.0)\n",
            "Collecting bert-extractive-summarizer\n",
            "  Downloading bert_extractive_summarizer-0.10.1-py3-none-any.whl.metadata (15 kB)\n",
            "Requirement already satisfied: transformers in /usr/local/lib/python3.11/dist-packages (4.51.3)\n",
            "Requirement already satisfied: torch in /usr/local/lib/python3.11/dist-packages (2.6.0+cu124)\n",
            "Requirement already satisfied: scikit-learn in /usr/local/lib/python3.11/dist-packages (from bert-extractive-summarizer) (1.6.1)\n",
            "Requirement already satisfied: spacy in /usr/local/lib/python3.11/dist-packages (from bert-extractive-summarizer) (3.8.5)\n",
            "Requirement already satisfied: filelock in /usr/local/lib/python3.11/dist-packages (from transformers) (3.18.0)\n",
            "Requirement already satisfied: huggingface-hub<1.0,>=0.30.0 in /usr/local/lib/python3.11/dist-packages (from transformers) (0.30.2)\n",
            "Requirement already satisfied: numpy>=1.17 in /usr/local/lib/python3.11/dist-packages (from transformers) (2.0.2)\n",
            "Requirement already satisfied: packaging>=20.0 in /usr/local/lib/python3.11/dist-packages (from transformers) (24.2)\n",
            "Requirement already satisfied: pyyaml>=5.1 in /usr/local/lib/python3.11/dist-packages (from transformers) (6.0.2)\n",
            "Requirement already satisfied: regex!=2019.12.17 in /usr/local/lib/python3.11/dist-packages (from transformers) (2024.11.6)\n",
            "Requirement already satisfied: requests in /usr/local/lib/python3.11/dist-packages (from transformers) (2.32.3)\n",
            "Requirement already satisfied: tokenizers<0.22,>=0.21 in /usr/local/lib/python3.11/dist-packages (from transformers) (0.21.1)\n",
            "Requirement already satisfied: safetensors>=0.4.3 in /usr/local/lib/python3.11/dist-packages (from transformers) (0.5.3)\n",
            "Requirement already satisfied: tqdm>=4.27 in /usr/local/lib/python3.11/dist-packages (from transformers) (4.67.1)\n",
            "Requirement already satisfied: typing-extensions>=4.10.0 in /usr/local/lib/python3.11/dist-packages (from torch) (4.13.2)\n",
            "Requirement already satisfied: networkx in /usr/local/lib/python3.11/dist-packages (from torch) (3.4.2)\n",
            "Requirement already satisfied: jinja2 in /usr/local/lib/python3.11/dist-packages (from torch) (3.1.6)\n",
            "Requirement already satisfied: fsspec in /usr/local/lib/python3.11/dist-packages (from torch) (2024.12.0)\n",
            "Collecting nvidia-cuda-nvrtc-cu12==12.4.127 (from torch)\n",
            "  Downloading nvidia_cuda_nvrtc_cu12-12.4.127-py3-none-manylinux2014_x86_64.whl.metadata (1.5 kB)\n",
            "Collecting nvidia-cuda-runtime-cu12==12.4.127 (from torch)\n",
            "  Downloading nvidia_cuda_runtime_cu12-12.4.127-py3-none-manylinux2014_x86_64.whl.metadata (1.5 kB)\n",
            "Collecting nvidia-cuda-cupti-cu12==12.4.127 (from torch)\n",
            "  Downloading nvidia_cuda_cupti_cu12-12.4.127-py3-none-manylinux2014_x86_64.whl.metadata (1.6 kB)\n",
            "Collecting nvidia-cudnn-cu12==9.1.0.70 (from torch)\n",
            "  Downloading nvidia_cudnn_cu12-9.1.0.70-py3-none-manylinux2014_x86_64.whl.metadata (1.6 kB)\n",
            "Collecting nvidia-cublas-cu12==12.4.5.8 (from torch)\n",
            "  Downloading nvidia_cublas_cu12-12.4.5.8-py3-none-manylinux2014_x86_64.whl.metadata (1.5 kB)\n",
            "Collecting nvidia-cufft-cu12==11.2.1.3 (from torch)\n",
            "  Downloading nvidia_cufft_cu12-11.2.1.3-py3-none-manylinux2014_x86_64.whl.metadata (1.5 kB)\n",
            "Collecting nvidia-curand-cu12==10.3.5.147 (from torch)\n",
            "  Downloading nvidia_curand_cu12-10.3.5.147-py3-none-manylinux2014_x86_64.whl.metadata (1.5 kB)\n",
            "Collecting nvidia-cusolver-cu12==11.6.1.9 (from torch)\n",
            "  Downloading nvidia_cusolver_cu12-11.6.1.9-py3-none-manylinux2014_x86_64.whl.metadata (1.6 kB)\n",
            "Collecting nvidia-cusparse-cu12==12.3.1.170 (from torch)\n",
            "  Downloading nvidia_cusparse_cu12-12.3.1.170-py3-none-manylinux2014_x86_64.whl.metadata (1.6 kB)\n",
            "Requirement already satisfied: nvidia-cusparselt-cu12==0.6.2 in /usr/local/lib/python3.11/dist-packages (from torch) (0.6.2)\n",
            "Requirement already satisfied: nvidia-nccl-cu12==2.21.5 in /usr/local/lib/python3.11/dist-packages (from torch) (2.21.5)\n",
            "Requirement already satisfied: nvidia-nvtx-cu12==12.4.127 in /usr/local/lib/python3.11/dist-packages (from torch) (12.4.127)\n",
            "Collecting nvidia-nvjitlink-cu12==12.4.127 (from torch)\n",
            "  Downloading nvidia_nvjitlink_cu12-12.4.127-py3-none-manylinux2014_x86_64.whl.metadata (1.5 kB)\n",
            "Requirement already satisfied: triton==3.2.0 in /usr/local/lib/python3.11/dist-packages (from torch) (3.2.0)\n",
            "Requirement already satisfied: sympy==1.13.1 in /usr/local/lib/python3.11/dist-packages (from torch) (1.13.1)\n",
            "Requirement already satisfied: mpmath<1.4,>=1.1.0 in /usr/local/lib/python3.11/dist-packages (from sympy==1.13.1->torch) (1.3.0)\n",
            "Requirement already satisfied: MarkupSafe>=2.0 in /usr/local/lib/python3.11/dist-packages (from jinja2->torch) (3.0.2)\n",
            "Requirement already satisfied: charset-normalizer<4,>=2 in /usr/local/lib/python3.11/dist-packages (from requests->transformers) (3.4.1)\n",
            "Requirement already satisfied: idna<4,>=2.5 in /usr/local/lib/python3.11/dist-packages (from requests->transformers) (3.10)\n",
            "Requirement already satisfied: urllib3<3,>=1.21.1 in /usr/local/lib/python3.11/dist-packages (from requests->transformers) (2.3.0)\n",
            "Requirement already satisfied: certifi>=2017.4.17 in /usr/local/lib/python3.11/dist-packages (from requests->transformers) (2025.1.31)\n",
            "Requirement already satisfied: scipy>=1.6.0 in /usr/local/lib/python3.11/dist-packages (from scikit-learn->bert-extractive-summarizer) (1.14.1)\n",
            "Requirement already satisfied: joblib>=1.2.0 in /usr/local/lib/python3.11/dist-packages (from scikit-learn->bert-extractive-summarizer) (1.4.2)\n",
            "Requirement already satisfied: threadpoolctl>=3.1.0 in /usr/local/lib/python3.11/dist-packages (from scikit-learn->bert-extractive-summarizer) (3.6.0)\n",
            "Requirement already satisfied: spacy-legacy<3.1.0,>=3.0.11 in /usr/local/lib/python3.11/dist-packages (from spacy->bert-extractive-summarizer) (3.0.12)\n",
            "Requirement already satisfied: spacy-loggers<2.0.0,>=1.0.0 in /usr/local/lib/python3.11/dist-packages (from spacy->bert-extractive-summarizer) (1.0.5)\n",
            "Requirement already satisfied: murmurhash<1.1.0,>=0.28.0 in /usr/local/lib/python3.11/dist-packages (from spacy->bert-extractive-summarizer) (1.0.12)\n",
            "Requirement already satisfied: cymem<2.1.0,>=2.0.2 in /usr/local/lib/python3.11/dist-packages (from spacy->bert-extractive-summarizer) (2.0.11)\n",
            "Requirement already satisfied: preshed<3.1.0,>=3.0.2 in /usr/local/lib/python3.11/dist-packages (from spacy->bert-extractive-summarizer) (3.0.9)\n",
            "Requirement already satisfied: thinc<8.4.0,>=8.3.4 in /usr/local/lib/python3.11/dist-packages (from spacy->bert-extractive-summarizer) (8.3.6)\n",
            "Requirement already satisfied: wasabi<1.2.0,>=0.9.1 in /usr/local/lib/python3.11/dist-packages (from spacy->bert-extractive-summarizer) (1.1.3)\n",
            "Requirement already satisfied: srsly<3.0.0,>=2.4.3 in /usr/local/lib/python3.11/dist-packages (from spacy->bert-extractive-summarizer) (2.5.1)\n",
            "Requirement already satisfied: catalogue<2.1.0,>=2.0.6 in /usr/local/lib/python3.11/dist-packages (from spacy->bert-extractive-summarizer) (2.0.10)\n",
            "Requirement already satisfied: weasel<0.5.0,>=0.1.0 in /usr/local/lib/python3.11/dist-packages (from spacy->bert-extractive-summarizer) (0.4.1)\n",
            "Requirement already satisfied: typer<1.0.0,>=0.3.0 in /usr/local/lib/python3.11/dist-packages (from spacy->bert-extractive-summarizer) (0.15.2)\n",
            "Requirement already satisfied: pydantic!=1.8,!=1.8.1,<3.0.0,>=1.7.4 in /usr/local/lib/python3.11/dist-packages (from spacy->bert-extractive-summarizer) (2.11.3)\n",
            "Requirement already satisfied: setuptools in /usr/local/lib/python3.11/dist-packages (from spacy->bert-extractive-summarizer) (75.2.0)\n",
            "Requirement already satisfied: langcodes<4.0.0,>=3.2.0 in /usr/local/lib/python3.11/dist-packages (from spacy->bert-extractive-summarizer) (3.5.0)\n",
            "Requirement already satisfied: language-data>=1.2 in /usr/local/lib/python3.11/dist-packages (from langcodes<4.0.0,>=3.2.0->spacy->bert-extractive-summarizer) (1.3.0)\n",
            "Requirement already satisfied: annotated-types>=0.6.0 in /usr/local/lib/python3.11/dist-packages (from pydantic!=1.8,!=1.8.1,<3.0.0,>=1.7.4->spacy->bert-extractive-summarizer) (0.7.0)\n",
            "Requirement already satisfied: pydantic-core==2.33.1 in /usr/local/lib/python3.11/dist-packages (from pydantic!=1.8,!=1.8.1,<3.0.0,>=1.7.4->spacy->bert-extractive-summarizer) (2.33.1)\n",
            "Requirement already satisfied: typing-inspection>=0.4.0 in /usr/local/lib/python3.11/dist-packages (from pydantic!=1.8,!=1.8.1,<3.0.0,>=1.7.4->spacy->bert-extractive-summarizer) (0.4.0)\n",
            "Requirement already satisfied: blis<1.4.0,>=1.3.0 in /usr/local/lib/python3.11/dist-packages (from thinc<8.4.0,>=8.3.4->spacy->bert-extractive-summarizer) (1.3.0)\n",
            "Requirement already satisfied: confection<1.0.0,>=0.0.1 in /usr/local/lib/python3.11/dist-packages (from thinc<8.4.0,>=8.3.4->spacy->bert-extractive-summarizer) (0.1.5)\n",
            "Requirement already satisfied: click>=8.0.0 in /usr/local/lib/python3.11/dist-packages (from typer<1.0.0,>=0.3.0->spacy->bert-extractive-summarizer) (8.1.8)\n",
            "Requirement already satisfied: shellingham>=1.3.0 in /usr/local/lib/python3.11/dist-packages (from typer<1.0.0,>=0.3.0->spacy->bert-extractive-summarizer) (1.5.4)\n",
            "Requirement already satisfied: rich>=10.11.0 in /usr/local/lib/python3.11/dist-packages (from typer<1.0.0,>=0.3.0->spacy->bert-extractive-summarizer) (13.9.4)\n",
            "Requirement already satisfied: cloudpathlib<1.0.0,>=0.7.0 in /usr/local/lib/python3.11/dist-packages (from weasel<0.5.0,>=0.1.0->spacy->bert-extractive-summarizer) (0.21.0)\n",
            "Requirement already satisfied: smart-open<8.0.0,>=5.2.1 in /usr/local/lib/python3.11/dist-packages (from weasel<0.5.0,>=0.1.0->spacy->bert-extractive-summarizer) (7.1.0)\n",
            "Requirement already satisfied: marisa-trie>=1.1.0 in /usr/local/lib/python3.11/dist-packages (from language-data>=1.2->langcodes<4.0.0,>=3.2.0->spacy->bert-extractive-summarizer) (1.2.1)\n",
            "Requirement already satisfied: markdown-it-py>=2.2.0 in /usr/local/lib/python3.11/dist-packages (from rich>=10.11.0->typer<1.0.0,>=0.3.0->spacy->bert-extractive-summarizer) (3.0.0)\n",
            "Requirement already satisfied: pygments<3.0.0,>=2.13.0 in /usr/local/lib/python3.11/dist-packages (from rich>=10.11.0->typer<1.0.0,>=0.3.0->spacy->bert-extractive-summarizer) (2.18.0)\n",
            "Requirement already satisfied: wrapt in /usr/local/lib/python3.11/dist-packages (from smart-open<8.0.0,>=5.2.1->weasel<0.5.0,>=0.1.0->spacy->bert-extractive-summarizer) (1.17.2)\n",
            "Requirement already satisfied: mdurl~=0.1 in /usr/local/lib/python3.11/dist-packages (from markdown-it-py>=2.2.0->rich>=10.11.0->typer<1.0.0,>=0.3.0->spacy->bert-extractive-summarizer) (0.1.2)\n",
            "Downloading bert_extractive_summarizer-0.10.1-py3-none-any.whl (25 kB)\n",
            "Downloading nvidia_cublas_cu12-12.4.5.8-py3-none-manylinux2014_x86_64.whl (363.4 MB)\n",
            "\u001b[2K   \u001b[90m━━━━━━━━━━━━━━━━━━━━━━━━━━━━━━━━━━━━━━━━\u001b[0m \u001b[32m363.4/363.4 MB\u001b[0m \u001b[31m1.5 MB/s\u001b[0m eta \u001b[36m0:00:00\u001b[0m\n",
            "\u001b[?25hDownloading nvidia_cuda_cupti_cu12-12.4.127-py3-none-manylinux2014_x86_64.whl (13.8 MB)\n",
            "\u001b[2K   \u001b[90m━━━━━━━━━━━━━━━━━━━━━━━━━━━━━━━━━━━━━━━━\u001b[0m \u001b[32m13.8/13.8 MB\u001b[0m \u001b[31m74.8 MB/s\u001b[0m eta \u001b[36m0:00:00\u001b[0m\n",
            "\u001b[?25hDownloading nvidia_cuda_nvrtc_cu12-12.4.127-py3-none-manylinux2014_x86_64.whl (24.6 MB)\n",
            "\u001b[2K   \u001b[90m━━━━━━━━━━━━━━━━━━━━━━━━━━━━━━━━━━━━━━━━\u001b[0m \u001b[32m24.6/24.6 MB\u001b[0m \u001b[31m65.1 MB/s\u001b[0m eta \u001b[36m0:00:00\u001b[0m\n",
            "\u001b[?25hDownloading nvidia_cuda_runtime_cu12-12.4.127-py3-none-manylinux2014_x86_64.whl (883 kB)\n",
            "\u001b[2K   \u001b[90m━━━━━━━━━━━━━━━━━━━━━━━━━━━━━━━━━━━━━━━━\u001b[0m \u001b[32m883.7/883.7 kB\u001b[0m \u001b[31m45.4 MB/s\u001b[0m eta \u001b[36m0:00:00\u001b[0m\n",
            "\u001b[?25hDownloading nvidia_cudnn_cu12-9.1.0.70-py3-none-manylinux2014_x86_64.whl (664.8 MB)\n",
            "\u001b[2K   \u001b[90m━━━━━━━━━━━━━━━━━━━━━━━━━━━━━━━━━━━━━━━━\u001b[0m \u001b[32m664.8/664.8 MB\u001b[0m \u001b[31m2.2 MB/s\u001b[0m eta \u001b[36m0:00:00\u001b[0m\n",
            "\u001b[?25hDownloading nvidia_cufft_cu12-11.2.1.3-py3-none-manylinux2014_x86_64.whl (211.5 MB)\n",
            "\u001b[2K   \u001b[90m━━━━━━━━━━━━━━━━━━━━━━━━━━━━━━━━━━━━━━━━\u001b[0m \u001b[32m211.5/211.5 MB\u001b[0m \u001b[31m5.9 MB/s\u001b[0m eta \u001b[36m0:00:00\u001b[0m\n",
            "\u001b[?25hDownloading nvidia_curand_cu12-10.3.5.147-py3-none-manylinux2014_x86_64.whl (56.3 MB)\n",
            "\u001b[2K   \u001b[90m━━━━━━━━━━━━━━━━━━━━━━━━━━━━━━━━━━━━━━━━\u001b[0m \u001b[32m56.3/56.3 MB\u001b[0m \u001b[31m12.1 MB/s\u001b[0m eta \u001b[36m0:00:00\u001b[0m\n",
            "\u001b[?25hDownloading nvidia_cusolver_cu12-11.6.1.9-py3-none-manylinux2014_x86_64.whl (127.9 MB)\n",
            "\u001b[2K   \u001b[90m━━━━━━━━━━━━━━━━━━━━━━━━━━━━━━━━━━━━━━━━\u001b[0m \u001b[32m127.9/127.9 MB\u001b[0m \u001b[31m7.2 MB/s\u001b[0m eta \u001b[36m0:00:00\u001b[0m\n",
            "\u001b[?25hDownloading nvidia_cusparse_cu12-12.3.1.170-py3-none-manylinux2014_x86_64.whl (207.5 MB)\n",
            "\u001b[2K   \u001b[90m━━━━━━━━━━━━━━━━━━━━━━━━━━━━━━━━━━━━━━━━\u001b[0m \u001b[32m207.5/207.5 MB\u001b[0m \u001b[31m6.2 MB/s\u001b[0m eta \u001b[36m0:00:00\u001b[0m\n",
            "\u001b[?25hDownloading nvidia_nvjitlink_cu12-12.4.127-py3-none-manylinux2014_x86_64.whl (21.1 MB)\n",
            "\u001b[2K   \u001b[90m━━━━━━━━━━━━━━━━━━━━━━━━━━━━━━━━━━━━━━━━\u001b[0m \u001b[32m21.1/21.1 MB\u001b[0m \u001b[31m65.2 MB/s\u001b[0m eta \u001b[36m0:00:00\u001b[0m\n",
            "\u001b[?25hInstalling collected packages: nvidia-nvjitlink-cu12, nvidia-curand-cu12, nvidia-cufft-cu12, nvidia-cuda-runtime-cu12, nvidia-cuda-nvrtc-cu12, nvidia-cuda-cupti-cu12, nvidia-cublas-cu12, nvidia-cusparse-cu12, nvidia-cudnn-cu12, nvidia-cusolver-cu12, bert-extractive-summarizer\n",
            "  Attempting uninstall: nvidia-nvjitlink-cu12\n",
            "    Found existing installation: nvidia-nvjitlink-cu12 12.5.82\n",
            "    Uninstalling nvidia-nvjitlink-cu12-12.5.82:\n",
            "      Successfully uninstalled nvidia-nvjitlink-cu12-12.5.82\n",
            "  Attempting uninstall: nvidia-curand-cu12\n",
            "    Found existing installation: nvidia-curand-cu12 10.3.6.82\n",
            "    Uninstalling nvidia-curand-cu12-10.3.6.82:\n",
            "      Successfully uninstalled nvidia-curand-cu12-10.3.6.82\n",
            "  Attempting uninstall: nvidia-cufft-cu12\n",
            "    Found existing installation: nvidia-cufft-cu12 11.2.3.61\n",
            "    Uninstalling nvidia-cufft-cu12-11.2.3.61:\n",
            "      Successfully uninstalled nvidia-cufft-cu12-11.2.3.61\n",
            "  Attempting uninstall: nvidia-cuda-runtime-cu12\n",
            "    Found existing installation: nvidia-cuda-runtime-cu12 12.5.82\n",
            "    Uninstalling nvidia-cuda-runtime-cu12-12.5.82:\n",
            "      Successfully uninstalled nvidia-cuda-runtime-cu12-12.5.82\n",
            "  Attempting uninstall: nvidia-cuda-nvrtc-cu12\n",
            "    Found existing installation: nvidia-cuda-nvrtc-cu12 12.5.82\n",
            "    Uninstalling nvidia-cuda-nvrtc-cu12-12.5.82:\n",
            "      Successfully uninstalled nvidia-cuda-nvrtc-cu12-12.5.82\n",
            "  Attempting uninstall: nvidia-cuda-cupti-cu12\n",
            "    Found existing installation: nvidia-cuda-cupti-cu12 12.5.82\n",
            "    Uninstalling nvidia-cuda-cupti-cu12-12.5.82:\n",
            "      Successfully uninstalled nvidia-cuda-cupti-cu12-12.5.82\n",
            "  Attempting uninstall: nvidia-cublas-cu12\n",
            "    Found existing installation: nvidia-cublas-cu12 12.5.3.2\n",
            "    Uninstalling nvidia-cublas-cu12-12.5.3.2:\n",
            "      Successfully uninstalled nvidia-cublas-cu12-12.5.3.2\n",
            "  Attempting uninstall: nvidia-cusparse-cu12\n",
            "    Found existing installation: nvidia-cusparse-cu12 12.5.1.3\n",
            "    Uninstalling nvidia-cusparse-cu12-12.5.1.3:\n",
            "      Successfully uninstalled nvidia-cusparse-cu12-12.5.1.3\n",
            "  Attempting uninstall: nvidia-cudnn-cu12\n",
            "    Found existing installation: nvidia-cudnn-cu12 9.3.0.75\n",
            "    Uninstalling nvidia-cudnn-cu12-9.3.0.75:\n",
            "      Successfully uninstalled nvidia-cudnn-cu12-9.3.0.75\n",
            "  Attempting uninstall: nvidia-cusolver-cu12\n",
            "    Found existing installation: nvidia-cusolver-cu12 11.6.3.83\n",
            "    Uninstalling nvidia-cusolver-cu12-11.6.3.83:\n",
            "      Successfully uninstalled nvidia-cusolver-cu12-11.6.3.83\n",
            "Successfully installed bert-extractive-summarizer-0.10.1 nvidia-cublas-cu12-12.4.5.8 nvidia-cuda-cupti-cu12-12.4.127 nvidia-cuda-nvrtc-cu12-12.4.127 nvidia-cuda-runtime-cu12-12.4.127 nvidia-cudnn-cu12-9.1.0.70 nvidia-cufft-cu12-11.2.1.3 nvidia-curand-cu12-10.3.5.147 nvidia-cusolver-cu12-11.6.1.9 nvidia-cusparse-cu12-12.3.1.170 nvidia-nvjitlink-cu12-12.4.127\n",
            "Requirement already satisfied: bert-extractive-summarizer in /usr/local/lib/python3.11/dist-packages (0.10.1)\n",
            "Requirement already satisfied: transformers in /usr/local/lib/python3.11/dist-packages (from bert-extractive-summarizer) (4.51.3)\n",
            "Requirement already satisfied: scikit-learn in /usr/local/lib/python3.11/dist-packages (from bert-extractive-summarizer) (1.6.1)\n",
            "Requirement already satisfied: spacy in /usr/local/lib/python3.11/dist-packages (from bert-extractive-summarizer) (3.8.5)\n",
            "Requirement already satisfied: numpy>=1.19.5 in /usr/local/lib/python3.11/dist-packages (from scikit-learn->bert-extractive-summarizer) (2.0.2)\n",
            "Requirement already satisfied: scipy>=1.6.0 in /usr/local/lib/python3.11/dist-packages (from scikit-learn->bert-extractive-summarizer) (1.14.1)\n",
            "Requirement already satisfied: joblib>=1.2.0 in /usr/local/lib/python3.11/dist-packages (from scikit-learn->bert-extractive-summarizer) (1.4.2)\n",
            "Requirement already satisfied: threadpoolctl>=3.1.0 in /usr/local/lib/python3.11/dist-packages (from scikit-learn->bert-extractive-summarizer) (3.6.0)\n",
            "Requirement already satisfied: spacy-legacy<3.1.0,>=3.0.11 in /usr/local/lib/python3.11/dist-packages (from spacy->bert-extractive-summarizer) (3.0.12)\n",
            "Requirement already satisfied: spacy-loggers<2.0.0,>=1.0.0 in /usr/local/lib/python3.11/dist-packages (from spacy->bert-extractive-summarizer) (1.0.5)\n",
            "Requirement already satisfied: murmurhash<1.1.0,>=0.28.0 in /usr/local/lib/python3.11/dist-packages (from spacy->bert-extractive-summarizer) (1.0.12)\n",
            "Requirement already satisfied: cymem<2.1.0,>=2.0.2 in /usr/local/lib/python3.11/dist-packages (from spacy->bert-extractive-summarizer) (2.0.11)\n",
            "Requirement already satisfied: preshed<3.1.0,>=3.0.2 in /usr/local/lib/python3.11/dist-packages (from spacy->bert-extractive-summarizer) (3.0.9)\n",
            "Requirement already satisfied: thinc<8.4.0,>=8.3.4 in /usr/local/lib/python3.11/dist-packages (from spacy->bert-extractive-summarizer) (8.3.6)\n",
            "Requirement already satisfied: wasabi<1.2.0,>=0.9.1 in /usr/local/lib/python3.11/dist-packages (from spacy->bert-extractive-summarizer) (1.1.3)\n",
            "Requirement already satisfied: srsly<3.0.0,>=2.4.3 in /usr/local/lib/python3.11/dist-packages (from spacy->bert-extractive-summarizer) (2.5.1)\n",
            "Requirement already satisfied: catalogue<2.1.0,>=2.0.6 in /usr/local/lib/python3.11/dist-packages (from spacy->bert-extractive-summarizer) (2.0.10)\n",
            "Requirement already satisfied: weasel<0.5.0,>=0.1.0 in /usr/local/lib/python3.11/dist-packages (from spacy->bert-extractive-summarizer) (0.4.1)\n",
            "Requirement already satisfied: typer<1.0.0,>=0.3.0 in /usr/local/lib/python3.11/dist-packages (from spacy->bert-extractive-summarizer) (0.15.2)\n",
            "Requirement already satisfied: tqdm<5.0.0,>=4.38.0 in /usr/local/lib/python3.11/dist-packages (from spacy->bert-extractive-summarizer) (4.67.1)\n",
            "Requirement already satisfied: requests<3.0.0,>=2.13.0 in /usr/local/lib/python3.11/dist-packages (from spacy->bert-extractive-summarizer) (2.32.3)\n",
            "Requirement already satisfied: pydantic!=1.8,!=1.8.1,<3.0.0,>=1.7.4 in /usr/local/lib/python3.11/dist-packages (from spacy->bert-extractive-summarizer) (2.11.3)\n",
            "Requirement already satisfied: jinja2 in /usr/local/lib/python3.11/dist-packages (from spacy->bert-extractive-summarizer) (3.1.6)\n",
            "Requirement already satisfied: setuptools in /usr/local/lib/python3.11/dist-packages (from spacy->bert-extractive-summarizer) (75.2.0)\n",
            "Requirement already satisfied: packaging>=20.0 in /usr/local/lib/python3.11/dist-packages (from spacy->bert-extractive-summarizer) (24.2)\n",
            "Requirement already satisfied: langcodes<4.0.0,>=3.2.0 in /usr/local/lib/python3.11/dist-packages (from spacy->bert-extractive-summarizer) (3.5.0)\n",
            "Requirement already satisfied: filelock in /usr/local/lib/python3.11/dist-packages (from transformers->bert-extractive-summarizer) (3.18.0)\n",
            "Requirement already satisfied: huggingface-hub<1.0,>=0.30.0 in /usr/local/lib/python3.11/dist-packages (from transformers->bert-extractive-summarizer) (0.30.2)\n",
            "Requirement already satisfied: pyyaml>=5.1 in /usr/local/lib/python3.11/dist-packages (from transformers->bert-extractive-summarizer) (6.0.2)\n",
            "Requirement already satisfied: regex!=2019.12.17 in /usr/local/lib/python3.11/dist-packages (from transformers->bert-extractive-summarizer) (2024.11.6)\n",
            "Requirement already satisfied: tokenizers<0.22,>=0.21 in /usr/local/lib/python3.11/dist-packages (from transformers->bert-extractive-summarizer) (0.21.1)\n",
            "Requirement already satisfied: safetensors>=0.4.3 in /usr/local/lib/python3.11/dist-packages (from transformers->bert-extractive-summarizer) (0.5.3)\n",
            "Requirement already satisfied: fsspec>=2023.5.0 in /usr/local/lib/python3.11/dist-packages (from huggingface-hub<1.0,>=0.30.0->transformers->bert-extractive-summarizer) (2024.12.0)\n",
            "Requirement already satisfied: typing-extensions>=3.7.4.3 in /usr/local/lib/python3.11/dist-packages (from huggingface-hub<1.0,>=0.30.0->transformers->bert-extractive-summarizer) (4.13.2)\n",
            "Requirement already satisfied: language-data>=1.2 in /usr/local/lib/python3.11/dist-packages (from langcodes<4.0.0,>=3.2.0->spacy->bert-extractive-summarizer) (1.3.0)\n",
            "Requirement already satisfied: annotated-types>=0.6.0 in /usr/local/lib/python3.11/dist-packages (from pydantic!=1.8,!=1.8.1,<3.0.0,>=1.7.4->spacy->bert-extractive-summarizer) (0.7.0)\n",
            "Requirement already satisfied: pydantic-core==2.33.1 in /usr/local/lib/python3.11/dist-packages (from pydantic!=1.8,!=1.8.1,<3.0.0,>=1.7.4->spacy->bert-extractive-summarizer) (2.33.1)\n",
            "Requirement already satisfied: typing-inspection>=0.4.0 in /usr/local/lib/python3.11/dist-packages (from pydantic!=1.8,!=1.8.1,<3.0.0,>=1.7.4->spacy->bert-extractive-summarizer) (0.4.0)\n",
            "Requirement already satisfied: charset-normalizer<4,>=2 in /usr/local/lib/python3.11/dist-packages (from requests<3.0.0,>=2.13.0->spacy->bert-extractive-summarizer) (3.4.1)\n",
            "Requirement already satisfied: idna<4,>=2.5 in /usr/local/lib/python3.11/dist-packages (from requests<3.0.0,>=2.13.0->spacy->bert-extractive-summarizer) (3.10)\n",
            "Requirement already satisfied: urllib3<3,>=1.21.1 in /usr/local/lib/python3.11/dist-packages (from requests<3.0.0,>=2.13.0->spacy->bert-extractive-summarizer) (2.3.0)\n",
            "Requirement already satisfied: certifi>=2017.4.17 in /usr/local/lib/python3.11/dist-packages (from requests<3.0.0,>=2.13.0->spacy->bert-extractive-summarizer) (2025.1.31)\n",
            "Requirement already satisfied: blis<1.4.0,>=1.3.0 in /usr/local/lib/python3.11/dist-packages (from thinc<8.4.0,>=8.3.4->spacy->bert-extractive-summarizer) (1.3.0)\n",
            "Requirement already satisfied: confection<1.0.0,>=0.0.1 in /usr/local/lib/python3.11/dist-packages (from thinc<8.4.0,>=8.3.4->spacy->bert-extractive-summarizer) (0.1.5)\n",
            "Requirement already satisfied: click>=8.0.0 in /usr/local/lib/python3.11/dist-packages (from typer<1.0.0,>=0.3.0->spacy->bert-extractive-summarizer) (8.1.8)\n",
            "Requirement already satisfied: shellingham>=1.3.0 in /usr/local/lib/python3.11/dist-packages (from typer<1.0.0,>=0.3.0->spacy->bert-extractive-summarizer) (1.5.4)\n",
            "Requirement already satisfied: rich>=10.11.0 in /usr/local/lib/python3.11/dist-packages (from typer<1.0.0,>=0.3.0->spacy->bert-extractive-summarizer) (13.9.4)\n",
            "Requirement already satisfied: cloudpathlib<1.0.0,>=0.7.0 in /usr/local/lib/python3.11/dist-packages (from weasel<0.5.0,>=0.1.0->spacy->bert-extractive-summarizer) (0.21.0)\n",
            "Requirement already satisfied: smart-open<8.0.0,>=5.2.1 in /usr/local/lib/python3.11/dist-packages (from weasel<0.5.0,>=0.1.0->spacy->bert-extractive-summarizer) (7.1.0)\n",
            "Requirement already satisfied: MarkupSafe>=2.0 in /usr/local/lib/python3.11/dist-packages (from jinja2->spacy->bert-extractive-summarizer) (3.0.2)\n",
            "Requirement already satisfied: marisa-trie>=1.1.0 in /usr/local/lib/python3.11/dist-packages (from language-data>=1.2->langcodes<4.0.0,>=3.2.0->spacy->bert-extractive-summarizer) (1.2.1)\n",
            "Requirement already satisfied: markdown-it-py>=2.2.0 in /usr/local/lib/python3.11/dist-packages (from rich>=10.11.0->typer<1.0.0,>=0.3.0->spacy->bert-extractive-summarizer) (3.0.0)\n",
            "Requirement already satisfied: pygments<3.0.0,>=2.13.0 in /usr/local/lib/python3.11/dist-packages (from rich>=10.11.0->typer<1.0.0,>=0.3.0->spacy->bert-extractive-summarizer) (2.18.0)\n",
            "Requirement already satisfied: wrapt in /usr/local/lib/python3.11/dist-packages (from smart-open<8.0.0,>=5.2.1->weasel<0.5.0,>=0.1.0->spacy->bert-extractive-summarizer) (1.17.2)\n",
            "Requirement already satisfied: mdurl~=0.1 in /usr/local/lib/python3.11/dist-packages (from markdown-it-py>=2.2.0->rich>=10.11.0->typer<1.0.0,>=0.3.0->spacy->bert-extractive-summarizer) (0.1.2)\n",
            "Requirement already satisfied: evaluate in /usr/local/lib/python3.11/dist-packages (0.4.3)\n",
            "Requirement already satisfied: datasets>=2.0.0 in /usr/local/lib/python3.11/dist-packages (from evaluate) (3.5.0)\n",
            "Requirement already satisfied: numpy>=1.17 in /usr/local/lib/python3.11/dist-packages (from evaluate) (2.0.2)\n",
            "Requirement already satisfied: dill in /usr/local/lib/python3.11/dist-packages (from evaluate) (0.3.8)\n",
            "Requirement already satisfied: pandas in /usr/local/lib/python3.11/dist-packages (from evaluate) (2.2.2)\n",
            "Requirement already satisfied: requests>=2.19.0 in /usr/local/lib/python3.11/dist-packages (from evaluate) (2.32.3)\n",
            "Requirement already satisfied: tqdm>=4.62.1 in /usr/local/lib/python3.11/dist-packages (from evaluate) (4.67.1)\n",
            "Requirement already satisfied: xxhash in /usr/local/lib/python3.11/dist-packages (from evaluate) (3.5.0)\n",
            "Requirement already satisfied: multiprocess in /usr/local/lib/python3.11/dist-packages (from evaluate) (0.70.16)\n",
            "Requirement already satisfied: fsspec>=2021.05.0 in /usr/local/lib/python3.11/dist-packages (from fsspec[http]>=2021.05.0->evaluate) (2024.12.0)\n",
            "Requirement already satisfied: huggingface-hub>=0.7.0 in /usr/local/lib/python3.11/dist-packages (from evaluate) (0.30.2)\n",
            "Requirement already satisfied: packaging in /usr/local/lib/python3.11/dist-packages (from evaluate) (24.2)\n",
            "Requirement already satisfied: filelock in /usr/local/lib/python3.11/dist-packages (from datasets>=2.0.0->evaluate) (3.18.0)\n",
            "Requirement already satisfied: pyarrow>=15.0.0 in /usr/local/lib/python3.11/dist-packages (from datasets>=2.0.0->evaluate) (18.1.0)\n",
            "Requirement already satisfied: aiohttp in /usr/local/lib/python3.11/dist-packages (from datasets>=2.0.0->evaluate) (3.11.15)\n",
            "Requirement already satisfied: pyyaml>=5.1 in /usr/local/lib/python3.11/dist-packages (from datasets>=2.0.0->evaluate) (6.0.2)\n",
            "Requirement already satisfied: typing-extensions>=3.7.4.3 in /usr/local/lib/python3.11/dist-packages (from huggingface-hub>=0.7.0->evaluate) (4.13.2)\n",
            "Requirement already satisfied: charset-normalizer<4,>=2 in /usr/local/lib/python3.11/dist-packages (from requests>=2.19.0->evaluate) (3.4.1)\n",
            "Requirement already satisfied: idna<4,>=2.5 in /usr/local/lib/python3.11/dist-packages (from requests>=2.19.0->evaluate) (3.10)\n",
            "Requirement already satisfied: urllib3<3,>=1.21.1 in /usr/local/lib/python3.11/dist-packages (from requests>=2.19.0->evaluate) (2.3.0)\n",
            "Requirement already satisfied: certifi>=2017.4.17 in /usr/local/lib/python3.11/dist-packages (from requests>=2.19.0->evaluate) (2025.1.31)\n",
            "Requirement already satisfied: python-dateutil>=2.8.2 in /usr/local/lib/python3.11/dist-packages (from pandas->evaluate) (2.8.2)\n",
            "Requirement already satisfied: pytz>=2020.1 in /usr/local/lib/python3.11/dist-packages (from pandas->evaluate) (2025.2)\n",
            "Requirement already satisfied: tzdata>=2022.7 in /usr/local/lib/python3.11/dist-packages (from pandas->evaluate) (2025.2)\n",
            "Requirement already satisfied: aiohappyeyeballs>=2.3.0 in /usr/local/lib/python3.11/dist-packages (from aiohttp->datasets>=2.0.0->evaluate) (2.6.1)\n",
            "Requirement already satisfied: aiosignal>=1.1.2 in /usr/local/lib/python3.11/dist-packages (from aiohttp->datasets>=2.0.0->evaluate) (1.3.2)\n",
            "Requirement already satisfied: attrs>=17.3.0 in /usr/local/lib/python3.11/dist-packages (from aiohttp->datasets>=2.0.0->evaluate) (25.3.0)\n",
            "Requirement already satisfied: frozenlist>=1.1.1 in /usr/local/lib/python3.11/dist-packages (from aiohttp->datasets>=2.0.0->evaluate) (1.6.0)\n",
            "Requirement already satisfied: multidict<7.0,>=4.5 in /usr/local/lib/python3.11/dist-packages (from aiohttp->datasets>=2.0.0->evaluate) (6.4.3)\n",
            "Requirement already satisfied: propcache>=0.2.0 in /usr/local/lib/python3.11/dist-packages (from aiohttp->datasets>=2.0.0->evaluate) (0.3.1)\n",
            "Requirement already satisfied: yarl<2.0,>=1.17.0 in /usr/local/lib/python3.11/dist-packages (from aiohttp->datasets>=2.0.0->evaluate) (1.20.0)\n",
            "Requirement already satisfied: six>=1.5 in /usr/local/lib/python3.11/dist-packages (from python-dateutil>=2.8.2->pandas->evaluate) (1.17.0)\n"
          ]
        }
      ],
      "source": [
        "# %%\n",
        "import nltk\n",
        "nltk.download('punkt_tab')\n",
        "# %%\n",
        "!pip install sumy evaluate pandas tqdm\n",
        "\n",
        "# %%\n",
        "import nltk\n",
        "nltk.download('punkt')\n",
        "nltk.download('averaged_perceptron_tagger')\n",
        "# %%\n",
        "data='''\n",
        "Engineering advancements have significantly transformed various industries, leveraging cutting-edge technologies such as artificial intelligence, quantum computing, and nanotechnology. In mechanical engineering, additive manufacturing (3D printing) has revolutionized prototyping and mass production, allowing for complex geometries and material efficiency. Computational fluid dynamics (CFD) simulations help optimize aerodynamics in automotive and aerospace engineering, reducing drag and improving fuel efficiency. Robotics, powered by AI and machine learning, is automating industrial processes, enhancing precision in assembly lines, and enabling autonomous vehicles.\n",
        "\n",
        "In electrical and electronics engineering, the rapid evolution of semiconductor technology has led to the development of ultra-efficient processors and AI accelerators, enabling breakthroughs in fields such as edge computing, IoT, and high-performance computing. The integration of 5G networks and advanced communication protocols has enhanced connectivity, paving the way for smart cities, autonomous transportation systems, and remote healthcare solutions. Additionally, advancements in power electronics have contributed to the widespread adoption of renewable energy sources, with smart grids optimizing electricity distribution and energy storage solutions becoming increasingly efficient.\n",
        "\n",
        "Civil and structural engineering have embraced digital twin technology, where real-time sensor data is combined with AI-driven predictive analytics to monitor infrastructure integrity and prevent catastrophic failures. Sustainable construction materials, such as self-healing concrete and carbon-negative cement, are being developed to reduce environmental impact. Earthquake-resistant designs and advanced geotechnical simulations help engineers create more resilient structures.\n",
        "\n",
        "In the field of chemical engineering, breakthroughs in material science have led to the development of advanced polymers, nanomaterials, and biodegradable plastics, revolutionizing industries such as healthcare, aerospace, and consumer electronics. Catalysts engineered through machine learning are optimizing reaction pathways in pharmaceuticals and energy production, significantly improving efficiency and reducing emissions. Moreover, bioengineering and synthetic biology are creating sustainable alternatives to fossil-based products, with engineered microbes producing biofuels, bioplastics, and high-value chemicals.\n",
        "\n",
        "Meanwhile, in software engineering and computer science, AI-driven automation tools enhance code quality, improve cybersecurity defenses, and accelerate software development lifecycles. The rise of blockchain technology has introduced new paradigms in data security, financial transactions, and supply chain management. Quantum computing, though still in its infancy, promises to revolutionize encryption, materials discovery, and complex system simulations by harnessing quantum superposition and entanglement principles.\n",
        "\n",
        "The convergence of these engineering disciplines is driving a new era of technological innovation, where interdisciplinary collaboration and digital transformation redefine traditional processes. From designing ultra-efficient batteries for electric vehicles to using AI in space exploration, the future of engineering lies in sustainable, data-driven, and intelligent systems that push the boundaries of human capability.\n",
        "'''\n",
        "# %%\n",
        "from IPython import get_ipython\n",
        "from IPython.display import display\n",
        "# %%\n",
        "!pip install sumy\n",
        "# %%\n",
        "!pip install sumy evaluate pandas tqdm\n",
        "\n",
        "# %%\n",
        "!pip install bert-extractive-summarizer transformers torch\n",
        "# %%\n",
        "!pip install bert-extractive-summarizer\n",
        "# %%\n",
        "!pip install evaluate\n",
        "# %%\n",
        "from sumy.parsers.plaintext import PlaintextParser\n",
        "from sumy.nlp.tokenizers import Tokenizer\n",
        "from sumy.summarizers.text_rank import TextRankSummarizer\n",
        "\n",
        "# Input text to be summarized\n",
        "input_text = data\n"
      ]
    },
    {
      "cell_type": "code",
      "execution_count": null,
      "metadata": {
        "colab": {
          "base_uri": "https://localhost:8080/"
        },
        "collapsed": true,
        "id": "wozOSEDQfYFy",
        "outputId": "5a246c78-77ef-46dd-edaa-039bb8eda6aa"
      },
      "outputs": [
        {
          "name": "stdout",
          "output_type": "stream",
          "text": [
            "Collecting rouge_score\n",
            "  Downloading rouge_score-0.1.2.tar.gz (17 kB)\n",
            "  Preparing metadata (setup.py) ... \u001b[?25l\u001b[?25hdone\n",
            "Requirement already satisfied: absl-py in /usr/local/lib/python3.11/dist-packages (from rouge_score) (1.4.0)\n",
            "Requirement already satisfied: nltk in /usr/local/lib/python3.11/dist-packages (from rouge_score) (3.9.1)\n",
            "Requirement already satisfied: numpy in /usr/local/lib/python3.11/dist-packages (from rouge_score) (2.0.2)\n",
            "Requirement already satisfied: six>=1.14.0 in /usr/local/lib/python3.11/dist-packages (from rouge_score) (1.17.0)\n",
            "Requirement already satisfied: click in /usr/local/lib/python3.11/dist-packages (from nltk->rouge_score) (8.1.8)\n",
            "Requirement already satisfied: joblib in /usr/local/lib/python3.11/dist-packages (from nltk->rouge_score) (1.4.2)\n",
            "Requirement already satisfied: regex>=2021.8.3 in /usr/local/lib/python3.11/dist-packages (from nltk->rouge_score) (2024.11.6)\n",
            "Requirement already satisfied: tqdm in /usr/local/lib/python3.11/dist-packages (from nltk->rouge_score) (4.67.1)\n",
            "Building wheels for collected packages: rouge_score\n",
            "  Building wheel for rouge_score (setup.py) ... \u001b[?25l\u001b[?25hdone\n",
            "  Created wheel for rouge_score: filename=rouge_score-0.1.2-py3-none-any.whl size=24934 sha256=4ff5a56315cf8c7aa66f08de2652e237249bff6578fecde38db15e88672112c0\n",
            "  Stored in directory: /root/.cache/pip/wheels/1e/19/43/8a442dc83660ca25e163e1bd1f89919284ab0d0c1475475148\n",
            "Successfully built rouge_score\n",
            "Installing collected packages: rouge_score\n",
            "Successfully installed rouge_score-0.1.2\n"
          ]
        }
      ],
      "source": [
        "!pip install rouge_score"
      ]
    },
    {
      "cell_type": "code",
      "execution_count": null,
      "metadata": {
        "colab": {
          "base_uri": "https://localhost:8080/"
        },
        "collapsed": true,
        "id": "m7X_yROEid9h",
        "outputId": "6d3f6c0f-3aa1-4120-9f47-f1aa35f374c3"
      },
      "outputs": [
        {
          "name": "stdout",
          "output_type": "stream",
          "text": [
            "Collecting bert_score\n",
            "  Downloading bert_score-0.3.13-py3-none-any.whl.metadata (15 kB)\n",
            "Requirement already satisfied: torch>=1.0.0 in /usr/local/lib/python3.11/dist-packages (from bert_score) (2.6.0+cu124)\n",
            "Requirement already satisfied: pandas>=1.0.1 in /usr/local/lib/python3.11/dist-packages (from bert_score) (2.2.2)\n",
            "Requirement already satisfied: transformers>=3.0.0 in /usr/local/lib/python3.11/dist-packages (from bert_score) (4.51.3)\n",
            "Requirement already satisfied: numpy in /usr/local/lib/python3.11/dist-packages (from bert_score) (2.0.2)\n",
            "Requirement already satisfied: requests in /usr/local/lib/python3.11/dist-packages (from bert_score) (2.32.3)\n",
            "Requirement already satisfied: tqdm>=4.31.1 in /usr/local/lib/python3.11/dist-packages (from bert_score) (4.67.1)\n",
            "Requirement already satisfied: matplotlib in /usr/local/lib/python3.11/dist-packages (from bert_score) (3.10.0)\n",
            "Requirement already satisfied: packaging>=20.9 in /usr/local/lib/python3.11/dist-packages (from bert_score) (24.2)\n",
            "Requirement already satisfied: python-dateutil>=2.8.2 in /usr/local/lib/python3.11/dist-packages (from pandas>=1.0.1->bert_score) (2.8.2)\n",
            "Requirement already satisfied: pytz>=2020.1 in /usr/local/lib/python3.11/dist-packages (from pandas>=1.0.1->bert_score) (2025.2)\n",
            "Requirement already satisfied: tzdata>=2022.7 in /usr/local/lib/python3.11/dist-packages (from pandas>=1.0.1->bert_score) (2025.2)\n",
            "Requirement already satisfied: filelock in /usr/local/lib/python3.11/dist-packages (from torch>=1.0.0->bert_score) (3.18.0)\n",
            "Requirement already satisfied: typing-extensions>=4.10.0 in /usr/local/lib/python3.11/dist-packages (from torch>=1.0.0->bert_score) (4.13.2)\n",
            "Requirement already satisfied: networkx in /usr/local/lib/python3.11/dist-packages (from torch>=1.0.0->bert_score) (3.4.2)\n",
            "Requirement already satisfied: jinja2 in /usr/local/lib/python3.11/dist-packages (from torch>=1.0.0->bert_score) (3.1.6)\n",
            "Requirement already satisfied: fsspec in /usr/local/lib/python3.11/dist-packages (from torch>=1.0.0->bert_score) (2024.12.0)\n",
            "Requirement already satisfied: nvidia-cuda-nvrtc-cu12==12.4.127 in /usr/local/lib/python3.11/dist-packages (from torch>=1.0.0->bert_score) (12.4.127)\n",
            "Requirement already satisfied: nvidia-cuda-runtime-cu12==12.4.127 in /usr/local/lib/python3.11/dist-packages (from torch>=1.0.0->bert_score) (12.4.127)\n",
            "Requirement already satisfied: nvidia-cuda-cupti-cu12==12.4.127 in /usr/local/lib/python3.11/dist-packages (from torch>=1.0.0->bert_score) (12.4.127)\n",
            "Requirement already satisfied: nvidia-cudnn-cu12==9.1.0.70 in /usr/local/lib/python3.11/dist-packages (from torch>=1.0.0->bert_score) (9.1.0.70)\n",
            "Requirement already satisfied: nvidia-cublas-cu12==12.4.5.8 in /usr/local/lib/python3.11/dist-packages (from torch>=1.0.0->bert_score) (12.4.5.8)\n",
            "Requirement already satisfied: nvidia-cufft-cu12==11.2.1.3 in /usr/local/lib/python3.11/dist-packages (from torch>=1.0.0->bert_score) (11.2.1.3)\n",
            "Requirement already satisfied: nvidia-curand-cu12==10.3.5.147 in /usr/local/lib/python3.11/dist-packages (from torch>=1.0.0->bert_score) (10.3.5.147)\n",
            "Requirement already satisfied: nvidia-cusolver-cu12==11.6.1.9 in /usr/local/lib/python3.11/dist-packages (from torch>=1.0.0->bert_score) (11.6.1.9)\n",
            "Requirement already satisfied: nvidia-cusparse-cu12==12.3.1.170 in /usr/local/lib/python3.11/dist-packages (from torch>=1.0.0->bert_score) (12.3.1.170)\n",
            "Requirement already satisfied: nvidia-cusparselt-cu12==0.6.2 in /usr/local/lib/python3.11/dist-packages (from torch>=1.0.0->bert_score) (0.6.2)\n",
            "Requirement already satisfied: nvidia-nccl-cu12==2.21.5 in /usr/local/lib/python3.11/dist-packages (from torch>=1.0.0->bert_score) (2.21.5)\n",
            "Requirement already satisfied: nvidia-nvtx-cu12==12.4.127 in /usr/local/lib/python3.11/dist-packages (from torch>=1.0.0->bert_score) (12.4.127)\n",
            "Requirement already satisfied: nvidia-nvjitlink-cu12==12.4.127 in /usr/local/lib/python3.11/dist-packages (from torch>=1.0.0->bert_score) (12.4.127)\n",
            "Requirement already satisfied: triton==3.2.0 in /usr/local/lib/python3.11/dist-packages (from torch>=1.0.0->bert_score) (3.2.0)\n",
            "Requirement already satisfied: sympy==1.13.1 in /usr/local/lib/python3.11/dist-packages (from torch>=1.0.0->bert_score) (1.13.1)\n",
            "Requirement already satisfied: mpmath<1.4,>=1.1.0 in /usr/local/lib/python3.11/dist-packages (from sympy==1.13.1->torch>=1.0.0->bert_score) (1.3.0)\n",
            "Requirement already satisfied: huggingface-hub<1.0,>=0.30.0 in /usr/local/lib/python3.11/dist-packages (from transformers>=3.0.0->bert_score) (0.30.2)\n",
            "Requirement already satisfied: pyyaml>=5.1 in /usr/local/lib/python3.11/dist-packages (from transformers>=3.0.0->bert_score) (6.0.2)\n",
            "Requirement already satisfied: regex!=2019.12.17 in /usr/local/lib/python3.11/dist-packages (from transformers>=3.0.0->bert_score) (2024.11.6)\n",
            "Requirement already satisfied: tokenizers<0.22,>=0.21 in /usr/local/lib/python3.11/dist-packages (from transformers>=3.0.0->bert_score) (0.21.1)\n",
            "Requirement already satisfied: safetensors>=0.4.3 in /usr/local/lib/python3.11/dist-packages (from transformers>=3.0.0->bert_score) (0.5.3)\n",
            "Requirement already satisfied: contourpy>=1.0.1 in /usr/local/lib/python3.11/dist-packages (from matplotlib->bert_score) (1.3.2)\n",
            "Requirement already satisfied: cycler>=0.10 in /usr/local/lib/python3.11/dist-packages (from matplotlib->bert_score) (0.12.1)\n",
            "Requirement already satisfied: fonttools>=4.22.0 in /usr/local/lib/python3.11/dist-packages (from matplotlib->bert_score) (4.57.0)\n",
            "Requirement already satisfied: kiwisolver>=1.3.1 in /usr/local/lib/python3.11/dist-packages (from matplotlib->bert_score) (1.4.8)\n",
            "Requirement already satisfied: pillow>=8 in /usr/local/lib/python3.11/dist-packages (from matplotlib->bert_score) (11.1.0)\n",
            "Requirement already satisfied: pyparsing>=2.3.1 in /usr/local/lib/python3.11/dist-packages (from matplotlib->bert_score) (3.2.3)\n",
            "Requirement already satisfied: charset-normalizer<4,>=2 in /usr/local/lib/python3.11/dist-packages (from requests->bert_score) (3.4.1)\n",
            "Requirement already satisfied: idna<4,>=2.5 in /usr/local/lib/python3.11/dist-packages (from requests->bert_score) (3.10)\n",
            "Requirement already satisfied: urllib3<3,>=1.21.1 in /usr/local/lib/python3.11/dist-packages (from requests->bert_score) (2.3.0)\n",
            "Requirement already satisfied: certifi>=2017.4.17 in /usr/local/lib/python3.11/dist-packages (from requests->bert_score) (2025.1.31)\n",
            "Requirement already satisfied: six>=1.5 in /usr/local/lib/python3.11/dist-packages (from python-dateutil>=2.8.2->pandas>=1.0.1->bert_score) (1.17.0)\n",
            "Requirement already satisfied: MarkupSafe>=2.0 in /usr/local/lib/python3.11/dist-packages (from jinja2->torch>=1.0.0->bert_score) (3.0.2)\n",
            "Downloading bert_score-0.3.13-py3-none-any.whl (61 kB)\n",
            "\u001b[2K   \u001b[90m━━━━━━━━━━━━━━━━━━━━━━━━━━━━━━━━━━━━━━━━\u001b[0m \u001b[32m61.1/61.1 kB\u001b[0m \u001b[31m4.6 MB/s\u001b[0m eta \u001b[36m0:00:00\u001b[0m\n",
            "\u001b[?25hInstalling collected packages: bert_score\n",
            "Successfully installed bert_score-0.3.13\n"
          ]
        }
      ],
      "source": [
        "!pip install bert_score"
      ]
    },
    {
      "cell_type": "code",
      "execution_count": null,
      "metadata": {
        "id": "vAz6vmql7h5J"
      },
      "outputs": [],
      "source": []
    },
    {
      "cell_type": "code",
      "execution_count": null,
      "metadata": {
        "collapsed": true,
        "id": "5PBS1AKka2kc"
      },
      "outputs": [],
      "source": [
        "# pip install sumy"
      ]
    },
    {
      "cell_type": "code",
      "execution_count": null,
      "metadata": {
        "collapsed": true,
        "id": "tQJCXpSpbYH6"
      },
      "outputs": [],
      "source": [
        "# pip install sumy evaluate pandas tqdm\n"
      ]
    },
    {
      "cell_type": "code",
      "execution_count": null,
      "metadata": {
        "id": "1Zvhb3jhbl1u"
      },
      "outputs": [],
      "source": [
        "# import nltk\n",
        "# nltk.download('punkt_tab')"
      ]
    },
    {
      "cell_type": "code",
      "execution_count": null,
      "metadata": {
        "collapsed": true,
        "id": "HbfIidAnbv9f"
      },
      "outputs": [],
      "source": [
        "# pip install bert-extractive-summarizer transformers torch"
      ]
    },
    {
      "cell_type": "code",
      "execution_count": null,
      "metadata": {
        "collapsed": true,
        "id": "ND1hTWNKbyRz"
      },
      "outputs": [],
      "source": [
        "# !pip install bert-extractive-summarizer"
      ]
    },
    {
      "cell_type": "code",
      "execution_count": null,
      "metadata": {
        "collapsed": true,
        "id": "aCvEzX8bb3mi"
      },
      "outputs": [],
      "source": []
    },
    {
      "cell_type": "code",
      "execution_count": null,
      "metadata": {
        "collapsed": true,
        "id": "YhFkLBEjdEa5"
      },
      "outputs": [],
      "source": [
        "# pip install sumy evaluate pandas tqdm\n"
      ]
    },
    {
      "cell_type": "code",
      "execution_count": null,
      "metadata": {
        "collapsed": true,
        "id": "5CLUBMfuc3DG"
      },
      "outputs": [],
      "source": [
        "# import nltk\n",
        "# nltk.download('punkt')\n",
        "# nltk.download('averaged_perceptron_tagger')"
      ]
    },
    {
      "cell_type": "code",
      "execution_count": null,
      "metadata": {
        "colab": {
          "base_uri": "https://localhost:8080/"
        },
        "id": "Q5nP0hga2Hod",
        "outputId": "219f93d4-b864-479e-af83-0e3ca86e8e34"
      },
      "outputs": [
        {
          "name": "stdout",
          "output_type": "stream",
          "text": [
            "Mounted at /content/drive\n"
          ]
        }
      ],
      "source": [
        "from google.colab import drive\n",
        "drive.mount('/content/drive')"
      ]
    },
    {
      "cell_type": "code",
      "execution_count": null,
      "metadata": {
        "id": "LJjEKp8C6DM1"
      },
      "outputs": [],
      "source": [
        "import pandas as pd\n",
        "import chardet\n",
        "\n",
        "# Detect file encoding\n",
        "with open(\"/content/drive/MyDrive/TextSummarization.csv\", 'rb') as f:\n",
        "    result = chardet.detect(f.read())\n",
        "encoding = result['encoding']\n",
        "\n",
        "# Read CSV with detected encoding\n",
        "merged_df = pd.read_csv(\"/content/drive/MyDrive/TextSummarization.csv\",encoding=encoding)"
      ]
    },
    {
      "cell_type": "code",
      "execution_count": null,
      "metadata": {
        "colab": {
          "base_uri": "https://localhost:8080/"
        },
        "id": "E8PT4iPL6R1N",
        "outputId": "a8bc2a01-7929-4d7e-913c-8bb904004ff6"
      },
      "outputs": [
        {
          "name": "stdout",
          "output_type": "stream",
          "text": [
            "                                                text  \\\n",
            "0  Robotics is advancing rapidly with the integra...   \n",
            "1  Supply chain optimization uses mathematical mo...   \n",
            "2  Quantum computing leverages quantum mechanical...   \n",
            "3  Thermodynamics is the branch of physics that d...   \n",
            "4  Operating systems serve as an interface betwee...   \n",
            "\n",
            "                                 abstractive_summary  \\\n",
            "0  The integration of AI has accelerated robotics...   \n",
            "1  Supply chain optimization employs mathematical...   \n",
            "2  Quantum computing utilizes quantum mechanical ...   \n",
            "3  Thermodynamics is the physics branch studying ...   \n",
            "4  Operating systems function as interfaces betwe...   \n",
            "\n",
            "                                  extractive_summary topic  \n",
            "0  Modern robots can now perceive their environme...   NaN  \n",
            "1  Supply chain optimization uses mathematical mo...   NaN  \n",
            "2  Unlike classical computers that use bits repre...   NaN  \n",
            "3  Thermodynamics is the branch of physics that d...   NaN  \n",
            "4  Core functions include memory management, proc...   NaN  \n"
          ]
        },
        {
          "data": {
            "text/plain": [
              "(161, 4)"
            ]
          },
          "execution_count": 14,
          "metadata": {},
          "output_type": "execute_result"
        }
      ],
      "source": [
        "print(merged_df.head())\n",
        "merged_df.shape"
      ]
    },
    {
      "cell_type": "code",
      "execution_count": null,
      "metadata": {
        "id": "vScahhOu9AD-"
      },
      "outputs": [],
      "source": [
        "# merged_df = pd.concat([df1, df2, df3,df4,df5], ignore_index=True)\n",
        "# print(merged_df.head())\n",
        "# merged_df.shape"
      ]
    },
    {
      "cell_type": "code",
      "execution_count": null,
      "metadata": {
        "id": "j44JP2A4TEVH"
      },
      "outputs": [],
      "source": [
        "# from google.colab import files\n",
        "# merged_df.to_csv('merged_df.csv', index=False) # Save the DataFrame to a CSV file first\n",
        "# files.download(\"merged_df.csv\") #Then Download"
      ]
    },
    {
      "cell_type": "markdown",
      "metadata": {
        "id": "PLTco-Hrb9L4"
      },
      "source": [
        "# **Text rank**"
      ]
    },
    {
      "cell_type": "code",
      "execution_count": null,
      "metadata": {
        "id": "-URa2VLYcQ-L"
      },
      "outputs": [],
      "source": [
        "from sumy.parsers.plaintext import PlaintextParser\n",
        "from sumy.nlp.tokenizers import Tokenizer\n",
        "from sumy.summarizers.text_rank import TextRankSummarizer\n",
        "\n",
        "# Input text to be summarized\n",
        "input_text = data\n",
        "\n",
        "# Parse the input text\n",
        "parser = PlaintextParser.from_string(input_text, Tokenizer(\"english\"))\n",
        "\n",
        "# Create a TextRank summarizer\n",
        "summarizer = TextRankSummarizer()\n",
        "\n"
      ]
    },
    {
      "cell_type": "code",
      "execution_count": null,
      "metadata": {
        "colab": {
          "base_uri": "https://localhost:8080/"
        },
        "id": "gtGNAyWacYM1",
        "outputId": "5edb3cff-57d2-45a9-a257-5ef6ffa0ee01"
      },
      "outputs": [
        {
          "name": "stdout",
          "output_type": "stream",
          "text": [
            "\n",
            "TextRank Summary:\n",
            "\n",
            "-->  In electrical and electronics engineering, the rapid evolution of semiconductor technology has led to the development of ultra-efficient processors and AI accelerators, enabling breakthroughs in fields such as edge computing, IoT, and high-performance computing.\n",
            "-->  The integration of 5G networks and advanced communication protocols has enhanced connectivity, paving the way for smart cities, autonomous transportation systems, and remote healthcare solutions.\n",
            "-->  In the field of chemical engineering, breakthroughs in material science have led to the development of advanced polymers, nanomaterials, and biodegradable plastics, revolutionizing industries such as healthcare, aerospace, and consumer electronics.\n",
            "-->  Quantum computing, though still in its infancy, promises to revolutionize encryption, materials discovery, and complex system simulations by harnessing quantum superposition and entanglement principles.\n",
            "-->  From designing ultra-efficient batteries for electric vehicles to using AI in space exploration, the future of engineering lies in sustainable, data-driven, and intelligent systems that push the boundaries of human capability.\n"
          ]
        }
      ],
      "source": [
        "# Generate the summary\n",
        "summary = summarizer(parser.document, sentences_count=5)  # Set desired number of summary sentences\n",
        "\n",
        "print(\"\\nTextRank Summary:\\n\")\n",
        "for sentence in summary:\n",
        "    print(\"--> \",sentence)\n"
      ]
    },
    {
      "cell_type": "code",
      "execution_count": null,
      "metadata": {
        "colab": {
          "base_uri": "https://localhost:8080/"
        },
        "id": "jG1ON6OtiTSI",
        "outputId": "21699aab-a008-49ba-e852-d58bec23d89b"
      },
      "outputs": [
        {
          "name": "stdout",
          "output_type": "stream",
          "text": [
            "Requirement already satisfied: rouge-score in /usr/local/lib/python3.11/dist-packages (0.1.2)\n",
            "Requirement already satisfied: absl-py in /usr/local/lib/python3.11/dist-packages (from rouge-score) (1.4.0)\n",
            "Requirement already satisfied: nltk in /usr/local/lib/python3.11/dist-packages (from rouge-score) (3.9.1)\n",
            "Requirement already satisfied: numpy in /usr/local/lib/python3.11/dist-packages (from rouge-score) (2.0.2)\n",
            "Requirement already satisfied: six>=1.14.0 in /usr/local/lib/python3.11/dist-packages (from rouge-score) (1.17.0)\n",
            "Requirement already satisfied: click in /usr/local/lib/python3.11/dist-packages (from nltk->rouge-score) (8.1.8)\n",
            "Requirement already satisfied: joblib in /usr/local/lib/python3.11/dist-packages (from nltk->rouge-score) (1.4.2)\n",
            "Requirement already satisfied: regex>=2021.8.3 in /usr/local/lib/python3.11/dist-packages (from nltk->rouge-score) (2024.11.6)\n",
            "Requirement already satisfied: tqdm in /usr/local/lib/python3.11/dist-packages (from nltk->rouge-score) (4.67.1)\n"
          ]
        }
      ],
      "source": [
        "!pip install rouge-score"
      ]
    },
    {
      "cell_type": "code",
      "execution_count": null,
      "metadata": {
        "colab": {
          "base_uri": "https://localhost:8080/",
          "height": 774,
          "referenced_widgets": [
            "1fe02935421c4a07aeed3f13636a7d7a",
            "1d332f3eb1354adca2a879a0869d72fa",
            "c45aab7f0a724f04aaee056ce87f8fd3",
            "0ac82e3b4b38494582c64ba4fc0b8277",
            "d45aa09c31e6489d91443e49ed2fff9b",
            "a0060e22ce9040be995bfd38b356bbcb",
            "c5839cce9894497db69926a8543dd667",
            "1d581c0e912f47f382146d5a9995a0e4",
            "ceb41931bd2b4686b24c2bdc7e4395b6",
            "b14e1e4ab81145759b2581e4be9c3ffc",
            "d2d9cb6897594f9eb911feca780caf0d",
            "8408718badf84bc1b2565427af26f08e",
            "60340cb0ffd348cc9cba276b914ea8d1",
            "eb3cc8bcb78049dbbd802751fae411df",
            "507af8f7c7e247a8ae16a5494b770ce6",
            "ef9a2e835314497fa214c9dfb3908975",
            "81e5a8ab5a5e40ec97efe573b24d4ef0",
            "8e76b1593178464f85c49819cbaead24",
            "1607e9f228e24707a2f49583fc1b41ea",
            "5e1d0de315b84cfebbfc6f6e1aab632e",
            "244071a60fc14755a50091a1695ccfc6",
            "9499a755ffe745018d81be49575025bf",
            "1fcd529958d343b597bb414b0c4026d1",
            "372f12b82f464e36ba0f4a314cf4730d",
            "0ff332bb9ff146fb993922657fa30310",
            "1f70d833fba04d6fbcfd05f577891a24",
            "d52dbbde4bbb4afeb1a6685713cf069c",
            "7ff839438af547099fc81852e59181d7",
            "62339e5ea0df4ee89b0be5fccb05a1f1",
            "25e9ea11523a42f5a963a42c56969e0a",
            "f53ead8249f74b64a1084ac2c9b805ae",
            "6331573768154951a056110529351b98",
            "6415069d80c64c458f5107bf6d08dc83",
            "0fa8b72ba25841fd8bbd664a235e23ed",
            "bc4f12977b1b49c2876f78514d478a1f",
            "1469bc18cbe041d991ce9993872e753a",
            "2392621bc9f84f998ea5c32f5195d7ea",
            "fd4b03538f794429a7442f64ba45cac1",
            "5e2df26883cd49a3816850728bbcde9e",
            "111045d52618401b8681c2a0cef50541",
            "a60f06fb43314fd6b3481da40130ac39",
            "b1801ea4987d4292a558871dedfc69f1",
            "e750aa0743244d0cb49fbbfea200086c",
            "8442143820a640c5add8fe475eae6522",
            "33fb3109752a4b23a8b37b7a244bde57",
            "88aee9737f5c432599f057182a0c0409",
            "158dd98b512d48ff99750c6015124157",
            "5c8d10d12f4f44868442e12234b43f51",
            "9d86fd7726224b02b95dc2879ea4ec23",
            "73f78e6fcf664ec4a4bcc742663f50fe",
            "4813cfc84d944a26a3c7c01973a327b3",
            "c324c0e876f34091a306a4994b240e0e",
            "f95626bbadf447ee9c92827823adec73",
            "1cbbc442e60c41b39f1bc493ad633898",
            "8a701ed6c00f40b7aaa5998e34e0bf41",
            "66b19a841c764d6dba519b5162f965ab",
            "0a40f5ff98c0441dbf1a79657eec9267",
            "1621088d82fb481ab5421aa9fa4ab3d3",
            "2b972eab42d3401b9582402cd795a3ae",
            "d2838f1fb0a149108de677aff7ed596a",
            "a77879c2c874407b98ee3092c0f76606",
            "d3c1866dc24f470890bcecdd20fe85bb",
            "ff9ed14c445a427ea711b01cfba4bb41",
            "663f0427f8f846a1911b2d1e584c72a7",
            "fcdd91cfb1694311a2bf20442fbf26eb",
            "37c419442376479bab4f5f841112540d",
            "bc40cb9c8929473cb2c3ae6ffb299d16",
            "c6c3f5b6060645159ee5fedbb9137035",
            "898e3eb83f9d47669a97249d8aea6b24",
            "0f194796e44b4ee8a5c176db65f95c6f",
            "ed7370a1f12a4cac8d78db2f876bab9c",
            "3cd18f899c0c4754a9834f34b2443475",
            "ada6dbefe24041fcb8186b9966a67e88",
            "37889139ce874159ac5565ec96049430",
            "a2935565c0d44aaeb2c18f68fe152041",
            "65f844bf01b3452397f825aabc9e0687",
            "e912fd0eab014cb1b5f2a5e18e19ce73",
            "d4d1c174da424775947f6de4429c0708",
            "e6b2e636b6354862aa470da46e2beb91",
            "50acc849283a465ba7eca4c06cdbb610",
            "2541b4353ac34a0ab8c4b60ba733096a",
            "729d7d9acfc74f17aecc49154fdc4175",
            "5a956bd656444cf88f466c0f499b3d82",
            "d6f1ffb510454a50afa08833dfa8cede",
            "7d21d37470fc4d6682758aaf00bf3a08",
            "0347de8d2136491695ad375c7006ef2c",
            "5cc36f2f5a1f4f6097395e4ee9d29a4b",
            "c206c396562e4c3db5686faee3dd841b",
            "3cca406af83740fa9e47c4132c45a55e",
            "43c3af8cddaa4e77b8cb708f5862fe06",
            "b3fb95b863314449b9308e3c7fae56f1",
            "5e6a5a1e768a4523b65ef92072c2b36a",
            "651a53481dcc4daabab2ff0e3e7a6d3b",
            "9332b6bcec6543fc835697e7b0b6ae7c",
            "1d33da137bb6496e8285871e8e4b51ec",
            "e02ec6858d304aae8f024a25c5049c3a",
            "cfd703741914441b8b0f0b4937fcb1b3",
            "1ccaf4a3da9443779b5c988ca7bbc967",
            "be960b42ac6a486a98e346dbd716570b"
          ]
        },
        "id": "nic0ykaQJTwd",
        "outputId": "5e49e0f5-2731-48e1-da2f-9e240c29ed3f"
      },
      "outputs": [
        {
          "name": "stderr",
          "output_type": "stream",
          "text": [
            "100%|██████████| 161/161 [00:04<00:00, 36.53it/s]\n",
            "/usr/local/lib/python3.11/dist-packages/huggingface_hub/utils/_auth.py:94: UserWarning: \n",
            "The secret `HF_TOKEN` does not exist in your Colab secrets.\n",
            "To authenticate with the Hugging Face Hub, create a token in your settings tab (https://huggingface.co/settings/tokens), set it as secret in your Google Colab and restart your session.\n",
            "You will be able to reuse this secret in all of your notebooks.\n",
            "Please note that authentication is recommended but still optional to access public models or datasets.\n",
            "  warnings.warn(\n"
          ]
        },
        {
          "data": {
            "application/vnd.jupyter.widget-view+json": {
              "model_id": "1fe02935421c4a07aeed3f13636a7d7a",
              "version_major": 2,
              "version_minor": 0
            },
            "text/plain": [
              "Downloading builder script:   0%|          | 0.00/6.27k [00:00<?, ?B/s]"
            ]
          },
          "metadata": {},
          "output_type": "display_data"
        },
        {
          "data": {
            "application/vnd.jupyter.widget-view+json": {
              "model_id": "8408718badf84bc1b2565427af26f08e",
              "version_major": 2,
              "version_minor": 0
            },
            "text/plain": [
              "Downloading builder script:   0%|          | 0.00/7.02k [00:00<?, ?B/s]"
            ]
          },
          "metadata": {},
          "output_type": "display_data"
        },
        {
          "name": "stderr",
          "output_type": "stream",
          "text": [
            "[nltk_data] Downloading package wordnet to /root/nltk_data...\n",
            "[nltk_data] Downloading package punkt_tab to /root/nltk_data...\n",
            "[nltk_data]   Package punkt_tab is already up-to-date!\n",
            "[nltk_data] Downloading package omw-1.4 to /root/nltk_data...\n"
          ]
        },
        {
          "data": {
            "application/vnd.jupyter.widget-view+json": {
              "model_id": "1fcd529958d343b597bb414b0c4026d1",
              "version_major": 2,
              "version_minor": 0
            },
            "text/plain": [
              "Downloading builder script:   0%|          | 0.00/7.95k [00:00<?, ?B/s]"
            ]
          },
          "metadata": {},
          "output_type": "display_data"
        },
        {
          "data": {
            "application/vnd.jupyter.widget-view+json": {
              "model_id": "0fa8b72ba25841fd8bbd664a235e23ed",
              "version_major": 2,
              "version_minor": 0
            },
            "text/plain": [
              "tokenizer_config.json:   0%|          | 0.00/25.0 [00:00<?, ?B/s]"
            ]
          },
          "metadata": {},
          "output_type": "display_data"
        },
        {
          "data": {
            "application/vnd.jupyter.widget-view+json": {
              "model_id": "33fb3109752a4b23a8b37b7a244bde57",
              "version_major": 2,
              "version_minor": 0
            },
            "text/plain": [
              "config.json:   0%|          | 0.00/482 [00:00<?, ?B/s]"
            ]
          },
          "metadata": {},
          "output_type": "display_data"
        },
        {
          "data": {
            "application/vnd.jupyter.widget-view+json": {
              "model_id": "66b19a841c764d6dba519b5162f965ab",
              "version_major": 2,
              "version_minor": 0
            },
            "text/plain": [
              "vocab.json:   0%|          | 0.00/899k [00:00<?, ?B/s]"
            ]
          },
          "metadata": {},
          "output_type": "display_data"
        },
        {
          "data": {
            "application/vnd.jupyter.widget-view+json": {
              "model_id": "bc40cb9c8929473cb2c3ae6ffb299d16",
              "version_major": 2,
              "version_minor": 0
            },
            "text/plain": [
              "merges.txt:   0%|          | 0.00/456k [00:00<?, ?B/s]"
            ]
          },
          "metadata": {},
          "output_type": "display_data"
        },
        {
          "data": {
            "application/vnd.jupyter.widget-view+json": {
              "model_id": "d4d1c174da424775947f6de4429c0708",
              "version_major": 2,
              "version_minor": 0
            },
            "text/plain": [
              "tokenizer.json:   0%|          | 0.00/1.36M [00:00<?, ?B/s]"
            ]
          },
          "metadata": {},
          "output_type": "display_data"
        },
        {
          "name": "stderr",
          "output_type": "stream",
          "text": [
            "Xet Storage is enabled for this repo, but the 'hf_xet' package is not installed. Falling back to regular HTTP download. For better performance, install the package with: `pip install huggingface_hub[hf_xet]` or `pip install hf_xet`\n",
            "WARNING:huggingface_hub.file_download:Xet Storage is enabled for this repo, but the 'hf_xet' package is not installed. Falling back to regular HTTP download. For better performance, install the package with: `pip install huggingface_hub[hf_xet]` or `pip install hf_xet`\n"
          ]
        },
        {
          "data": {
            "application/vnd.jupyter.widget-view+json": {
              "model_id": "3cca406af83740fa9e47c4132c45a55e",
              "version_major": 2,
              "version_minor": 0
            },
            "text/plain": [
              "model.safetensors:   0%|          | 0.00/1.42G [00:00<?, ?B/s]"
            ]
          },
          "metadata": {},
          "output_type": "display_data"
        },
        {
          "name": "stderr",
          "output_type": "stream",
          "text": [
            "Some weights of RobertaModel were not initialized from the model checkpoint at roberta-large and are newly initialized: ['pooler.dense.bias', 'pooler.dense.weight']\n",
            "You should probably TRAIN this model on a down-stream task to be able to use it for predictions and inference.\n"
          ]
        },
        {
          "name": "stdout",
          "output_type": "stream",
          "text": [
            "\n",
            "📊 Evaluation Scores for TextRank Extractive Summarization\n",
            "\n",
            " --> ROUGE:\n",
            "\t  ROUGE1   : 0.6200\n",
            "\t  ROUGE2   : 0.5530\n",
            "\t  ROUGEL   : 0.6018\n",
            "\t  ROUGELSUM: 0.6014\n",
            " -->METEOR     : 0.7272\n",
            " --> BERTScore  : 0.9303\n"
          ]
        }
      ],
      "source": [
        "import pandas as pd\n",
        "from tqdm import tqdm\n",
        "from sumy.parsers.plaintext import PlaintextParser\n",
        "from sumy.nlp.tokenizers import Tokenizer\n",
        "from sumy.summarizers.text_rank import TextRankSummarizer\n",
        "import evaluate\n",
        "\n",
        "# Initialize TextRank summarizer\n",
        "summarizer = TextRankSummarizer()\n",
        "\n",
        "# Prepare predictions and references\n",
        "predictions = []\n",
        "references = []\n",
        "\n",
        "for _, row in tqdm(merged_df.iterrows(), total=len(merged_df)):\n",
        "    article = row['text']\n",
        "    ref = row['extractive_summary']\n",
        "\n",
        "    if pd.isna(article) or pd.isna(ref):\n",
        "        continue\n",
        "\n",
        "    parser = PlaintextParser.from_string(article, Tokenizer(\"english\"))\n",
        "    summary = summarizer(parser.document, sentences_count=3)  # Adjust number of summary sentences\n",
        "\n",
        "    pred = \" \".join(str(sentence) for sentence in summary)\n",
        "\n",
        "    predictions.append(pred)\n",
        "    references.append(ref)\n",
        "\n",
        "# Load metrics\n",
        "rouge = evaluate.load(\"rouge\")\n",
        "meteor = evaluate.load(\"meteor\")\n",
        "bertscore = evaluate.load(\"bertscore\")\n",
        "\n",
        "# Compute scores\n",
        "rouge_results = rouge.compute(predictions=predictions, references=references)\n",
        "meteor_results = meteor.compute(predictions=predictions, references=references)\n",
        "bertscore_results = bertscore.compute(predictions=predictions, references=references, lang=\"en\")\n",
        "bertscore_f1_avg = sum(bertscore_results[\"f1\"]) / len(bertscore_results[\"f1\"])\n",
        "\n",
        "# Print results\n",
        "print(\"\\n📊 Evaluation Scores for TextRank Extractive Summarization\")\n",
        "print(\"\\n --> ROUGE:\")\n",
        "for metric, score in rouge_results.items():\n",
        "    print(f\"\\t  {metric.upper():<9}: {score:.4f}\")\n",
        "print(f\" -->METEOR     : {meteor_results['meteor']:.4f}\")\n",
        "print(f\" --> BERTScore  : {bertscore_f1_avg:.4f}\")\n"
      ]
    },
    {
      "cell_type": "markdown",
      "metadata": {
        "id": "VWIIAuXz7m_N"
      },
      "source": [
        "# **Bert Sum**"
      ]
    },
    {
      "cell_type": "code",
      "execution_count": null,
      "metadata": {
        "colab": {
          "base_uri": "https://localhost:8080/"
        },
        "collapsed": true,
        "id": "qZnksBTP9Xte",
        "outputId": "ee1d8987-90b1-4769-d69d-09c3b816e8d9"
      },
      "outputs": [
        {
          "name": "stdout",
          "output_type": "stream",
          "text": [
            "Requirement already satisfied: bert-extractive-summarizer in /usr/local/lib/python3.11/dist-packages (0.10.1)\n",
            "Requirement already satisfied: transformers in /usr/local/lib/python3.11/dist-packages (4.51.3)\n",
            "Requirement already satisfied: torch in /usr/local/lib/python3.11/dist-packages (2.6.0+cu124)\n",
            "Requirement already satisfied: scikit-learn in /usr/local/lib/python3.11/dist-packages (from bert-extractive-summarizer) (1.6.1)\n",
            "Requirement already satisfied: spacy in /usr/local/lib/python3.11/dist-packages (from bert-extractive-summarizer) (3.8.5)\n",
            "Requirement already satisfied: filelock in /usr/local/lib/python3.11/dist-packages (from transformers) (3.18.0)\n",
            "Requirement already satisfied: huggingface-hub<1.0,>=0.30.0 in /usr/local/lib/python3.11/dist-packages (from transformers) (0.30.2)\n",
            "Requirement already satisfied: numpy>=1.17 in /usr/local/lib/python3.11/dist-packages (from transformers) (2.0.2)\n",
            "Requirement already satisfied: packaging>=20.0 in /usr/local/lib/python3.11/dist-packages (from transformers) (24.2)\n",
            "Requirement already satisfied: pyyaml>=5.1 in /usr/local/lib/python3.11/dist-packages (from transformers) (6.0.2)\n",
            "Requirement already satisfied: regex!=2019.12.17 in /usr/local/lib/python3.11/dist-packages (from transformers) (2024.11.6)\n",
            "Requirement already satisfied: requests in /usr/local/lib/python3.11/dist-packages (from transformers) (2.32.3)\n",
            "Requirement already satisfied: tokenizers<0.22,>=0.21 in /usr/local/lib/python3.11/dist-packages (from transformers) (0.21.1)\n",
            "Requirement already satisfied: safetensors>=0.4.3 in /usr/local/lib/python3.11/dist-packages (from transformers) (0.5.3)\n",
            "Requirement already satisfied: tqdm>=4.27 in /usr/local/lib/python3.11/dist-packages (from transformers) (4.67.1)\n",
            "Requirement already satisfied: typing-extensions>=4.10.0 in /usr/local/lib/python3.11/dist-packages (from torch) (4.13.2)\n",
            "Requirement already satisfied: networkx in /usr/local/lib/python3.11/dist-packages (from torch) (3.4.2)\n",
            "Requirement already satisfied: jinja2 in /usr/local/lib/python3.11/dist-packages (from torch) (3.1.6)\n",
            "Requirement already satisfied: fsspec in /usr/local/lib/python3.11/dist-packages (from torch) (2024.12.0)\n",
            "Requirement already satisfied: nvidia-cuda-nvrtc-cu12==12.4.127 in /usr/local/lib/python3.11/dist-packages (from torch) (12.4.127)\n",
            "Requirement already satisfied: nvidia-cuda-runtime-cu12==12.4.127 in /usr/local/lib/python3.11/dist-packages (from torch) (12.4.127)\n",
            "Requirement already satisfied: nvidia-cuda-cupti-cu12==12.4.127 in /usr/local/lib/python3.11/dist-packages (from torch) (12.4.127)\n",
            "Requirement already satisfied: nvidia-cudnn-cu12==9.1.0.70 in /usr/local/lib/python3.11/dist-packages (from torch) (9.1.0.70)\n",
            "Requirement already satisfied: nvidia-cublas-cu12==12.4.5.8 in /usr/local/lib/python3.11/dist-packages (from torch) (12.4.5.8)\n",
            "Requirement already satisfied: nvidia-cufft-cu12==11.2.1.3 in /usr/local/lib/python3.11/dist-packages (from torch) (11.2.1.3)\n",
            "Requirement already satisfied: nvidia-curand-cu12==10.3.5.147 in /usr/local/lib/python3.11/dist-packages (from torch) (10.3.5.147)\n",
            "Requirement already satisfied: nvidia-cusolver-cu12==11.6.1.9 in /usr/local/lib/python3.11/dist-packages (from torch) (11.6.1.9)\n",
            "Requirement already satisfied: nvidia-cusparse-cu12==12.3.1.170 in /usr/local/lib/python3.11/dist-packages (from torch) (12.3.1.170)\n",
            "Requirement already satisfied: nvidia-cusparselt-cu12==0.6.2 in /usr/local/lib/python3.11/dist-packages (from torch) (0.6.2)\n",
            "Requirement already satisfied: nvidia-nccl-cu12==2.21.5 in /usr/local/lib/python3.11/dist-packages (from torch) (2.21.5)\n",
            "Requirement already satisfied: nvidia-nvtx-cu12==12.4.127 in /usr/local/lib/python3.11/dist-packages (from torch) (12.4.127)\n",
            "Requirement already satisfied: nvidia-nvjitlink-cu12==12.4.127 in /usr/local/lib/python3.11/dist-packages (from torch) (12.4.127)\n",
            "Requirement already satisfied: triton==3.2.0 in /usr/local/lib/python3.11/dist-packages (from torch) (3.2.0)\n",
            "Requirement already satisfied: sympy==1.13.1 in /usr/local/lib/python3.11/dist-packages (from torch) (1.13.1)\n",
            "Requirement already satisfied: mpmath<1.4,>=1.1.0 in /usr/local/lib/python3.11/dist-packages (from sympy==1.13.1->torch) (1.3.0)\n",
            "Requirement already satisfied: MarkupSafe>=2.0 in /usr/local/lib/python3.11/dist-packages (from jinja2->torch) (3.0.2)\n",
            "Requirement already satisfied: charset-normalizer<4,>=2 in /usr/local/lib/python3.11/dist-packages (from requests->transformers) (3.4.1)\n",
            "Requirement already satisfied: idna<4,>=2.5 in /usr/local/lib/python3.11/dist-packages (from requests->transformers) (3.10)\n",
            "Requirement already satisfied: urllib3<3,>=1.21.1 in /usr/local/lib/python3.11/dist-packages (from requests->transformers) (2.3.0)\n",
            "Requirement already satisfied: certifi>=2017.4.17 in /usr/local/lib/python3.11/dist-packages (from requests->transformers) (2025.1.31)\n",
            "Requirement already satisfied: scipy>=1.6.0 in /usr/local/lib/python3.11/dist-packages (from scikit-learn->bert-extractive-summarizer) (1.14.1)\n",
            "Requirement already satisfied: joblib>=1.2.0 in /usr/local/lib/python3.11/dist-packages (from scikit-learn->bert-extractive-summarizer) (1.4.2)\n",
            "Requirement already satisfied: threadpoolctl>=3.1.0 in /usr/local/lib/python3.11/dist-packages (from scikit-learn->bert-extractive-summarizer) (3.6.0)\n",
            "Requirement already satisfied: spacy-legacy<3.1.0,>=3.0.11 in /usr/local/lib/python3.11/dist-packages (from spacy->bert-extractive-summarizer) (3.0.12)\n",
            "Requirement already satisfied: spacy-loggers<2.0.0,>=1.0.0 in /usr/local/lib/python3.11/dist-packages (from spacy->bert-extractive-summarizer) (1.0.5)\n",
            "Requirement already satisfied: murmurhash<1.1.0,>=0.28.0 in /usr/local/lib/python3.11/dist-packages (from spacy->bert-extractive-summarizer) (1.0.12)\n",
            "Requirement already satisfied: cymem<2.1.0,>=2.0.2 in /usr/local/lib/python3.11/dist-packages (from spacy->bert-extractive-summarizer) (2.0.11)\n",
            "Requirement already satisfied: preshed<3.1.0,>=3.0.2 in /usr/local/lib/python3.11/dist-packages (from spacy->bert-extractive-summarizer) (3.0.9)\n",
            "Requirement already satisfied: thinc<8.4.0,>=8.3.4 in /usr/local/lib/python3.11/dist-packages (from spacy->bert-extractive-summarizer) (8.3.6)\n",
            "Requirement already satisfied: wasabi<1.2.0,>=0.9.1 in /usr/local/lib/python3.11/dist-packages (from spacy->bert-extractive-summarizer) (1.1.3)\n",
            "Requirement already satisfied: srsly<3.0.0,>=2.4.3 in /usr/local/lib/python3.11/dist-packages (from spacy->bert-extractive-summarizer) (2.5.1)\n",
            "Requirement already satisfied: catalogue<2.1.0,>=2.0.6 in /usr/local/lib/python3.11/dist-packages (from spacy->bert-extractive-summarizer) (2.0.10)\n",
            "Requirement already satisfied: weasel<0.5.0,>=0.1.0 in /usr/local/lib/python3.11/dist-packages (from spacy->bert-extractive-summarizer) (0.4.1)\n",
            "Requirement already satisfied: typer<1.0.0,>=0.3.0 in /usr/local/lib/python3.11/dist-packages (from spacy->bert-extractive-summarizer) (0.15.2)\n",
            "Requirement already satisfied: pydantic!=1.8,!=1.8.1,<3.0.0,>=1.7.4 in /usr/local/lib/python3.11/dist-packages (from spacy->bert-extractive-summarizer) (2.11.3)\n",
            "Requirement already satisfied: setuptools in /usr/local/lib/python3.11/dist-packages (from spacy->bert-extractive-summarizer) (75.2.0)\n",
            "Requirement already satisfied: langcodes<4.0.0,>=3.2.0 in /usr/local/lib/python3.11/dist-packages (from spacy->bert-extractive-summarizer) (3.5.0)\n",
            "Requirement already satisfied: language-data>=1.2 in /usr/local/lib/python3.11/dist-packages (from langcodes<4.0.0,>=3.2.0->spacy->bert-extractive-summarizer) (1.3.0)\n",
            "Requirement already satisfied: annotated-types>=0.6.0 in /usr/local/lib/python3.11/dist-packages (from pydantic!=1.8,!=1.8.1,<3.0.0,>=1.7.4->spacy->bert-extractive-summarizer) (0.7.0)\n",
            "Requirement already satisfied: pydantic-core==2.33.1 in /usr/local/lib/python3.11/dist-packages (from pydantic!=1.8,!=1.8.1,<3.0.0,>=1.7.4->spacy->bert-extractive-summarizer) (2.33.1)\n",
            "Requirement already satisfied: typing-inspection>=0.4.0 in /usr/local/lib/python3.11/dist-packages (from pydantic!=1.8,!=1.8.1,<3.0.0,>=1.7.4->spacy->bert-extractive-summarizer) (0.4.0)\n",
            "Requirement already satisfied: blis<1.4.0,>=1.3.0 in /usr/local/lib/python3.11/dist-packages (from thinc<8.4.0,>=8.3.4->spacy->bert-extractive-summarizer) (1.3.0)\n",
            "Requirement already satisfied: confection<1.0.0,>=0.0.1 in /usr/local/lib/python3.11/dist-packages (from thinc<8.4.0,>=8.3.4->spacy->bert-extractive-summarizer) (0.1.5)\n",
            "Requirement already satisfied: click>=8.0.0 in /usr/local/lib/python3.11/dist-packages (from typer<1.0.0,>=0.3.0->spacy->bert-extractive-summarizer) (8.1.8)\n",
            "Requirement already satisfied: shellingham>=1.3.0 in /usr/local/lib/python3.11/dist-packages (from typer<1.0.0,>=0.3.0->spacy->bert-extractive-summarizer) (1.5.4)\n",
            "Requirement already satisfied: rich>=10.11.0 in /usr/local/lib/python3.11/dist-packages (from typer<1.0.0,>=0.3.0->spacy->bert-extractive-summarizer) (13.9.4)\n",
            "Requirement already satisfied: cloudpathlib<1.0.0,>=0.7.0 in /usr/local/lib/python3.11/dist-packages (from weasel<0.5.0,>=0.1.0->spacy->bert-extractive-summarizer) (0.21.0)\n",
            "Requirement already satisfied: smart-open<8.0.0,>=5.2.1 in /usr/local/lib/python3.11/dist-packages (from weasel<0.5.0,>=0.1.0->spacy->bert-extractive-summarizer) (7.1.0)\n",
            "Requirement already satisfied: marisa-trie>=1.1.0 in /usr/local/lib/python3.11/dist-packages (from language-data>=1.2->langcodes<4.0.0,>=3.2.0->spacy->bert-extractive-summarizer) (1.2.1)\n",
            "Requirement already satisfied: markdown-it-py>=2.2.0 in /usr/local/lib/python3.11/dist-packages (from rich>=10.11.0->typer<1.0.0,>=0.3.0->spacy->bert-extractive-summarizer) (3.0.0)\n",
            "Requirement already satisfied: pygments<3.0.0,>=2.13.0 in /usr/local/lib/python3.11/dist-packages (from rich>=10.11.0->typer<1.0.0,>=0.3.0->spacy->bert-extractive-summarizer) (2.18.0)\n",
            "Requirement already satisfied: wrapt in /usr/local/lib/python3.11/dist-packages (from smart-open<8.0.0,>=5.2.1->weasel<0.5.0,>=0.1.0->spacy->bert-extractive-summarizer) (1.17.2)\n",
            "Requirement already satisfied: mdurl~=0.1 in /usr/local/lib/python3.11/dist-packages (from markdown-it-py>=2.2.0->rich>=10.11.0->typer<1.0.0,>=0.3.0->spacy->bert-extractive-summarizer) (0.1.2)\n"
          ]
        }
      ],
      "source": [
        "pip install bert-extractive-summarizer transformers torch"
      ]
    },
    {
      "cell_type": "code",
      "execution_count": null,
      "metadata": {
        "colab": {
          "base_uri": "https://localhost:8080/"
        },
        "collapsed": true,
        "id": "M0b8qERh9cEd",
        "outputId": "c855d63f-2d28-4abb-98c3-f1e3294df74d"
      },
      "outputs": [
        {
          "name": "stdout",
          "output_type": "stream",
          "text": [
            "Requirement already satisfied: bert-extractive-summarizer in /usr/local/lib/python3.11/dist-packages (0.10.1)\n",
            "Requirement already satisfied: transformers in /usr/local/lib/python3.11/dist-packages (from bert-extractive-summarizer) (4.51.3)\n",
            "Requirement already satisfied: scikit-learn in /usr/local/lib/python3.11/dist-packages (from bert-extractive-summarizer) (1.6.1)\n",
            "Requirement already satisfied: spacy in /usr/local/lib/python3.11/dist-packages (from bert-extractive-summarizer) (3.8.5)\n",
            "Requirement already satisfied: numpy>=1.19.5 in /usr/local/lib/python3.11/dist-packages (from scikit-learn->bert-extractive-summarizer) (2.0.2)\n",
            "Requirement already satisfied: scipy>=1.6.0 in /usr/local/lib/python3.11/dist-packages (from scikit-learn->bert-extractive-summarizer) (1.14.1)\n",
            "Requirement already satisfied: joblib>=1.2.0 in /usr/local/lib/python3.11/dist-packages (from scikit-learn->bert-extractive-summarizer) (1.4.2)\n",
            "Requirement already satisfied: threadpoolctl>=3.1.0 in /usr/local/lib/python3.11/dist-packages (from scikit-learn->bert-extractive-summarizer) (3.6.0)\n",
            "Requirement already satisfied: spacy-legacy<3.1.0,>=3.0.11 in /usr/local/lib/python3.11/dist-packages (from spacy->bert-extractive-summarizer) (3.0.12)\n",
            "Requirement already satisfied: spacy-loggers<2.0.0,>=1.0.0 in /usr/local/lib/python3.11/dist-packages (from spacy->bert-extractive-summarizer) (1.0.5)\n",
            "Requirement already satisfied: murmurhash<1.1.0,>=0.28.0 in /usr/local/lib/python3.11/dist-packages (from spacy->bert-extractive-summarizer) (1.0.12)\n",
            "Requirement already satisfied: cymem<2.1.0,>=2.0.2 in /usr/local/lib/python3.11/dist-packages (from spacy->bert-extractive-summarizer) (2.0.11)\n",
            "Requirement already satisfied: preshed<3.1.0,>=3.0.2 in /usr/local/lib/python3.11/dist-packages (from spacy->bert-extractive-summarizer) (3.0.9)\n",
            "Requirement already satisfied: thinc<8.4.0,>=8.3.4 in /usr/local/lib/python3.11/dist-packages (from spacy->bert-extractive-summarizer) (8.3.6)\n",
            "Requirement already satisfied: wasabi<1.2.0,>=0.9.1 in /usr/local/lib/python3.11/dist-packages (from spacy->bert-extractive-summarizer) (1.1.3)\n",
            "Requirement already satisfied: srsly<3.0.0,>=2.4.3 in /usr/local/lib/python3.11/dist-packages (from spacy->bert-extractive-summarizer) (2.5.1)\n",
            "Requirement already satisfied: catalogue<2.1.0,>=2.0.6 in /usr/local/lib/python3.11/dist-packages (from spacy->bert-extractive-summarizer) (2.0.10)\n",
            "Requirement already satisfied: weasel<0.5.0,>=0.1.0 in /usr/local/lib/python3.11/dist-packages (from spacy->bert-extractive-summarizer) (0.4.1)\n",
            "Requirement already satisfied: typer<1.0.0,>=0.3.0 in /usr/local/lib/python3.11/dist-packages (from spacy->bert-extractive-summarizer) (0.15.2)\n",
            "Requirement already satisfied: tqdm<5.0.0,>=4.38.0 in /usr/local/lib/python3.11/dist-packages (from spacy->bert-extractive-summarizer) (4.67.1)\n",
            "Requirement already satisfied: requests<3.0.0,>=2.13.0 in /usr/local/lib/python3.11/dist-packages (from spacy->bert-extractive-summarizer) (2.32.3)\n",
            "Requirement already satisfied: pydantic!=1.8,!=1.8.1,<3.0.0,>=1.7.4 in /usr/local/lib/python3.11/dist-packages (from spacy->bert-extractive-summarizer) (2.11.3)\n",
            "Requirement already satisfied: jinja2 in /usr/local/lib/python3.11/dist-packages (from spacy->bert-extractive-summarizer) (3.1.6)\n",
            "Requirement already satisfied: setuptools in /usr/local/lib/python3.11/dist-packages (from spacy->bert-extractive-summarizer) (75.2.0)\n",
            "Requirement already satisfied: packaging>=20.0 in /usr/local/lib/python3.11/dist-packages (from spacy->bert-extractive-summarizer) (24.2)\n",
            "Requirement already satisfied: langcodes<4.0.0,>=3.2.0 in /usr/local/lib/python3.11/dist-packages (from spacy->bert-extractive-summarizer) (3.5.0)\n",
            "Requirement already satisfied: filelock in /usr/local/lib/python3.11/dist-packages (from transformers->bert-extractive-summarizer) (3.18.0)\n",
            "Requirement already satisfied: huggingface-hub<1.0,>=0.30.0 in /usr/local/lib/python3.11/dist-packages (from transformers->bert-extractive-summarizer) (0.30.2)\n",
            "Requirement already satisfied: pyyaml>=5.1 in /usr/local/lib/python3.11/dist-packages (from transformers->bert-extractive-summarizer) (6.0.2)\n",
            "Requirement already satisfied: regex!=2019.12.17 in /usr/local/lib/python3.11/dist-packages (from transformers->bert-extractive-summarizer) (2024.11.6)\n",
            "Requirement already satisfied: tokenizers<0.22,>=0.21 in /usr/local/lib/python3.11/dist-packages (from transformers->bert-extractive-summarizer) (0.21.1)\n",
            "Requirement already satisfied: safetensors>=0.4.3 in /usr/local/lib/python3.11/dist-packages (from transformers->bert-extractive-summarizer) (0.5.3)\n",
            "Requirement already satisfied: fsspec>=2023.5.0 in /usr/local/lib/python3.11/dist-packages (from huggingface-hub<1.0,>=0.30.0->transformers->bert-extractive-summarizer) (2024.12.0)\n",
            "Requirement already satisfied: typing-extensions>=3.7.4.3 in /usr/local/lib/python3.11/dist-packages (from huggingface-hub<1.0,>=0.30.0->transformers->bert-extractive-summarizer) (4.13.2)\n",
            "Requirement already satisfied: language-data>=1.2 in /usr/local/lib/python3.11/dist-packages (from langcodes<4.0.0,>=3.2.0->spacy->bert-extractive-summarizer) (1.3.0)\n",
            "Requirement already satisfied: annotated-types>=0.6.0 in /usr/local/lib/python3.11/dist-packages (from pydantic!=1.8,!=1.8.1,<3.0.0,>=1.7.4->spacy->bert-extractive-summarizer) (0.7.0)\n",
            "Requirement already satisfied: pydantic-core==2.33.1 in /usr/local/lib/python3.11/dist-packages (from pydantic!=1.8,!=1.8.1,<3.0.0,>=1.7.4->spacy->bert-extractive-summarizer) (2.33.1)\n",
            "Requirement already satisfied: typing-inspection>=0.4.0 in /usr/local/lib/python3.11/dist-packages (from pydantic!=1.8,!=1.8.1,<3.0.0,>=1.7.4->spacy->bert-extractive-summarizer) (0.4.0)\n",
            "Requirement already satisfied: charset-normalizer<4,>=2 in /usr/local/lib/python3.11/dist-packages (from requests<3.0.0,>=2.13.0->spacy->bert-extractive-summarizer) (3.4.1)\n",
            "Requirement already satisfied: idna<4,>=2.5 in /usr/local/lib/python3.11/dist-packages (from requests<3.0.0,>=2.13.0->spacy->bert-extractive-summarizer) (3.10)\n",
            "Requirement already satisfied: urllib3<3,>=1.21.1 in /usr/local/lib/python3.11/dist-packages (from requests<3.0.0,>=2.13.0->spacy->bert-extractive-summarizer) (2.3.0)\n",
            "Requirement already satisfied: certifi>=2017.4.17 in /usr/local/lib/python3.11/dist-packages (from requests<3.0.0,>=2.13.0->spacy->bert-extractive-summarizer) (2025.1.31)\n",
            "Requirement already satisfied: blis<1.4.0,>=1.3.0 in /usr/local/lib/python3.11/dist-packages (from thinc<8.4.0,>=8.3.4->spacy->bert-extractive-summarizer) (1.3.0)\n",
            "Requirement already satisfied: confection<1.0.0,>=0.0.1 in /usr/local/lib/python3.11/dist-packages (from thinc<8.4.0,>=8.3.4->spacy->bert-extractive-summarizer) (0.1.5)\n",
            "Requirement already satisfied: click>=8.0.0 in /usr/local/lib/python3.11/dist-packages (from typer<1.0.0,>=0.3.0->spacy->bert-extractive-summarizer) (8.1.8)\n",
            "Requirement already satisfied: shellingham>=1.3.0 in /usr/local/lib/python3.11/dist-packages (from typer<1.0.0,>=0.3.0->spacy->bert-extractive-summarizer) (1.5.4)\n",
            "Requirement already satisfied: rich>=10.11.0 in /usr/local/lib/python3.11/dist-packages (from typer<1.0.0,>=0.3.0->spacy->bert-extractive-summarizer) (13.9.4)\n",
            "Requirement already satisfied: cloudpathlib<1.0.0,>=0.7.0 in /usr/local/lib/python3.11/dist-packages (from weasel<0.5.0,>=0.1.0->spacy->bert-extractive-summarizer) (0.21.0)\n",
            "Requirement already satisfied: smart-open<8.0.0,>=5.2.1 in /usr/local/lib/python3.11/dist-packages (from weasel<0.5.0,>=0.1.0->spacy->bert-extractive-summarizer) (7.1.0)\n",
            "Requirement already satisfied: MarkupSafe>=2.0 in /usr/local/lib/python3.11/dist-packages (from jinja2->spacy->bert-extractive-summarizer) (3.0.2)\n",
            "Requirement already satisfied: marisa-trie>=1.1.0 in /usr/local/lib/python3.11/dist-packages (from language-data>=1.2->langcodes<4.0.0,>=3.2.0->spacy->bert-extractive-summarizer) (1.2.1)\n",
            "Requirement already satisfied: markdown-it-py>=2.2.0 in /usr/local/lib/python3.11/dist-packages (from rich>=10.11.0->typer<1.0.0,>=0.3.0->spacy->bert-extractive-summarizer) (3.0.0)\n",
            "Requirement already satisfied: pygments<3.0.0,>=2.13.0 in /usr/local/lib/python3.11/dist-packages (from rich>=10.11.0->typer<1.0.0,>=0.3.0->spacy->bert-extractive-summarizer) (2.18.0)\n",
            "Requirement already satisfied: wrapt in /usr/local/lib/python3.11/dist-packages (from smart-open<8.0.0,>=5.2.1->weasel<0.5.0,>=0.1.0->spacy->bert-extractive-summarizer) (1.17.2)\n",
            "Requirement already satisfied: mdurl~=0.1 in /usr/local/lib/python3.11/dist-packages (from markdown-it-py>=2.2.0->rich>=10.11.0->typer<1.0.0,>=0.3.0->spacy->bert-extractive-summarizer) (0.1.2)\n"
          ]
        }
      ],
      "source": [
        "!pip install bert-extractive-summarizer"
      ]
    },
    {
      "cell_type": "code",
      "execution_count": null,
      "metadata": {
        "colab": {
          "base_uri": "https://localhost:8080/",
          "height": 233,
          "referenced_widgets": [
            "6f56f2e68b8f44328c5cd62e6ceaf2f6",
            "27d319d17479485a9a0aebbb7cd545a4",
            "59bfb3fa324e445698965b636fe89701",
            "dd4835b3b0294b18a2e1aa16e2ef56db",
            "9d2ce10b3cfc497494ebd1fc527318ae",
            "0b0dbd9619ee4a85b595bc0ee4c0d287",
            "0b8393401d894907abc2e7e3b53ba170",
            "214e4fa56f384d86998f80024feecb25",
            "757b87a0c3204952953e67c84bdaad28",
            "f0c7d1b374744b2984b58ac63c7f691e",
            "77e3ff9c0f18404e9118077cb6180d32",
            "20a0a0eaaa5a465a82715e2d0cadd334",
            "a74e644af606483b977da068d86c5845",
            "a3a0327d2cf84f8cb2b93d8757bc525b",
            "1d29897e8ffb44f9aaaebc122025509f",
            "e5b154ec52754236bbd175f92bc8e41a",
            "dddf4e77c55c4b2b84e1a05f08c7b8f8",
            "3a93e206ae1744d885ac8c3e602c8a24",
            "2a7c97ebe682444e9c76d82fac69fd57",
            "5d932bc259464acb8f5c7886afe08e57",
            "76fc23ffc512466eaf95f772d153c030",
            "dae4fe75320441b489ba602c73d500f8",
            "034182556e724c5da71da95381d1d9ce",
            "19a204caf268431e9ceef91deb63b331",
            "8691f2c6858348c4a9471d01c0a4d5c9",
            "825f2c41f640414eae437894a1f2638d",
            "66d210aca4aa42288806ebe41ca69097",
            "cfeaba779e1f498387a2d9d99813349e",
            "df2f682eec1f45d1bdcab92e0c0a0499",
            "a9934a5d9deb4dadbb53598a626a3f8e",
            "46fd8e8808b04fd8ba964e717280faa7",
            "c852fffacc47485faa74702473b28a04",
            "7e3c3e8e35e54efaaee2de57cb192c71",
            "7de6c3e79d0043cd99fde9ae69f5330f",
            "47e0f6712dfd479596bf86c45b916b6b",
            "e70f21589e8848f5a96d3f99df200b3d",
            "4a2a8427f9b64c09af9543785a5dcc11",
            "e55aaaf8b7634cfcb924ae59300b56a0",
            "88e42512dd654d6fb68a94c8c75b9d3c",
            "c39405e7b4dc4e9a9488c809afc18125",
            "f08a9de3a50d4ded8ce434e5e06ebdb8",
            "b535319e19f34693a30cacdf979d1133",
            "32f914733fb449b0ae06ba8f46257385",
            "e054ea51fdc7470f81ba6eb40b387326",
            "4d76e4ac6e0d4bb7af888708afb6d47d",
            "cd46e47d81fa4a47b3e14767362f7d0a",
            "88779c115e3948f99100263852f263d0",
            "60a5fc88d27b422b9b212e2671b72a51",
            "55d0e067f6cc47209afa8bd82e95470f",
            "62528d5c19c44bc5af34e52e9a61c1e1",
            "8c0d6357e4404cd791ff27efae38a4e3",
            "5bbbe9da749c4411ae54b0a67c53d946",
            "68bf70ab734e4646b02bb9f1650ebc5b",
            "9158ba5647b547c98b2aed57e98b7ddc",
            "b6eb724cd3af40e2b5eee561417bd2e3"
          ]
        },
        "id": "AWtq4JD59kyS",
        "outputId": "2d72732e-d81d-40ab-e0c4-aefe150dbc2a"
      },
      "outputs": [
        {
          "data": {
            "application/vnd.jupyter.widget-view+json": {
              "model_id": "6f56f2e68b8f44328c5cd62e6ceaf2f6",
              "version_major": 2,
              "version_minor": 0
            },
            "text/plain": [
              "config.json:   0%|          | 0.00/571 [00:00<?, ?B/s]"
            ]
          },
          "metadata": {},
          "output_type": "display_data"
        },
        {
          "name": "stderr",
          "output_type": "stream",
          "text": [
            "Xet Storage is enabled for this repo, but the 'hf_xet' package is not installed. Falling back to regular HTTP download. For better performance, install the package with: `pip install huggingface_hub[hf_xet]` or `pip install hf_xet`\n",
            "WARNING:huggingface_hub.file_download:Xet Storage is enabled for this repo, but the 'hf_xet' package is not installed. Falling back to regular HTTP download. For better performance, install the package with: `pip install huggingface_hub[hf_xet]` or `pip install hf_xet`\n"
          ]
        },
        {
          "data": {
            "application/vnd.jupyter.widget-view+json": {
              "model_id": "20a0a0eaaa5a465a82715e2d0cadd334",
              "version_major": 2,
              "version_minor": 0
            },
            "text/plain": [
              "model.safetensors:   0%|          | 0.00/1.34G [00:00<?, ?B/s]"
            ]
          },
          "metadata": {},
          "output_type": "display_data"
        },
        {
          "data": {
            "application/vnd.jupyter.widget-view+json": {
              "model_id": "034182556e724c5da71da95381d1d9ce",
              "version_major": 2,
              "version_minor": 0
            },
            "text/plain": [
              "tokenizer_config.json:   0%|          | 0.00/48.0 [00:00<?, ?B/s]"
            ]
          },
          "metadata": {},
          "output_type": "display_data"
        },
        {
          "data": {
            "application/vnd.jupyter.widget-view+json": {
              "model_id": "7de6c3e79d0043cd99fde9ae69f5330f",
              "version_major": 2,
              "version_minor": 0
            },
            "text/plain": [
              "vocab.txt:   0%|          | 0.00/232k [00:00<?, ?B/s]"
            ]
          },
          "metadata": {},
          "output_type": "display_data"
        },
        {
          "data": {
            "application/vnd.jupyter.widget-view+json": {
              "model_id": "4d76e4ac6e0d4bb7af888708afb6d47d",
              "version_major": 2,
              "version_minor": 0
            },
            "text/plain": [
              "tokenizer.json:   0%|          | 0.00/466k [00:00<?, ?B/s]"
            ]
          },
          "metadata": {},
          "output_type": "display_data"
        }
      ],
      "source": [
        "from summarizer import Summarizer\n",
        "\n",
        "input_text =data\n",
        "\n",
        "# Load pre-trained BERT summarization model\n",
        "model = Summarizer()\n"
      ]
    },
    {
      "cell_type": "code",
      "execution_count": null,
      "metadata": {
        "colab": {
          "base_uri": "https://localhost:8080/"
        },
        "id": "52bBxqFW9mpF",
        "outputId": "c44cc1a8-7144-4591-a2d6-1d67446b3cdb"
      },
      "outputs": [
        {
          "name": "stdout",
          "output_type": "stream",
          "text": [
            "\n",
            "BERT Summary:\n",
            "\n",
            "-->  Engineering advancements have significantly transformed various industries, leveraging cutting-edge technologies such as artificial intelligence, quantum computing, and nanotechnology\n",
            "-->   In mechanical engineering, additive manufacturing (3D printing) has revolutionized prototyping and mass production, allowing for complex geometries and material efficiency\n",
            "-->   Civil and structural engineering have embraced digital twin technology, where real-time sensor data is combined with AI-driven predictive analytics to monitor infrastructure integrity and prevent catastrophic failures\n",
            "-->   Sustainable construction materials, such as self-healing concrete and carbon-negative cement, are being developed to reduce environmental impact\n",
            "-->   In the field of chemical engineering, breakthroughs in material science have led to the development of advanced polymers, nanomaterials, and biodegradable plastics, revolutionizing industries such as healthcare, aerospace, and consumer electronics\n",
            "-->  \n"
          ]
        }
      ],
      "source": [
        "# Generate summary\n",
        "summary = model(input_text, num_sentences=5)  # You can adjust num_sentences\n",
        "\n",
        "# Print the summary\n",
        "# print(\"Original Text:\\n\", input_text)\n",
        "print(\"\\nBERT Summary:\\n\")\n",
        "for i in summary.split('.') :\n",
        "  print(\"--> \",i)"
      ]
    },
    {
      "cell_type": "code",
      "execution_count": null,
      "metadata": {
        "colab": {
          "base_uri": "https://localhost:8080/",
          "height": 574,
          "referenced_widgets": [
            "7cd4354809a24d28a3fe8a88b9496343",
            "0604134f2d0f4465a8d08c1784388b29",
            "faecc032116341abaa8a68f515228953",
            "a0f73666853d4dd791b05815e8ce38bf",
            "f42f440598f44b67ae723c33cb1181b7",
            "bb738d19092d46e58060d1fb685714cf",
            "0e14106cd87a488cb23515bb10505134",
            "7f63352874ec4af585da9f0535d6eebd",
            "b5b2048c9eff43998d134d96d79a8b64",
            "90aaf913f89b4669bf9c2a0a0d533de0",
            "e8db445112494769b7b6732d6dc5b742",
            "a92deab4e62e49bc8fd61a5d986a547c",
            "ef011d017aa940b68f066803933f0836",
            "ada491a234ba4e128c2d1d8d5666557e",
            "408030ad121944cc941469de8743c52a",
            "cd3460d4831846febf11f32b56e178f8",
            "a4c034299b1a4f3199a26abc6998387d",
            "fcd3d3dde8ca4c41baefe319355a9539",
            "9cc3def0e3214b78af22ec49a90514bf",
            "09953bbb18654856a7c08b2812ea5962",
            "9a2b0b4969c94f48af9eae5cba25cc37",
            "54faef6e77204250ac512a648242da75",
            "91ca6fdd04f842c6ac4f25795c292ca0",
            "a6d47944efe94efbb30d4a99dd093fae",
            "3b54d22913b743309d361ede90f48567",
            "99b1d9e9259c4e2083717ed0d28ccd49",
            "578f81731fb747a89d8e7bef5a625df9",
            "0e6b9eea72f64714a92b97ee6f82610a",
            "383e4b5c0fbb43c3ad50af51c499c81e",
            "be1e69eb69f94ac08c132ff0380617ad",
            "f027f7b80c3d433ab914d9c56c8077db",
            "fb6bc58f3c94401881ad0fe1820befaf",
            "f9e781d91d044e9696b5b2142c4cf817",
            "be82d5a5ee25451aa35452d8162e4599",
            "1db6bd6211544f7aa3f01b549df9310c",
            "cac21421b0864fa4bee0c729309c47fd",
            "851eb015013144fd9e2e75587acd5a3d",
            "23b2dd38ddd440ab990933acf66e7f02",
            "8983cb167b39487cbff401d607098ff6",
            "2dab08882aad448f8163192e973fb4d4",
            "b5cd383cec56430f966340e51d4142e4",
            "07431801ba6b4049b4c9bc22bd427f15",
            "515e0e51e9d04792866c138a190d00b3",
            "db8c1667383246398f5187aecba32260",
            "2bc63c2700e94b8bb9e5d6db0901de13",
            "e7785a214d954cc295bfa93cfa43e871",
            "01d8a12125da4379b001a8264536db7a",
            "b7bfa6c673624f3db33fde6270ea40b7",
            "b3b165679dcf4cc4adc0665775197301",
            "c98f9c49dcce426bb7c54acd8382b0d3",
            "05c126c5ca5343e78a6cac636348a308",
            "25e60ce7668c41d8bb12f3c4f0811567",
            "5385a019f2e942c99ca599a94636f500",
            "44f039f6986e4fb9afde25afb3531ae4",
            "baab12bb68f54f4c9d25dad58973b954"
          ]
        },
        "id": "rJ9InHkRHNsK",
        "outputId": "586abe09-a256-4d6c-90d7-b1ef724f9595"
      },
      "outputs": [
        {
          "data": {
            "application/vnd.jupyter.widget-view+json": {
              "model_id": "7cd4354809a24d28a3fe8a88b9496343",
              "version_major": 2,
              "version_minor": 0
            },
            "text/plain": [
              "config.json:   0%|          | 0.00/570 [00:00<?, ?B/s]"
            ]
          },
          "metadata": {},
          "output_type": "display_data"
        },
        {
          "name": "stderr",
          "output_type": "stream",
          "text": [
            "Xet Storage is enabled for this repo, but the 'hf_xet' package is not installed. Falling back to regular HTTP download. For better performance, install the package with: `pip install huggingface_hub[hf_xet]` or `pip install hf_xet`\n",
            "WARNING:huggingface_hub.file_download:Xet Storage is enabled for this repo, but the 'hf_xet' package is not installed. Falling back to regular HTTP download. For better performance, install the package with: `pip install huggingface_hub[hf_xet]` or `pip install hf_xet`\n"
          ]
        },
        {
          "data": {
            "application/vnd.jupyter.widget-view+json": {
              "model_id": "a92deab4e62e49bc8fd61a5d986a547c",
              "version_major": 2,
              "version_minor": 0
            },
            "text/plain": [
              "model.safetensors:   0%|          | 0.00/440M [00:00<?, ?B/s]"
            ]
          },
          "metadata": {},
          "output_type": "display_data"
        },
        {
          "data": {
            "application/vnd.jupyter.widget-view+json": {
              "model_id": "91ca6fdd04f842c6ac4f25795c292ca0",
              "version_major": 2,
              "version_minor": 0
            },
            "text/plain": [
              "tokenizer_config.json:   0%|          | 0.00/48.0 [00:00<?, ?B/s]"
            ]
          },
          "metadata": {},
          "output_type": "display_data"
        },
        {
          "data": {
            "application/vnd.jupyter.widget-view+json": {
              "model_id": "be82d5a5ee25451aa35452d8162e4599",
              "version_major": 2,
              "version_minor": 0
            },
            "text/plain": [
              "vocab.txt:   0%|          | 0.00/232k [00:00<?, ?B/s]"
            ]
          },
          "metadata": {},
          "output_type": "display_data"
        },
        {
          "data": {
            "application/vnd.jupyter.widget-view+json": {
              "model_id": "2bc63c2700e94b8bb9e5d6db0901de13",
              "version_major": 2,
              "version_minor": 0
            },
            "text/plain": [
              "tokenizer.json:   0%|          | 0.00/466k [00:00<?, ?B/s]"
            ]
          },
          "metadata": {},
          "output_type": "display_data"
        },
        {
          "name": "stderr",
          "output_type": "stream",
          "text": [
            "100%|██████████| 161/161 [02:28<00:00,  1.08it/s]\n",
            "[nltk_data] Downloading package wordnet to /root/nltk_data...\n",
            "[nltk_data]   Package wordnet is already up-to-date!\n",
            "[nltk_data] Downloading package punkt_tab to /root/nltk_data...\n",
            "[nltk_data]   Package punkt_tab is already up-to-date!\n",
            "[nltk_data] Downloading package omw-1.4 to /root/nltk_data...\n",
            "[nltk_data]   Package omw-1.4 is already up-to-date!\n",
            "Some weights of RobertaModel were not initialized from the model checkpoint at roberta-large and are newly initialized: ['pooler.dense.bias', 'pooler.dense.weight']\n",
            "You should probably TRAIN this model on a down-stream task to be able to use it for predictions and inference.\n"
          ]
        },
        {
          "name": "stdout",
          "output_type": "stream",
          "text": [
            "\n",
            "📊 Evaluation Scores for BERT Extractive Summarization\n",
            "\n",
            " --> ROUGE:\n",
            "\t  ROUGE1   : 0.5040\n",
            "\t  ROUGE2   : 0.4079\n",
            "\t  ROUGEL   : 0.4678\n",
            "\t  ROUGELSUM: 0.4695\n",
            " -->METEOR     : 0.4938\n",
            " --> BERTScore  : 0.9101\n"
          ]
        }
      ],
      "source": [
        "from summarizer import Summarizer\n",
        "import pandas as pd\n",
        "from tqdm import tqdm\n",
        "import evaluate\n",
        "\n",
        "# Initialize the BERT model\n",
        "bert_model = Summarizer(model='bert-base-uncased')\n",
        "pred = bert_model(article, ratio=0.2)\n",
        "# Can pass custom model: Summarizer(model='distilbert-base-uncased')\n",
        "\n",
        "# Prepare predictions and references\n",
        "predictions = []\n",
        "references = []\n",
        "\n",
        "for _, row in tqdm(merged_df.iterrows(), total=len(merged_df)):\n",
        "    article = row['text']\n",
        "    ref = row['extractive_summary']\n",
        "\n",
        "    if pd.isna(article) or pd.isna(ref):\n",
        "        continue\n",
        "\n",
        "    # Run BERT extractive summarization\n",
        "    pred = bert_model(article, min_length=60)  # You can also try ratio=0.2\n",
        "\n",
        "    predictions.append(pred)\n",
        "    references.append(ref)\n",
        "\n",
        "# Load evaluation metrics\n",
        "rouge = evaluate.load(\"rouge\")\n",
        "meteor = evaluate.load(\"meteor\")\n",
        "bertscore = evaluate.load(\"bertscore\")\n",
        "\n",
        "# Compute metrics\n",
        "rouge_results = rouge.compute(predictions=predictions, references=references)\n",
        "meteor_results = meteor.compute(predictions=predictions, references=references)\n",
        "bertscore_results = bertscore.compute(predictions=predictions, references=references, lang=\"en\")\n",
        "bertscore_f1_avg = sum(bertscore_results[\"f1\"]) / len(bertscore_results[\"f1\"])\n",
        "\n",
        "# Print results\n",
        "print(\"\\n📊 Evaluation Scores for BERT Extractive Summarization\")\n",
        "print(\"\\n --> ROUGE:\")\n",
        "for metric, score in rouge_results.items():\n",
        "    print(f\"\\t  {metric.upper():<9}: {score:.4f}\")\n",
        "print(f\" -->METEOR     : {meteor_results['meteor']:.4f}\")\n",
        "print(f\" --> BERTScore  : {bertscore_f1_avg:.4f}\")\n"
      ]
    },
    {
      "cell_type": "markdown",
      "metadata": {
        "id": "LTtArKumDLXo"
      },
      "source": [
        "# **Lex Rank**"
      ]
    },
    {
      "cell_type": "code",
      "execution_count": null,
      "metadata": {
        "id": "xcfLUrCrDSWF"
      },
      "outputs": [],
      "source": [
        "from sumy.parsers.plaintext import PlaintextParser\n",
        "from sumy.nlp.tokenizers import Tokenizer\n",
        "from sumy.summarizers.lex_rank import LexRankSummarizer\n",
        "\n",
        "# Example legal document text\n",
        "input_text =data\n",
        "# Parse the input text\n",
        "parser = PlaintextParser.from_string(input_text, Tokenizer(\"english\"))\n",
        "\n",
        "# Initialize LexRank Summarizer\n",
        "summarizer = LexRankSummarizer()\n",
        "\n",
        "# Number of sentences to extract in the summary\n",
        "num_sentences = 5\n",
        "\n",
        "# Generate summary\n",
        "summary = summarizer(parser.document, num_sentences)\n",
        "\n"
      ]
    },
    {
      "cell_type": "code",
      "execution_count": null,
      "metadata": {
        "colab": {
          "base_uri": "https://localhost:8080/"
        },
        "id": "W3D51-ZyDUgA",
        "outputId": "3388f4ad-3f96-4831-ba15-3e9848158bd0"
      },
      "outputs": [
        {
          "name": "stdout",
          "output_type": "stream",
          "text": [
            "LexRank Summary:\n",
            "-->  Engineering advancements have significantly transformed various industries, leveraging cutting-edge technologies such as artificial intelligence, quantum computing, and nanotechnology.\n",
            "-->  Computational fluid dynamics (CFD) simulations help optimize aerodynamics in automotive and aerospace engineering, reducing drag and improving fuel efficiency.\n",
            "-->  In electrical and electronics engineering, the rapid evolution of semiconductor technology has led to the development of ultra-efficient processors and AI accelerators, enabling breakthroughs in fields such as edge computing, IoT, and high-performance computing.\n",
            "-->  In the field of chemical engineering, breakthroughs in material science have led to the development of advanced polymers, nanomaterials, and biodegradable plastics, revolutionizing industries such as healthcare, aerospace, and consumer electronics.\n",
            "-->  Catalysts engineered through machine learning are optimizing reaction pathways in pharmaceuticals and energy production, significantly improving efficiency and reducing emissions.\n"
          ]
        }
      ],
      "source": [
        "# Print summarized text\n",
        "print(\"LexRank Summary:\")\n",
        "for sentence in summary:\n",
        "    print(\"--> \",sentence)\n"
      ]
    },
    {
      "cell_type": "code",
      "execution_count": null,
      "metadata": {
        "colab": {
          "base_uri": "https://localhost:8080/"
        },
        "id": "JX42UaMY91PH",
        "outputId": "3b6ce39e-dfe4-4d1f-ea48-377f5a6d4226"
      },
      "outputs": [
        {
          "name": "stderr",
          "output_type": "stream",
          "text": [
            "100%|██████████| 161/161 [00:06<00:00, 24.76it/s]\n",
            "[nltk_data] Downloading package wordnet to /root/nltk_data...\n",
            "[nltk_data]   Package wordnet is already up-to-date!\n",
            "[nltk_data] Downloading package punkt_tab to /root/nltk_data...\n",
            "[nltk_data]   Package punkt_tab is already up-to-date!\n",
            "[nltk_data] Downloading package omw-1.4 to /root/nltk_data...\n",
            "[nltk_data]   Package omw-1.4 is already up-to-date!\n",
            "Some weights of RobertaModel were not initialized from the model checkpoint at roberta-large and are newly initialized: ['pooler.dense.bias', 'pooler.dense.weight']\n",
            "You should probably TRAIN this model on a down-stream task to be able to use it for predictions and inference.\n"
          ]
        },
        {
          "name": "stdout",
          "output_type": "stream",
          "text": [
            "\n",
            "📊 Evaluation Scores for LexRank Extractive Summarization\n",
            "\n",
            " --> ROUGE:\n",
            "  ROUGE1   : 0.6782\n",
            "  ROUGE2   : 0.6243\n",
            "  ROUGEL   : 0.6637\n",
            "  ROUGELSUM: 0.6635\n",
            " -->METEOR     : 0.7611\n",
            " --> BERTScore  : 0.9370\n"
          ]
        }
      ],
      "source": [
        "import pandas as pd\n",
        "from sumy.parsers.plaintext import PlaintextParser\n",
        "from sumy.nlp.tokenizers import Tokenizer\n",
        "from sumy.summarizers.lex_rank import LexRankSummarizer\n",
        "from tqdm import tqdm\n",
        "import evaluate\n",
        "\n",
        "# LexRank summarizer\n",
        "summarizer = LexRankSummarizer()\n",
        "\n",
        "# Predictions and references\n",
        "predictions = []\n",
        "references = []\n",
        "\n",
        "# Summarization loop\n",
        "for _, row in tqdm(merged_df.iterrows(), total=len(merged_df)):\n",
        "    article = row['text']\n",
        "    ref = row['extractive_summary']\n",
        "\n",
        "    if pd.isna(article) or pd.isna(ref):\n",
        "        continue\n",
        "\n",
        "    # Parse and summarize using sumy\n",
        "    parser = PlaintextParser.from_string(article, Tokenizer(\"english\"))\n",
        "    summary = summarizer(parser.document, sentences_count=3)  # you can change number of sentences\n",
        "\n",
        "    # Combine summary sentences\n",
        "    pred = \" \".join(str(sentence) for sentence in summary)\n",
        "\n",
        "    predictions.append(pred)\n",
        "    references.append(ref)\n",
        "\n",
        "# Load metrics\n",
        "rouge = evaluate.load(\"rouge\")\n",
        "meteor = evaluate.load(\"meteor\")\n",
        "bertscore = evaluate.load(\"bertscore\")\n",
        "\n",
        "# Evaluate\n",
        "rouge_results = rouge.compute(predictions=predictions, references=references)\n",
        "meteor_results = meteor.compute(predictions=predictions, references=references)\n",
        "bertscore_results = bertscore.compute(predictions=predictions, references=references, lang=\"en\")\n",
        "bertscore_f1_avg = sum(bertscore_results[\"f1\"]) / len(bertscore_results[\"f1\"])\n",
        "\n",
        "# Print scores\n",
        "print(\"\\n📊 Evaluation Scores for LexRank Extractive Summarization\")\n",
        "print(\"\\n --> ROUGE:\")\n",
        "for metric, score in rouge_results.items():\n",
        "    print(f\"  {metric.upper():<9}: {score:.4f}\")\n",
        "print(f\" -->METEOR     : {meteor_results['meteor']:.4f}\")\n",
        "print(f\" --> BERTScore  : {bertscore_f1_avg:.4f}\")\n"
      ]
    },
    {
      "cell_type": "markdown",
      "metadata": {
        "id": "bDB2SV35FAhY"
      },
      "source": [
        "# **Pegasus**"
      ]
    },
    {
      "cell_type": "code",
      "execution_count": null,
      "metadata": {
        "colab": {
          "base_uri": "https://localhost:8080/",
          "height": 297,
          "referenced_widgets": [
            "0ac06fbc4e1a43c58f570595885534d2",
            "7b966ac2121849b2be1b62ef8911200c",
            "2e9d1a008d004478a939ad2e1fe16db4",
            "c6ce98541c1b4b8db6d5a4238fc93d56",
            "53574c17c77c4c3dbbc7ec8ec3933397",
            "13c6ca7368ae4ac9be7bf16aaea681e5",
            "78c69af76b834959bd8326989bc9662d",
            "cfc92af679204562a33f5137ef8c31e6",
            "24bbc3eb288d40d3bebe396fb7241c66",
            "74ca3010207e4105a47b8e824e7aaa05",
            "e0747f8091474380ab958e30992afae6",
            "420bcfd25af846d6ac416b38c2483bc5",
            "580892134c6f4c8cbec2ac0ece6c8b99",
            "e86dc2c90172418daa87af6389491547",
            "cda1a5054bc246688792024e3ca825dc",
            "b1592ad0720a43c3ab607f86b8592083",
            "bb5f408c729c46d8b89469f029c0fce7",
            "57f24da41f334036af4e1d6cb12412a8",
            "f6133299c8104e52aa6e0614d74beccc",
            "0ddbea37b6e245c2a2326639f05db36f",
            "5d60c7cf639a4a21a9aa1893e2b390e1",
            "b996aca7a5ef4231a30fdbdf83d0a77b",
            "51106168016448968fcf2a6d70f3fe88",
            "361e1be3742441f48c40f61338a222b8",
            "271dff6877244285919bcfc1d3558d02",
            "c35e32153e674f5b9ddbec7c0ce6babb",
            "b58f59a58ff04bae9f71efbd931228f3",
            "4108fc0328a9411f8533862cd52f8ee4",
            "8470c3dace4f4560ab6141c45179233a",
            "6da0b52382eb45a4ae3e91ebf8d10783",
            "5c3c7e7ad3ff4b78b2266b5c1e3cb7c6",
            "bbd512a3d4024e339edabc7013cd079e",
            "b533e2e12d3840a79ecd98e244d5e758",
            "69834f16a74344a283f7c63d7f2dc38f",
            "90d826bb41324b73978c9cd13510f401",
            "5ed302e6c4c2459396dde850d3dc4242",
            "60b3296b6f834481a488f67e95f24502",
            "5cef6caec8344d4ba504116c9fdbc143",
            "03e0710f4c59485a83b9ecbdb464c3fd",
            "9c2d5f53187c44fca48792bebf091478",
            "4b7674578d5e4dfcbe6e53ea0d3ae103",
            "441a9f37150c415286cca146ba43c1b2",
            "7bbe01c0dc684578b1b9a6e3c23a4d92",
            "82d01d1b10e64e2dab2f7d8adedc0602",
            "3d7bcb8e81ca488085b9e12051c4931a",
            "7099a12a4daf4c8cbc00a7a4c97f8090",
            "bcb20ff338d941b0ad493a8e2b1e4e42",
            "adcbe2b9be864838a277f85c7cf17a31",
            "f20c5a1f32ef455b9584cb877cbf779d",
            "9530d34ffa0942a1b3b3de41b4927b3c",
            "8b941f7463a94cb9bbd598c95fa146c3",
            "6f30136880ae4419a98862d8bac91d17",
            "384c555017884793abcc6b4e4ec57846",
            "786d82dfb9734c7683bfef902f3647b2",
            "aa77a673f933446ebb8daa009a8e184b",
            "8f33d955da714cab89f043fe30fbb74e",
            "bc56f6c5e28f4fad9283a983b5d90432",
            "5403d291e97e47c688c217f4da363f5b",
            "aac83b1ef0e04f33905c53ace3b3b136",
            "1da8f014240c427a9d5a19aeed5479a3",
            "1c2c411c83754fec95dc7cf5dd786673",
            "f5393ea15ab74feb8c14123b7e86b708",
            "79d3431487f74d4fa9d0362405ee5cf4",
            "0c47cd70dee94061b7cfddd9c0c25d46",
            "378ae97222254cc58cfc3430d658363e",
            "4d83f22c75074d40806eae91bf5061f4",
            "61ae11aec2c84d0d9a202d8b99a0cf84",
            "276a96c9cbe2410baf5b3a3caf843445",
            "9bd063820fdf4c188db77f6216d046c3",
            "c0b72c3610634ce5a853d9e9692624f0",
            "84fee39a9b3a4da983854f215151ba63",
            "bea25584d6d443a8bfd0267cab8a1d4e",
            "a83cf9497934464499610b3352b11034",
            "fa654c8e96784101819096d4050063ec",
            "8cd9c6cd2d3747ea8b764b27fe25b81d",
            "cacb8bbc8c4b4aaab1562ee163d9d607",
            "799ce3bc0dc44075b9991ec43b6113cc"
          ]
        },
        "id": "414Q0txiE_1V",
        "outputId": "a468e346-eea6-44b6-d45c-9f05977454ea"
      },
      "outputs": [
        {
          "data": {
            "application/vnd.jupyter.widget-view+json": {
              "model_id": "0ac06fbc4e1a43c58f570595885534d2",
              "version_major": 2,
              "version_minor": 0
            },
            "text/plain": [
              "tokenizer_config.json:   0%|          | 0.00/88.0 [00:00<?, ?B/s]"
            ]
          },
          "metadata": {},
          "output_type": "display_data"
        },
        {
          "data": {
            "application/vnd.jupyter.widget-view+json": {
              "model_id": "420bcfd25af846d6ac416b38c2483bc5",
              "version_major": 2,
              "version_minor": 0
            },
            "text/plain": [
              "spiece.model:   0%|          | 0.00/1.91M [00:00<?, ?B/s]"
            ]
          },
          "metadata": {},
          "output_type": "display_data"
        },
        {
          "data": {
            "application/vnd.jupyter.widget-view+json": {
              "model_id": "51106168016448968fcf2a6d70f3fe88",
              "version_major": 2,
              "version_minor": 0
            },
            "text/plain": [
              "special_tokens_map.json:   0%|          | 0.00/65.0 [00:00<?, ?B/s]"
            ]
          },
          "metadata": {},
          "output_type": "display_data"
        },
        {
          "data": {
            "application/vnd.jupyter.widget-view+json": {
              "model_id": "69834f16a74344a283f7c63d7f2dc38f",
              "version_major": 2,
              "version_minor": 0
            },
            "text/plain": [
              "config.json:   0%|          | 0.00/3.09k [00:00<?, ?B/s]"
            ]
          },
          "metadata": {},
          "output_type": "display_data"
        },
        {
          "data": {
            "application/vnd.jupyter.widget-view+json": {
              "model_id": "3d7bcb8e81ca488085b9e12051c4931a",
              "version_major": 2,
              "version_minor": 0
            },
            "text/plain": [
              "pytorch_model.bin:   0%|          | 0.00/2.28G [00:00<?, ?B/s]"
            ]
          },
          "metadata": {},
          "output_type": "display_data"
        },
        {
          "data": {
            "application/vnd.jupyter.widget-view+json": {
              "model_id": "8f33d955da714cab89f043fe30fbb74e",
              "version_major": 2,
              "version_minor": 0
            },
            "text/plain": [
              "model.safetensors:   0%|          | 0.00/2.28G [00:00<?, ?B/s]"
            ]
          },
          "metadata": {},
          "output_type": "display_data"
        },
        {
          "name": "stderr",
          "output_type": "stream",
          "text": [
            "Some weights of PegasusForConditionalGeneration were not initialized from the model checkpoint at google/pegasus-large and are newly initialized: ['model.decoder.embed_positions.weight', 'model.encoder.embed_positions.weight']\n",
            "You should probably TRAIN this model on a down-stream task to be able to use it for predictions and inference.\n"
          ]
        },
        {
          "data": {
            "application/vnd.jupyter.widget-view+json": {
              "model_id": "61ae11aec2c84d0d9a202d8b99a0cf84",
              "version_major": 2,
              "version_minor": 0
            },
            "text/plain": [
              "generation_config.json:   0%|          | 0.00/260 [00:00<?, ?B/s]"
            ]
          },
          "metadata": {},
          "output_type": "display_data"
        }
      ],
      "source": [
        "from transformers import PegasusForConditionalGeneration, PegasusTokenizer\n",
        "\n",
        "# Load the PEGASUS tokenizer and model\n",
        "model_name = \"google/pegasus-large\"  # You can use a domain-specific model if available, e.g., a medical version\n",
        "tokenizer = PegasusTokenizer.from_pretrained(model_name)\n",
        "model = PegasusForConditionalGeneration.from_pretrained(model_name)\n",
        "\n",
        "# Example input medical text (you can replace this with your medical data)\n",
        "input_text = data\n",
        "\n",
        "# Preprocess the input text (tokenization)\n",
        "inputs = tokenizer(input_text, return_tensors=\"pt\", max_length=1024, truncation=True)\n",
        "\n",
        "# Generate the summary (abstractive)\n",
        "summary_ids = model.generate(\n",
        "    inputs[\"input_ids\"],\n",
        "    num_beams=4,\n",
        "    no_repeat_ngram_size=2,\n",
        "    min_length=50,\n",
        "    max_length=200, #adjust higher for more info\n",
        "    length_penalty=2.0, #set to 1.5 incase of maxlen adjusted to higher\n",
        "    early_stopping=True\n",
        ")\n",
        "\n",
        "# Decode the summary\n",
        "summary = tokenizer.decode(summary_ids[0], skip_special_tokens=True)\n",
        "\n"
      ]
    },
    {
      "cell_type": "code",
      "execution_count": null,
      "metadata": {
        "colab": {
          "base_uri": "https://localhost:8080/"
        },
        "id": "kuTvdP_mFIcj",
        "outputId": "47821ecc-dbf5-49ac-9be9-beebbe8ebfb3"
      },
      "outputs": [
        {
          "name": "stdout",
          "output_type": "stream",
          "text": [
            "Abstractive Summary using PEGASUS:\n",
            "In electrical and electronics engineering, the rapid evolution of semiconductor technology has led to the development of ultra-efficient processors and AI accelerators, enabling breakthroughs in fields such as edge computing, IoT, and high-performance computing. Catalysts engineered through machine learning are optimizing reaction pathways in pharmaceuticals and energy production, significantly improving efficiency and reducing emissions.\n"
          ]
        }
      ],
      "source": [
        "# Output the abstractive summary\n",
        "print(\"Abstractive Summary using PEGASUS:\")\n",
        "print(summary)"
      ]
    },
    {
      "cell_type": "code",
      "execution_count": null,
      "metadata": {
        "colab": {
          "base_uri": "https://localhost:8080/",
          "height": 592,
          "referenced_widgets": [
            "c7a9abca618c43c48ce5b4716785e228",
            "20754d09fe024708ac52286fd2381fb0",
            "60f70cc2760a4ec48d3a64b3c456b454",
            "8bab8fcc656948d7aff8349623124654",
            "6a35b164a4674a7bb1d0cbca8ffa563b",
            "a62f93c2cfcb443d91d006222df1394c",
            "5904e639183d4d82934b84ac1171340c",
            "111edf3fd69441db9975f96cef1fe539",
            "7924391f5eb74010a1b34b2c0de50d8f",
            "b4f6f12d450947f1a3cffdac5c7a5682",
            "9d70780ee3584da3a0815243d7f4d335",
            "caaffe4454144ff5b78e79313e4cd5c9",
            "7e5f52dad99447399f2a6d6cbac9f164",
            "45a48ef74fc54a538830a7973d73852f",
            "cdadb639ed6440aaafe66ae712f65e30",
            "bf27cf967f8d45a888f4ab81cb314850",
            "a7c2396db0a1451580a927ed87c776a1",
            "ca9d3231816746808e05342d5e0f3d1f",
            "dbfa85d9455c4541b0a8bac06dd2819e",
            "2ed9863d5191428b96dccbc459c891d1",
            "b73b390353484d69afd4d099014574ff",
            "e61cce70781340d3954ce2c4a78bae31",
            "afdeee34f5694af0b3262ce4eb738435",
            "e1af2ca2b4904143bb01620db48a3cbe",
            "5151a6338ff74bc8ac2ae5328e5cc95e",
            "3f4902e45845484ebe0b4c54bda327fa",
            "77436dad72544b0783de446f2f0314d5",
            "13309f65cf354541a02fa14e00e91b23",
            "e0c53a156b0a4209a58298ac3cf0de6a",
            "488a13db9d644978ba890a8049f01eb1",
            "0c0a00dbe3254451a31159f42c6a8dd1",
            "e04ccbe20af44719a287cacad00e1f85",
            "b00dc8639ea04ef8902e54692068723a",
            "ac436bbed65d4ce0b10f1351cd320e75",
            "fd536f28207b4d4583bcd34e3f251a4e",
            "1a8cf9d7955641dd87c02d8e086af9b9",
            "8efcb88a7eaf4b56b0338fb15b02f556",
            "4ad2471826364ebc9d22b72152e488a6",
            "138d601cea334fb5aadc2578fc535a99",
            "c1bd09e50d00473e9ac38bd4815ee761",
            "b12e1c34731343e4ba1d53b8f1eebf1c",
            "f0249d6aa6eb4e2fb2228e329baf31ed",
            "f8cb7ec6a14f48baa6e0122e629a0853",
            "29a233d067f04149b9f2f7a64ce354b1",
            "71e047aeadf14ef29e9d64446d3f24ba",
            "76fa6fea023e4ac4b150c2685907dd84",
            "56e6fbdbc87c4f189f6fc4cc2f66e1b1",
            "a73093717b8447ef95174a96e01616c7",
            "aefa6c8ab46843b9b0e36399666e5f7b",
            "e906d7fc73e148629866550e63c4fa71",
            "f0b42df9641f4e2e9c92a18590479319",
            "df6519c99a5e44b08984165354b392f4",
            "2557cefc23864a7492173700c78d6bf3",
            "0e9ebc111afc492e89a6ef444fab8a86",
            "8e7fbc30813b4982b0c17849c551c505"
          ]
        },
        "id": "KB7a3j23uG9E",
        "outputId": "a0b23176-e951-4250-fc71-01f23805aea7"
      },
      "outputs": [
        {
          "data": {
            "application/vnd.jupyter.widget-view+json": {
              "model_id": "c7a9abca618c43c48ce5b4716785e228",
              "version_major": 2,
              "version_minor": 0
            },
            "text/plain": [
              "spiece.model:   0%|          | 0.00/792k [00:00<?, ?B/s]"
            ]
          },
          "metadata": {},
          "output_type": "display_data"
        },
        {
          "data": {
            "application/vnd.jupyter.widget-view+json": {
              "model_id": "caaffe4454144ff5b78e79313e4cd5c9",
              "version_major": 2,
              "version_minor": 0
            },
            "text/plain": [
              "tokenizer.json:   0%|          | 0.00/1.39M [00:00<?, ?B/s]"
            ]
          },
          "metadata": {},
          "output_type": "display_data"
        },
        {
          "data": {
            "application/vnd.jupyter.widget-view+json": {
              "model_id": "afdeee34f5694af0b3262ce4eb738435",
              "version_major": 2,
              "version_minor": 0
            },
            "text/plain": [
              "config.json:   0%|          | 0.00/1.21k [00:00<?, ?B/s]"
            ]
          },
          "metadata": {},
          "output_type": "display_data"
        },
        {
          "name": "stderr",
          "output_type": "stream",
          "text": [
            "You are using the default legacy behaviour of the <class 'transformers.models.t5.tokenization_t5.T5Tokenizer'>. This is expected, and simply means that the `legacy` (previous) behavior will be used so nothing changes for you. If you want to use the new behaviour, set `legacy=False`. This should only be set if you understand what it means, and thoroughly read the reason why this was added as explained in https://github.com/huggingface/transformers/pull/24565\n",
            "Xet Storage is enabled for this repo, but the 'hf_xet' package is not installed. Falling back to regular HTTP download. For better performance, install the package with: `pip install huggingface_hub[hf_xet]` or `pip install hf_xet`\n",
            "WARNING:huggingface_hub.file_download:Xet Storage is enabled for this repo, but the 'hf_xet' package is not installed. Falling back to regular HTTP download. For better performance, install the package with: `pip install huggingface_hub[hf_xet]` or `pip install hf_xet`\n"
          ]
        },
        {
          "data": {
            "application/vnd.jupyter.widget-view+json": {
              "model_id": "ac436bbed65d4ce0b10f1351cd320e75",
              "version_major": 2,
              "version_minor": 0
            },
            "text/plain": [
              "model.safetensors:   0%|          | 0.00/2.95G [00:00<?, ?B/s]"
            ]
          },
          "metadata": {},
          "output_type": "display_data"
        },
        {
          "data": {
            "application/vnd.jupyter.widget-view+json": {
              "model_id": "71e047aeadf14ef29e9d64446d3f24ba",
              "version_major": 2,
              "version_minor": 0
            },
            "text/plain": [
              "generation_config.json:   0%|          | 0.00/147 [00:00<?, ?B/s]"
            ]
          },
          "metadata": {},
          "output_type": "display_data"
        },
        {
          "name": "stderr",
          "output_type": "stream",
          "text": [
            "100%|██████████| 161/161 [1:34:45<00:00, 35.31s/it]\n",
            "[nltk_data] Downloading package wordnet to /root/nltk_data...\n",
            "[nltk_data]   Package wordnet is already up-to-date!\n",
            "[nltk_data] Downloading package punkt_tab to /root/nltk_data...\n",
            "[nltk_data]   Package punkt_tab is already up-to-date!\n",
            "[nltk_data] Downloading package omw-1.4 to /root/nltk_data...\n",
            "[nltk_data]   Package omw-1.4 is already up-to-date!\n",
            "Some weights of RobertaModel were not initialized from the model checkpoint at roberta-large and are newly initialized: ['pooler.dense.bias', 'pooler.dense.weight']\n",
            "You should probably TRAIN this model on a down-stream task to be able to use it for predictions and inference.\n"
          ]
        },
        {
          "name": "stdout",
          "output_type": "stream",
          "text": [
            "\n",
            "📊 Evaluation Scores for T5-Large (Engineering Data)\n",
            "\n",
            " --> ROUGE:\n",
            "  ROUGE1   : 0.5164\n",
            "  ROUGE2   : 0.4280\n",
            "  ROUGEL   : 0.4864\n",
            "  ROUGELSUM: 0.4870\n",
            " --> METEOR     : 0.4831\n",
            " --> BERTScore  : 0.8983\n"
          ]
        }
      ],
      "source": [
        "import pandas as pd\n",
        "from tqdm import tqdm\n",
        "import evaluate\n",
        "from transformers import T5Tokenizer, T5ForConditionalGeneration\n",
        "import torch\n",
        "\n",
        "# Load T5-Large model and tokenizer\n",
        "model_name = \"t5-large\"\n",
        "tokenizer = T5Tokenizer.from_pretrained(model_name)\n",
        "model = T5ForConditionalGeneration.from_pretrained(model_name)\n",
        "\n",
        "# Device setup\n",
        "device = \"cuda\" if torch.cuda.is_available() else \"cpu\"\n",
        "model = model.to(device)\n",
        "\n",
        "# Predictions and references\n",
        "predictions = []\n",
        "references = []\n",
        "\n",
        "# Summarization loop\n",
        "for _, row in tqdm(merged_df.iterrows(), total=len(merged_df)):\n",
        "    article = row['text']\n",
        "    ref = row['extractive_summary']\n",
        "\n",
        "    if pd.isna(article) or pd.isna(ref):\n",
        "        continue\n",
        "\n",
        "    # Clean and prepare input\n",
        "    cleaned_article = \"summarize: \" + \" \".join(article.strip().split())\n",
        "\n",
        "    # Tokenize\n",
        "    inputs = tokenizer(cleaned_article, return_tensors=\"pt\", truncation=True, padding=\"longest\", max_length=512).to(device)\n",
        "\n",
        "    # Generate summary\n",
        "    summary_ids = model.generate(\n",
        "        inputs[\"input_ids\"],\n",
        "        max_length=150,          # longer summary for technical content\n",
        "        min_length=40,\n",
        "        num_beams=6,             # better exploration\n",
        "        length_penalty=1.2,      # encourage slightly longer outputs\n",
        "        no_repeat_ngram_size=3,  # avoid repetition\n",
        "        early_stopping=True\n",
        "    )\n",
        "    pred = tokenizer.decode(summary_ids[0], skip_special_tokens=True)\n",
        "\n",
        "    predictions.append(pred)\n",
        "    references.append(ref)\n",
        "\n",
        "# Load evaluation metrics\n",
        "rouge = evaluate.load(\"rouge\")\n",
        "meteor = evaluate.load(\"meteor\")\n",
        "bertscore = evaluate.load(\"bertscore\")\n",
        "\n",
        "# Compute metrics\n",
        "rouge_results = rouge.compute(predictions=predictions, references=references)\n",
        "meteor_results = meteor.compute(predictions=predictions, references=references)\n",
        "bertscore_results = bertscore.compute(predictions=predictions, references=references, lang=\"en\")\n",
        "bertscore_f1_avg = sum(bertscore_results[\"f1\"]) / len(bertscore_results[\"f1\"])\n",
        "\n",
        "# Print scores\n",
        "print(\"\\n📊 Evaluation Scores for T5-Large (Engineering Data)\")\n",
        "print(\"\\n --> ROUGE:\")\n",
        "for metric, score in rouge_results.items():\n",
        "    print(f\"  {metric.upper():<9}: {score:.4f}\")\n",
        "print(f\" --> METEOR     : {meteor_results['meteor']:.4f}\")\n",
        "print(f\" --> BERTScore  : {bertscore_f1_avg:.4f}\")\n"
      ]
    },
    {
      "cell_type": "markdown",
      "metadata": {
        "id": "4s-PnfipGLR4"
      },
      "source": [
        "# **T5**"
      ]
    },
    {
      "cell_type": "code",
      "execution_count": null,
      "metadata": {
        "colab": {
          "base_uri": "https://localhost:8080/",
          "height": 265,
          "referenced_widgets": [
            "d809047f48814e5abf731bbcb9990f15",
            "d54079193b8f4c8abec1577085104571",
            "a549673a0e9642eea9155b0d197f791b",
            "3f9a3c6c855e4d73ac2bcea45a57b3f8",
            "d90d28c8d9324064af5fb7b425616a9b",
            "4700447210dc4fc7ac671ad4f45bb2d0",
            "469ebf50859646afb27e2b6201543a06",
            "a75957b07d0e4d89a4f62f7dc7b1b35e",
            "09ac082973164f43aa35ac9e99e26086",
            "19d924ed5f874d4bbe82f05b98c19f07",
            "5ed8791e95da4d68a6776135de352b93",
            "084ba96a2ed245548c9353caf423b4ef",
            "aec0dee0cf29467980aaec951a30e370",
            "27cd81d64cf349eab13a80adc755f76f",
            "585c2d2a68ba47828923b03fd062e883",
            "8d3a091b32b94e8f840ada68aa33b667",
            "d81f96d30f8642e0a80cbe8ef78864bf",
            "e3a3e4f8292646179d0b2e3b1505fceb",
            "5e75c83d93df44a391abcc41ed57f90b",
            "dfc24a9e398642218f2626683d3a8cdb",
            "25ddb28752d04d7ebd0dcb1c01e5b5b3",
            "9262e1cd79a2432ab19e65d5beb467d4",
            "41fc7226a3954f40b981116ce7bdcb6d",
            "2ad8d14fffb545279ccf748e7b843794",
            "ac560f60103d4ad4bfa20ae0eddc0d1f",
            "8fb0fe0d13854ca084863926a8826fe5",
            "d848c1269ccb4af0ab1a4c0156ee9fe1",
            "0827be882c714add8591f9c48aab2d49",
            "cbcabdbaa42a4b1cb9f1ab1735ca21a0",
            "c9436f57090448829061f5328feaef41",
            "7d97f1f91ad34463b2ec16b2280771fc",
            "3b53a3fc91094dd889d50dc83de08d25",
            "89c4624b143d4a829ee1b994d803313d",
            "9f51d7d6d3584ad386ac51d200746757",
            "02d7783630de48d389e90ba335c898ab",
            "d6222507d9544333bdf2eeac2ad81e7d",
            "12b6cd13c2a74f2c8d17173f11c7441f",
            "744223b9123543729c26d750afe9b498",
            "8454fb6f20774bc696ef7403cef825b5",
            "5b528a82e4384b2f9e0bc27fc85e76a6",
            "204a1917dd71430dba9fa016fdc3c856",
            "d95885e521b24f828ad65ca7f5d928df",
            "b627b0463afa48d9a8cd36d1c9bfc4ab",
            "d026d00f03fc4bbc96981d8e6e9cbfce",
            "e004ce7f577e4a98a9926d0224bcc4be",
            "4b28b77a0ba743ac83d0f015982396ec",
            "d3905feb6d4f41b2837d6fb1ced126bb",
            "096c88b05b514136bff0dfa4601a1458",
            "112d33ab34bb44bdb17d7660a907f720",
            "95c1a5e36c36412ba6152ca22293520a",
            "38941061969a44bfbee4fb9d572590c6",
            "9b12c76962da42cba7278ce14356d2d1",
            "47c3561df90c408dac2d842afd17744b",
            "5532964106f84a1c9eece49e05c13d51",
            "3c59e3291da54133b17183e8dd72fd41",
            "9500719f0ace4515bb7aec513e019982",
            "f392a148f0cc4ea081121696d73524ad",
            "8eaf8f2d084841c6a1df464bd2897c65",
            "315d3f985a5b45adac34861b02bd0462",
            "ec319c9f090741e4ad87d0bb635ee5f6",
            "02e6afeb2ebf4bf496be44511f74d4da",
            "8dde4c0df6c54e72a8cc85177b425399",
            "340090caf6a041e7802332aa5748f030",
            "ac81aee2935145599aa1f02d157a3aa2",
            "602e970b368f4cf98be340640a6326b5",
            "006c64c608874913b0556bea0652356a"
          ]
        },
        "id": "Rx4LAsMvGWd9",
        "outputId": "5aa7ecbc-1f11-49b1-bb88-8a7b9fd53bef"
      },
      "outputs": [
        {
          "data": {
            "application/vnd.jupyter.widget-view+json": {
              "model_id": "d809047f48814e5abf731bbcb9990f15",
              "version_major": 2,
              "version_minor": 0
            },
            "text/plain": [
              "tokenizer_config.json:   0%|          | 0.00/2.32k [00:00<?, ?B/s]"
            ]
          },
          "metadata": {},
          "output_type": "display_data"
        },
        {
          "data": {
            "application/vnd.jupyter.widget-view+json": {
              "model_id": "084ba96a2ed245548c9353caf423b4ef",
              "version_major": 2,
              "version_minor": 0
            },
            "text/plain": [
              "spiece.model:   0%|          | 0.00/792k [00:00<?, ?B/s]"
            ]
          },
          "metadata": {},
          "output_type": "display_data"
        },
        {
          "data": {
            "application/vnd.jupyter.widget-view+json": {
              "model_id": "41fc7226a3954f40b981116ce7bdcb6d",
              "version_major": 2,
              "version_minor": 0
            },
            "text/plain": [
              "tokenizer.json:   0%|          | 0.00/1.39M [00:00<?, ?B/s]"
            ]
          },
          "metadata": {},
          "output_type": "display_data"
        },
        {
          "data": {
            "application/vnd.jupyter.widget-view+json": {
              "model_id": "9f51d7d6d3584ad386ac51d200746757",
              "version_major": 2,
              "version_minor": 0
            },
            "text/plain": [
              "config.json:   0%|          | 0.00/1.21k [00:00<?, ?B/s]"
            ]
          },
          "metadata": {},
          "output_type": "display_data"
        },
        {
          "name": "stderr",
          "output_type": "stream",
          "text": [
            "Xet Storage is enabled for this repo, but the 'hf_xet' package is not installed. Falling back to regular HTTP download. For better performance, install the package with: `pip install huggingface_hub[hf_xet]` or `pip install hf_xet`\n",
            "WARNING:huggingface_hub.file_download:Xet Storage is enabled for this repo, but the 'hf_xet' package is not installed. Falling back to regular HTTP download. For better performance, install the package with: `pip install huggingface_hub[hf_xet]` or `pip install hf_xet`\n"
          ]
        },
        {
          "data": {
            "application/vnd.jupyter.widget-view+json": {
              "model_id": "e004ce7f577e4a98a9926d0224bcc4be",
              "version_major": 2,
              "version_minor": 0
            },
            "text/plain": [
              "model.safetensors:   0%|          | 0.00/242M [00:00<?, ?B/s]"
            ]
          },
          "metadata": {},
          "output_type": "display_data"
        },
        {
          "data": {
            "application/vnd.jupyter.widget-view+json": {
              "model_id": "9500719f0ace4515bb7aec513e019982",
              "version_major": 2,
              "version_minor": 0
            },
            "text/plain": [
              "generation_config.json:   0%|          | 0.00/147 [00:00<?, ?B/s]"
            ]
          },
          "metadata": {},
          "output_type": "display_data"
        }
      ],
      "source": [
        "from transformers import T5ForConditionalGeneration, T5Tokenizer\n",
        "\n",
        "# Load T5 model and tokenizer\n",
        "model_name = \"t5-small\"  # You can also use \"t5-base\" or \"t5-large\" for better quality\n",
        "tokenizer = T5Tokenizer.from_pretrained(model_name)\n",
        "model = T5ForConditionalGeneration.from_pretrained(model_name)\n",
        "\n",
        "# Example general text for summarization\n",
        "input_text = data\n",
        "\n",
        "# Preprocess input text for T5\n",
        "input_text = \"summarize: \" + input_text  # T5 expects a prefix like \"summarize:\"\n",
        "inputs = tokenizer.encode(input_text, return_tensors=\"pt\", max_length=512, truncation=True)\n",
        "\n",
        "# Generate summary\n",
        "summary_ids = model.generate(inputs, max_length=150, num_beams=4, early_stopping=True)\n",
        "summary = tokenizer.decode(summary_ids[0], skip_special_tokens=True)\n",
        "\n",
        "\n"
      ]
    },
    {
      "cell_type": "code",
      "execution_count": null,
      "metadata": {
        "colab": {
          "base_uri": "https://localhost:8080/"
        },
        "id": "BglSOxwzGXAr",
        "outputId": "7d3fe9bd-11ba-4e04-a323-29552430aec3"
      },
      "outputs": [
        {
          "name": "stdout",
          "output_type": "stream",
          "text": [
            "T5 Summary:\n",
            "additive manufacturing (3D printing) has revolutionized prototyping and mass production. additive manufacturing (3D printing) has revolutionized prototyping and mass production, allowing for complex geometries and material efficiency. robotics, powered by AI and machine learning, is automating industrial processes, reducing drag and improving fuel efficiency.\n"
          ]
        }
      ],
      "source": [
        "# Print summarized text\n",
        "print(\"T5 Summary:\")\n",
        "print(summary)"
      ]
    },
    {
      "cell_type": "code",
      "execution_count": null,
      "metadata": {
        "colab": {
          "base_uri": "https://localhost:8080/",
          "height": 574,
          "referenced_widgets": [
            "ad2add54503442ab9ca4eed5d12dd117",
            "f4d4819fa2b94035bf44fc708da81b0f",
            "d749220de263463d8cd776ab05c79cc7",
            "d6564d4c41a64525ac977b3f5923219a",
            "f41a810d30b746f18cf48961c950dfd9",
            "cfbe657be7cf457ebe46049ec2b31d8e",
            "d3f1bb03acd44a95a8d5c19f60cf3b02",
            "a9dd33fc4030464daed9912f4a79e096",
            "911fcfc481364af5896a982b1b3c821e",
            "c6516d899c084b5a96651291f543a768",
            "1621a4ef0b874c8c8896233b4a869cc4",
            "3e4527e11b1f49549669770b98bdf51b",
            "77571933c45248808f4a464a2e67d635",
            "69f77ea487aa4ecea75a5a91a001bce2",
            "b7b55be2d12b4851863c936af02ad452",
            "8f7ac292556444f5aaed8005d702bcd3",
            "7c3880ad58fc4c18b27015dc208e4c79",
            "045ad66184f04d28a845158a0e283258",
            "9f641d7930714eed926a7cdb2a60453b",
            "001fc39eb3d547bea23ad1f9b7c6c05d",
            "a27fab9e78904d6db392d78934d24336",
            "8c72b16f09b8460fbaf8c6e1e998ef0d",
            "c0316f918e944df5ae3b58974a497ba6",
            "cfa187c636874c658bcd226d1e3a1d3c",
            "9fe6e2b24ccf4edbbc6402ca3de20d61",
            "361d4eb7fafe42cb93430f5c4726a7d8",
            "4339326c587e408abd094758d041b875",
            "feb9bebca6d344e092a3ffae08524855",
            "658778f938d441049b97e101b935c133",
            "bd53e456761f4e5a8513c52425507f54",
            "12e7b2997d6348c888469e6f92f39a55",
            "84a56398d09f40bb8c37052a44806a7c",
            "6cbcfe889884421db7304bd98df05226",
            "788cdbbb593540b2966b901f22316ace",
            "574c669427484f9787933dd6f63e9b31",
            "43238c09f2f1490a8e422785d8ea4186",
            "697b5f7def5a43b39d23be6e52f13bc7",
            "ffb6625207cf406e9d5793630a8fe6ea",
            "2a43166fcbf44c5396a45d6d1633eaa5",
            "b8384f516e3c4c5d943a50dc3b6e8d8e",
            "9c358342317d486a9e421549f981efaa",
            "0d2f38aeba994c5c84866e428334e94c",
            "62b2866bc9fd49588393b2906678b9e4",
            "8b83f700fa954076b92aaab5fdd8e46c",
            "1e72e3eee8814828b37178da80166cd3",
            "08224c28569d4f5e8602ed7980ae7226",
            "d19838aaa146450696b7f96aeb7552d3",
            "e761b4f8877c48beabb2da214e6c895d",
            "69edf85b3bd04f878199c951368e94a1",
            "56ebb4e860dd448fa98576d007f00d3e",
            "7dd22cd8e06d41268c58495fbc4402a8",
            "2904b224a2674622836a2c5419c544d8",
            "5c67987ca29f4f30b6be6da7bcfee69f",
            "4e4fa6c8b12b49dd94942188af64a9bd",
            "ccb6feeac9dd4a25a07e7b23ad62fa66"
          ]
        },
        "id": "4GsCtxn7foeY",
        "outputId": "06ac4b5f-8024-4f76-807a-db0a71edcd8d"
      },
      "outputs": [
        {
          "data": {
            "application/vnd.jupyter.widget-view+json": {
              "model_id": "ad2add54503442ab9ca4eed5d12dd117",
              "version_major": 2,
              "version_minor": 0
            },
            "text/plain": [
              "spiece.model:   0%|          | 0.00/792k [00:00<?, ?B/s]"
            ]
          },
          "metadata": {},
          "output_type": "display_data"
        },
        {
          "data": {
            "application/vnd.jupyter.widget-view+json": {
              "model_id": "3e4527e11b1f49549669770b98bdf51b",
              "version_major": 2,
              "version_minor": 0
            },
            "text/plain": [
              "tokenizer.json:   0%|          | 0.00/1.39M [00:00<?, ?B/s]"
            ]
          },
          "metadata": {},
          "output_type": "display_data"
        },
        {
          "data": {
            "application/vnd.jupyter.widget-view+json": {
              "model_id": "c0316f918e944df5ae3b58974a497ba6",
              "version_major": 2,
              "version_minor": 0
            },
            "text/plain": [
              "config.json:   0%|          | 0.00/1.21k [00:00<?, ?B/s]"
            ]
          },
          "metadata": {},
          "output_type": "display_data"
        },
        {
          "name": "stderr",
          "output_type": "stream",
          "text": [
            "Xet Storage is enabled for this repo, but the 'hf_xet' package is not installed. Falling back to regular HTTP download. For better performance, install the package with: `pip install huggingface_hub[hf_xet]` or `pip install hf_xet`\n",
            "WARNING:huggingface_hub.file_download:Xet Storage is enabled for this repo, but the 'hf_xet' package is not installed. Falling back to regular HTTP download. For better performance, install the package with: `pip install huggingface_hub[hf_xet]` or `pip install hf_xet`\n"
          ]
        },
        {
          "data": {
            "application/vnd.jupyter.widget-view+json": {
              "model_id": "788cdbbb593540b2966b901f22316ace",
              "version_major": 2,
              "version_minor": 0
            },
            "text/plain": [
              "model.safetensors:   0%|          | 0.00/892M [00:00<?, ?B/s]"
            ]
          },
          "metadata": {},
          "output_type": "display_data"
        },
        {
          "data": {
            "application/vnd.jupyter.widget-view+json": {
              "model_id": "1e72e3eee8814828b37178da80166cd3",
              "version_major": 2,
              "version_minor": 0
            },
            "text/plain": [
              "generation_config.json:   0%|          | 0.00/147 [00:00<?, ?B/s]"
            ]
          },
          "metadata": {},
          "output_type": "display_data"
        },
        {
          "name": "stderr",
          "output_type": "stream",
          "text": [
            "100%|██████████| 161/161 [24:05<00:00,  8.98s/it]\n",
            "[nltk_data] Downloading package wordnet to /root/nltk_data...\n",
            "[nltk_data]   Package wordnet is already up-to-date!\n",
            "[nltk_data] Downloading package punkt_tab to /root/nltk_data...\n",
            "[nltk_data]   Package punkt_tab is already up-to-date!\n",
            "[nltk_data] Downloading package omw-1.4 to /root/nltk_data...\n",
            "[nltk_data]   Package omw-1.4 is already up-to-date!\n",
            "Some weights of RobertaModel were not initialized from the model checkpoint at roberta-large and are newly initialized: ['pooler.dense.bias', 'pooler.dense.weight']\n",
            "You should probably TRAIN this model on a down-stream task to be able to use it for predictions and inference.\n"
          ]
        },
        {
          "name": "stdout",
          "output_type": "stream",
          "text": [
            "\n",
            "📊 Evaluation Scores for T5 Abstractive Summarization\n",
            "\n",
            " --> ROUGE:\n",
            "  ROUGE1   : 0.4907\n",
            "  ROUGE2   : 0.3981\n",
            "  ROUGEL   : 0.4572\n",
            "  ROUGELSUM: 0.4571\n",
            " --> METEOR     : 0.4382\n",
            " --> BERTScore  : 0.8950\n"
          ]
        }
      ],
      "source": [
        "import pandas as pd\n",
        "from tqdm import tqdm\n",
        "import evaluate\n",
        "from transformers import T5Tokenizer, T5ForConditionalGeneration\n",
        "import torch\n",
        "\n",
        "# Load T5 model and tokenizer\n",
        "model_name = \"t5-base\"  # Or use \"t5-small\", \"t5-large\", etc.\n",
        "tokenizer = T5Tokenizer.from_pretrained(model_name)\n",
        "model = T5ForConditionalGeneration.from_pretrained(model_name)\n",
        "\n",
        "# Device setup\n",
        "device = \"cuda\" if torch.cuda.is_available() else \"cpu\"\n",
        "model = model.to(device)\n",
        "\n",
        "# Predictions and references\n",
        "predictions = []\n",
        "references = []\n",
        "\n",
        "# Summarization loop\n",
        "for _, row in tqdm(merged_df.iterrows(), total=len(merged_df)):\n",
        "    article = row['text']\n",
        "    ref = row['extractive_summary']\n",
        "\n",
        "    if pd.isna(article) or pd.isna(ref):\n",
        "        continue\n",
        "\n",
        "    # Add T5 prefix for summarization\n",
        "    input_text = \"summarize: \" + article.strip().replace(\"\\n\", \" \")\n",
        "\n",
        "    # Tokenize and summarize\n",
        "    inputs = tokenizer(input_text, return_tensors=\"pt\", truncation=True, padding=\"longest\", max_length=512).to(device)\n",
        "    summary_ids = model.generate(inputs[\"input_ids\"], max_length=100, min_length=30, num_beams=4, length_penalty=2.0, early_stopping=True)\n",
        "    pred = tokenizer.decode(summary_ids[0], skip_special_tokens=True)\n",
        "\n",
        "    predictions.append(pred)\n",
        "    references.append(ref)\n",
        "\n",
        "# Load evaluation metrics\n",
        "rouge = evaluate.load(\"rouge\")\n",
        "meteor = evaluate.load(\"meteor\")\n",
        "bertscore = evaluate.load(\"bertscore\")\n",
        "\n",
        "# Compute metrics\n",
        "rouge_results = rouge.compute(predictions=predictions, references=references)\n",
        "meteor_results = meteor.compute(predictions=predictions, references=references)\n",
        "bertscore_results = bertscore.compute(predictions=predictions, references=references, lang=\"en\")\n",
        "bertscore_f1_avg = sum(bertscore_results[\"f1\"]) / len(bertscore_results[\"f1\"])\n",
        "\n",
        "# Print scores\n",
        "print(\"\\n📊 Evaluation Scores for T5 Abstractive Summarization\")\n",
        "print(\"\\n --> ROUGE:\")\n",
        "for metric, score in rouge_results.items():\n",
        "    print(f\"  {metric.upper():<9}: {score:.4f}\")\n",
        "print(f\" --> METEOR     : {meteor_results['meteor']:.4f}\")\n",
        "print(f\" --> BERTScore  : {bertscore_f1_avg:.4f}\")\n"
      ]
    },
    {
      "cell_type": "markdown",
      "metadata": {
        "id": "Rvg2ppiWHs2Q"
      },
      "source": [
        "# **BART**"
      ]
    },
    {
      "cell_type": "code",
      "execution_count": null,
      "metadata": {
        "colab": {
          "base_uri": "https://localhost:8080/",
          "height": 263,
          "referenced_widgets": [
            "bf470b9272684f989eddf4a3c9d3a8c5",
            "5873c46af3cf48fb8868acd3104676cd",
            "8caf286e1f024b5387ed621220dbc555",
            "b9fc89b637d74b7da2ce4ae0807eb009",
            "a4702152be914abebf63154b3e186fdb",
            "08d6ed8e158443cd95dac0fc545daa1c",
            "a7f275e14f2342d3be972e878793a5f7",
            "d3a6592fecda477e9f2d552f45cc347a",
            "8abaec38d19749b5bc7324e129ee0277",
            "8d9d8ea7da904a199113e55b76e32746",
            "0a92f88ea5634519aeb99b19adeaa8fd",
            "c6e1325f4e24445ba4b37cae52fc99b0",
            "a1e9f8bded8c4bafb7f57db427947406",
            "76058929770b4e6c90b7723913a5a0c7",
            "aff7bf94b750499db34650c4df6555f8",
            "ee071ef3f30f4c64b31b878bb5df234a",
            "d84bc519b4754c3c915ad52d3e568815",
            "ae18b622e1ce471792099dfe7f10c583",
            "952b5958ba2744b0a1a1f2ef67e5f38a",
            "353f9a296f6e4728bd055a45b45c789d",
            "c76de799c3bb419c95cb618aa6d0d7cf",
            "1b3416a9d4984f6188d66ca1ac769bef",
            "971b1b46b4384f0eb3b0ba913b99d876",
            "237fbbb08c44433b8266c705b14a7693",
            "c7dd4281c76241fd9c5d5229833330df",
            "426632b6adc64748af94f863f5c3f199",
            "66e706838d684f618cc3547d59d59552",
            "3fde111cb3034090952c04c42b3530f3",
            "29735c30d4744953ab8b1ee4158b23c2",
            "6fa9322f9d0540759ef7c5e61a1fdae6",
            "f58d9a70f77e470ca0590269d5693142",
            "adf0830de908463fa63de3a24b112202",
            "419ec6e1a0984c589abbaac4963d033d",
            "18619a2429ea48448d961c1a1fa03f16",
            "41d9a224872b42c1b3ed85774d6ddcb5",
            "b2da78e772b244c08c0462d1e674b9ad",
            "0ea4eceaf7794151a9ee6935c2a81474",
            "229c681ea73548dc8dc977e59b81b670",
            "72c6d0fec5be4f03baf2f18103e169e6",
            "671846bced4f4252b901a2f1350a893d",
            "39159356e5a442299bea077d7e18c09f",
            "54e9181fc3fc45ce95b5b9ec51c65595",
            "739f338948ad4e509f2cb463d5b4fefb",
            "e98cd28fbe9e4be988523cda608eb79a",
            "d17325ba9bd245978a173636a59cfcb8",
            "d40b846ede44433586c98c7e4f10395a",
            "21abf235f0184dd1a124d27b6ad3d629",
            "3827ef40befd453c98ed034df94c06fa",
            "d0c84457171941e495e1423b480f01b7",
            "68d642d497ef46dc8cd4f40508e4d879",
            "e1a332bc1fb1442389e580fbb449189b",
            "4daaa259234340a585060bdcc56b77a0",
            "a427ab20c4164b7faa7b90dcbfa55383",
            "1e14aca0ddb7485c9f2753d43173e384",
            "24d98d1dc8574554a76e47c8275a7c4d",
            "fc495264c1ca472db5574b3ab6455797",
            "28a45c334465447687837c8f222e2642",
            "969298a2d83941659570f8c4e87b3348",
            "56e4118ef0e541ed8389f7dea1ea40ad",
            "2c71d0fc924f4d80b78242f49be39024",
            "3a578757c50c4c9cb0db85cb8f1634b5",
            "29ab4be801724572bb1514bd2f38bc7d",
            "2e5b0274333b48dda3ab689ffc940626",
            "8f23d5b836b84f12a2b586f98ae64d32",
            "133966772844477e8fa95ee40b7d234f",
            "370d617521cc4ffba91b91e07a7bffd8"
          ]
        },
        "id": "lPXFngS6Hu20",
        "outputId": "1d729ceb-1de3-49cf-d636-b19be00e5e89"
      },
      "outputs": [
        {
          "data": {
            "application/vnd.jupyter.widget-view+json": {
              "model_id": "bf470b9272684f989eddf4a3c9d3a8c5",
              "version_major": 2,
              "version_minor": 0
            },
            "text/plain": [
              "vocab.json:   0%|          | 0.00/899k [00:00<?, ?B/s]"
            ]
          },
          "metadata": {},
          "output_type": "display_data"
        },
        {
          "data": {
            "application/vnd.jupyter.widget-view+json": {
              "model_id": "c6e1325f4e24445ba4b37cae52fc99b0",
              "version_major": 2,
              "version_minor": 0
            },
            "text/plain": [
              "merges.txt:   0%|          | 0.00/456k [00:00<?, ?B/s]"
            ]
          },
          "metadata": {},
          "output_type": "display_data"
        },
        {
          "data": {
            "application/vnd.jupyter.widget-view+json": {
              "model_id": "971b1b46b4384f0eb3b0ba913b99d876",
              "version_major": 2,
              "version_minor": 0
            },
            "text/plain": [
              "tokenizer.json:   0%|          | 0.00/1.36M [00:00<?, ?B/s]"
            ]
          },
          "metadata": {},
          "output_type": "display_data"
        },
        {
          "data": {
            "application/vnd.jupyter.widget-view+json": {
              "model_id": "18619a2429ea48448d961c1a1fa03f16",
              "version_major": 2,
              "version_minor": 0
            },
            "text/plain": [
              "config.json:   0%|          | 0.00/1.58k [00:00<?, ?B/s]"
            ]
          },
          "metadata": {},
          "output_type": "display_data"
        },
        {
          "data": {
            "application/vnd.jupyter.widget-view+json": {
              "model_id": "d17325ba9bd245978a173636a59cfcb8",
              "version_major": 2,
              "version_minor": 0
            },
            "text/plain": [
              "model.safetensors:   0%|          | 0.00/1.63G [00:00<?, ?B/s]"
            ]
          },
          "metadata": {},
          "output_type": "display_data"
        },
        {
          "data": {
            "application/vnd.jupyter.widget-view+json": {
              "model_id": "fc495264c1ca472db5574b3ab6455797",
              "version_major": 2,
              "version_minor": 0
            },
            "text/plain": [
              "generation_config.json:   0%|          | 0.00/363 [00:00<?, ?B/s]"
            ]
          },
          "metadata": {},
          "output_type": "display_data"
        },
        {
          "name": "stdout",
          "output_type": "stream",
          "text": [
            "The Transport Layer is a critical component of the network protocol stack in computer systems.\n",
            "Its primary responsibility is to provide reliable data transfer services to the applications running on networked computers.\n",
            "This layer ensures that data is delivered error-free, in sequence, and with no losses or duplications.\n"
          ]
        }
      ],
      "source": [
        "from transformers import BartForConditionalGeneration, BartTokenizer\n",
        "\n",
        "# Load the BART model and tokenizer\n",
        "model_name = \"facebook/bart-large-cnn\"  # Pretrained BART model for summarization\n",
        "tokenizer = BartTokenizer.from_pretrained(model_name)\n",
        "model = BartForConditionalGeneration.from_pretrained(model_name)\n",
        "\n",
        "def summarize_text(text, max_length=150, min_length=50):\n",
        "    # Tokenize input text\n",
        "    inputs = tokenizer.encode(\"summarize: \" + text, return_tensors=\"pt\", max_length=1024, truncation=True)\n",
        "\n",
        "    # Generate summary\n",
        "    summary_ids = model.generate(inputs, max_length=max_length, min_length=min_length, length_penalty=2.0, num_beams=4, early_stopping=True)\n",
        "\n",
        "    # Decode and return summary\n",
        "    summary = tokenizer.decode(summary_ids[0], skip_special_tokens=True)\n",
        "    return summary\n",
        "\n",
        "input_text='''\n",
        "The Transport Layer is a critical component of the network protocol stack in computer systems. It resides above the network layer and below the application layer in the OSI (Open Systems Interconnection) model. Its primary responsibility is to provide reliable data transfer services to the applications running on networked computers. This layer ensures that data is delivered error-free, in sequence, and with no losses or duplications. It abstracts the complexities of the underlying network and presents a clean interface to the application layer for sending and receiving data.\n",
        "One of the core functions of the transport layer is segmentation and reassembly. Large messages from the application layer are divided into smaller segments that can be efficiently transmitted over the network. These segments are later reassembled at the receiving end to reconstruct the original message. The transport layer also manages flow control, which ensures that a sender does not overwhelm a receiver by sending data too fast for it to process. Additionally, error control mechanisms detect and correct errors that may occur during transmission, using checksums and acknowledgment schemes.\n",
        "Two of the most common transport layer protocols are Transmission Control Protocol (TCP) and User Datagram Protocol (UDP). TCP is a connection-oriented protocol that provides reliable communication through features like connection establishment (three-way handshake), sequencing, acknowledgments, and retransmissions of lost packets. It is ideal for applications where accuracy and reliability are crucial, such as file transfers and emails. On the other hand, UDP is a connectionless protocol that offers fast, lightweight communication without the overhead of reliability mechanisms. It is suitable for time-sensitive applications like video streaming or online gaming, where speed is more critical than absolute accuracy.\n",
        "The transport layer also plays an essential role in multiplexing and demultiplexing. It uses port numbers to distinguish between multiple communication sessions on a single device. This allows different applications, such as a web browser and an email client, to communicate over the network simultaneously without interfering with each other. By maintaining end-to-end communication and ensuring proper data delivery, the transport layer significantly contributes to the overall reliability and efficiency of networked systems.\n",
        "In summary, the transport layer serves as a vital intermediary that bridges the gap between network-level data transmission and application-level services. It ensures that data flows smoothly, securely, and efficiently across devices in a network, making it indispensable in modern operating systems and network architectures.\n",
        "'''\n",
        "# Generate summary\n",
        "summary = summarize_text(input_text)\n",
        "\n",
        "# Print sentence-wise output\n",
        "for sen in summary.split('.'):\n",
        "    if sen.strip():\n",
        "        print(sen.strip() + '.')\n"
      ]
    },
    {
      "cell_type": "code",
      "execution_count": null,
      "metadata": {
        "colab": {
          "base_uri": "https://localhost:8080/"
        },
        "id": "QQ2Us4fYHxXs",
        "outputId": "8e3d6eb6-83f5-4a38-9b64-0872dad4bd41"
      },
      "outputs": [
        {
          "name": "stdout",
          "output_type": "stream",
          "text": [
            "The Transport Layer is a critical component of the network protocol stack in computer systems\n",
            " Its primary responsibility is to provide reliable data transfer services to the applications running on networked computers\n",
            " This layer ensures that data is delivered error-free, in sequence, and with no losses or duplications\n",
            "\n"
          ]
        }
      ],
      "source": [
        "# Example Input: News Article Text\n",
        "# Generate summary\n",
        "summary = summarize_text(input_text)\n",
        "\n",
        "for sen in summary.split('.'):\n",
        "  print(sen)"
      ]
    },
    {
      "cell_type": "code",
      "execution_count": null,
      "metadata": {
        "colab": {
          "base_uri": "https://localhost:8080/"
        },
        "id": "j7-JtZyjHvdC",
        "outputId": "07aa673d-12a1-4d6d-a2c4-c74f17366855"
      },
      "outputs": [
        {
          "name": "stderr",
          "output_type": "stream",
          "text": [
            "100%|██████████| 161/161 [41:06<00:00, 15.32s/it]\n",
            "[nltk_data] Downloading package wordnet to /root/nltk_data...\n",
            "[nltk_data]   Package wordnet is already up-to-date!\n",
            "[nltk_data] Downloading package punkt_tab to /root/nltk_data...\n",
            "[nltk_data]   Package punkt_tab is already up-to-date!\n",
            "[nltk_data] Downloading package omw-1.4 to /root/nltk_data...\n",
            "[nltk_data]   Package omw-1.4 is already up-to-date!\n",
            "Some weights of RobertaModel were not initialized from the model checkpoint at roberta-large and are newly initialized: ['pooler.dense.bias', 'pooler.dense.weight']\n",
            "You should probably TRAIN this model on a down-stream task to be able to use it for predictions and inference.\n"
          ]
        },
        {
          "name": "stdout",
          "output_type": "stream",
          "text": [
            "\n",
            "📊 Evaluation Scores for BART Abstractive Summarization\n",
            "\n",
            " --> ROUGE:\n",
            "  ROUGE1   : 0.5510\n",
            "  ROUGE2   : 0.4667\n",
            "  ROUGEL   : 0.5180\n",
            "  ROUGELSUM: 0.5187\n",
            " --> METEOR     : 0.5285\n",
            " --> BERTScore  : 0.9145\n"
          ]
        },
        {
          "name": "stderr",
          "output_type": "stream",
          "text": [
            "100%|██████████| 161/161 [40:34<00:00, 15.12s/it]\n",
            "[nltk_data] Downloading package wordnet to /root/nltk_data...\n",
            "[nltk_data]   Package wordnet is already up-to-date!\n",
            "[nltk_data] Downloading package punkt_tab to /root/nltk_data...\n",
            "[nltk_data]   Package punkt_tab is already up-to-date!\n",
            "[nltk_data] Downloading package omw-1.4 to /root/nltk_data...\n",
            "[nltk_data]   Package omw-1.4 is already up-to-date!\n",
            "Some weights of RobertaModel were not initialized from the model checkpoint at roberta-large and are newly initialized: ['pooler.dense.bias', 'pooler.dense.weight']\n",
            "You should probably TRAIN this model on a down-stream task to be able to use it for predictions and inference.\n"
          ]
        },
        {
          "name": "stdout",
          "output_type": "stream",
          "text": [
            "\n",
            "📊 Evaluation Scores for BART Abstractive Summarization\n",
            "\n",
            " --> ROUGE:\n",
            "  ROUGE1   : 0.5510\n",
            "  ROUGE2   : 0.4667\n",
            "  ROUGEL   : 0.5180\n",
            "  ROUGELSUM: 0.5187\n",
            " --> METEOR     : 0.5285\n",
            " --> BERTScore  : 0.9145\n"
          ]
        }
      ],
      "source": [
        "import pandas as pd\n",
        "from tqdm import tqdm\n",
        "import evaluate\n",
        "from transformers import BartForConditionalGeneration, BartTokenizer\n",
        "import torch\n",
        "\n",
        "# Load BART model and tokenizer\n",
        "model_name = \"facebook/bart-large-cnn\"  # good for summarization tasks\n",
        "tokenizer = BartTokenizer.from_pretrained(model_name)\n",
        "model = BartForConditionalGeneration.from_pretrained(model_name)\n",
        "\n",
        "# Device setup\n",
        "device = \"cuda\" if torch.cuda.is_available() else \"cpu\"\n",
        "model = model.to(device)\n",
        "\n",
        "# Predictions and references\n",
        "predictions = []\n",
        "references = []\n",
        "\n",
        "# Summarization loop\n",
        "for _, row in tqdm(merged_df.iterrows(), total=len(merged_df)):\n",
        "    article = row['text']\n",
        "    ref = row['extractive_summary']\n",
        "\n",
        "    if pd.isna(article) or pd.isna(ref):\n",
        "        continue\n",
        "\n",
        "    # Tokenize and summarize\n",
        "    inputs = tokenizer(article, return_tensors=\"pt\", truncation=True, padding=\"longest\", max_length=1024).to(device)\n",
        "    summary_ids = model.generate(inputs[\"input_ids\"], max_length=130, min_length=30, length_penalty=2.0, num_beams=4, early_stopping=True)\n",
        "    pred = tokenizer.decode(summary_ids[0], skip_special_tokens=True)\n",
        "\n",
        "    predictions.append(pred)\n",
        "    references.append(ref)\n",
        "\n",
        "# Load evaluation metrics\n",
        "rouge = evaluate.load(\"rouge\")\n",
        "meteor = evaluate.load(\"meteor\")\n",
        "bertscore = evaluate.load(\"bertscore\")\n",
        "\n",
        "# Compute metrics\n",
        "rouge_results = rouge.compute(predictions=predictions, references=references)\n",
        "meteor_results = meteor.compute(predictions=predictions, references=references)\n",
        "bertscore_results = bertscore.compute(predictions=predictions, references=references, lang=\"en\")\n",
        "bertscore_f1_avg = sum(bertscore_results[\"f1\"]) / len(bertscore_results[\"f1\"])\n",
        "\n",
        "# Print scores\n",
        "print(\"\\n📊 Evaluation Scores for BART Abstractive Summarization\")\n",
        "print(\"\\n --> ROUGE:\")\n",
        "for metric, score in rouge_results.items():\n",
        "    print(f\"  {metric.upper():<9}: {score:.4f}\")\n",
        "print(f\" --> METEOR     : {meteor_results['meteor']:.4f}\")\n",
        "print(f\" --> BERTScore  : {bertscore_f1_avg:.4f}\")\n"
      ]
    },
    {
      "cell_type": "code",
      "execution_count": null,
      "metadata": {
        "colab": {
          "base_uri": "https://localhost:8080/"
        },
        "id": "cGQvZnI9NM6u",
        "outputId": "f412e31b-f0ce-44b3-d5e9-e63eec8770f1"
      },
      "outputs": [
        {
          "name": "stdout",
          "output_type": "stream",
          "text": [
            "Collecting flask_ngrok\n",
            "  Downloading flask_ngrok-0.0.25-py3-none-any.whl.metadata (1.8 kB)\n",
            "Collecting pyngrok\n",
            "  Downloading pyngrok-7.2.5-py3-none-any.whl.metadata (8.9 kB)\n",
            "Requirement already satisfied: transformers in /usr/local/lib/python3.11/dist-packages (4.51.3)\n",
            "Collecting sumy\n",
            "  Downloading sumy-0.11.0-py2.py3-none-any.whl.metadata (7.5 kB)\n",
            "Requirement already satisfied: Flask>=0.8 in /usr/local/lib/python3.11/dist-packages (from flask_ngrok) (3.1.0)\n",
            "Requirement already satisfied: requests in /usr/local/lib/python3.11/dist-packages (from flask_ngrok) (2.32.3)\n",
            "Requirement already satisfied: PyYAML>=5.1 in /usr/local/lib/python3.11/dist-packages (from pyngrok) (6.0.2)\n",
            "Requirement already satisfied: filelock in /usr/local/lib/python3.11/dist-packages (from transformers) (3.18.0)\n",
            "Requirement already satisfied: huggingface-hub<1.0,>=0.30.0 in /usr/local/lib/python3.11/dist-packages (from transformers) (0.30.2)\n",
            "Requirement already satisfied: numpy>=1.17 in /usr/local/lib/python3.11/dist-packages (from transformers) (2.0.2)\n",
            "Requirement already satisfied: packaging>=20.0 in /usr/local/lib/python3.11/dist-packages (from transformers) (24.2)\n",
            "Requirement already satisfied: regex!=2019.12.17 in /usr/local/lib/python3.11/dist-packages (from transformers) (2024.11.6)\n",
            "Requirement already satisfied: tokenizers<0.22,>=0.21 in /usr/local/lib/python3.11/dist-packages (from transformers) (0.21.1)\n",
            "Requirement already satisfied: safetensors>=0.4.3 in /usr/local/lib/python3.11/dist-packages (from transformers) (0.5.3)\n",
            "Requirement already satisfied: tqdm>=4.27 in /usr/local/lib/python3.11/dist-packages (from transformers) (4.67.1)\n",
            "Collecting docopt<0.7,>=0.6.1 (from sumy)\n",
            "  Downloading docopt-0.6.2.tar.gz (25 kB)\n",
            "  Preparing metadata (setup.py) ... \u001b[?25l\u001b[?25hdone\n",
            "Collecting breadability>=0.1.20 (from sumy)\n",
            "  Downloading breadability-0.1.20.tar.gz (32 kB)\n",
            "  Preparing metadata (setup.py) ... \u001b[?25l\u001b[?25hdone\n",
            "Collecting pycountry>=18.2.23 (from sumy)\n",
            "  Downloading pycountry-24.6.1-py3-none-any.whl.metadata (12 kB)\n",
            "Requirement already satisfied: nltk>=3.0.2 in /usr/local/lib/python3.11/dist-packages (from sumy) (3.9.1)\n",
            "Requirement already satisfied: chardet in /usr/local/lib/python3.11/dist-packages (from breadability>=0.1.20->sumy) (5.2.0)\n",
            "Requirement already satisfied: lxml>=2.0 in /usr/local/lib/python3.11/dist-packages (from breadability>=0.1.20->sumy) (5.3.2)\n",
            "Requirement already satisfied: Werkzeug>=3.1 in /usr/local/lib/python3.11/dist-packages (from Flask>=0.8->flask_ngrok) (3.1.3)\n",
            "Requirement already satisfied: Jinja2>=3.1.2 in /usr/local/lib/python3.11/dist-packages (from Flask>=0.8->flask_ngrok) (3.1.6)\n",
            "Requirement already satisfied: itsdangerous>=2.2 in /usr/local/lib/python3.11/dist-packages (from Flask>=0.8->flask_ngrok) (2.2.0)\n",
            "Requirement already satisfied: click>=8.1.3 in /usr/local/lib/python3.11/dist-packages (from Flask>=0.8->flask_ngrok) (8.1.8)\n",
            "Requirement already satisfied: blinker>=1.9 in /usr/local/lib/python3.11/dist-packages (from Flask>=0.8->flask_ngrok) (1.9.0)\n",
            "Requirement already satisfied: fsspec>=2023.5.0 in /usr/local/lib/python3.11/dist-packages (from huggingface-hub<1.0,>=0.30.0->transformers) (2025.3.2)\n",
            "Requirement already satisfied: typing-extensions>=3.7.4.3 in /usr/local/lib/python3.11/dist-packages (from huggingface-hub<1.0,>=0.30.0->transformers) (4.13.2)\n",
            "Requirement already satisfied: joblib in /usr/local/lib/python3.11/dist-packages (from nltk>=3.0.2->sumy) (1.4.2)\n",
            "Requirement already satisfied: charset-normalizer<4,>=2 in /usr/local/lib/python3.11/dist-packages (from requests->flask_ngrok) (3.4.1)\n",
            "Requirement already satisfied: idna<4,>=2.5 in /usr/local/lib/python3.11/dist-packages (from requests->flask_ngrok) (3.10)\n",
            "Requirement already satisfied: urllib3<3,>=1.21.1 in /usr/local/lib/python3.11/dist-packages (from requests->flask_ngrok) (2.3.0)\n",
            "Requirement already satisfied: certifi>=2017.4.17 in /usr/local/lib/python3.11/dist-packages (from requests->flask_ngrok) (2025.1.31)\n",
            "Requirement already satisfied: MarkupSafe>=2.0 in /usr/local/lib/python3.11/dist-packages (from Jinja2>=3.1.2->Flask>=0.8->flask_ngrok) (3.0.2)\n",
            "Downloading flask_ngrok-0.0.25-py3-none-any.whl (3.1 kB)\n",
            "Downloading pyngrok-7.2.5-py3-none-any.whl (23 kB)\n",
            "Downloading sumy-0.11.0-py2.py3-none-any.whl (97 kB)\n",
            "\u001b[2K   \u001b[90m━━━━━━━━━━━━━━━━━━━━━━━━━━━━━━━━━━━━━━━━\u001b[0m \u001b[32m97.3/97.3 kB\u001b[0m \u001b[31m6.3 MB/s\u001b[0m eta \u001b[36m0:00:00\u001b[0m\n",
            "\u001b[?25hDownloading pycountry-24.6.1-py3-none-any.whl (6.3 MB)\n",
            "\u001b[2K   \u001b[90m━━━━━━━━━━━━━━━━━━━━━━━━━━━━━━━━━━━━━━━━\u001b[0m \u001b[32m6.3/6.3 MB\u001b[0m \u001b[31m16.0 MB/s\u001b[0m eta \u001b[36m0:00:00\u001b[0m\n",
            "\u001b[?25hBuilding wheels for collected packages: breadability, docopt\n",
            "  Building wheel for breadability (setup.py) ... \u001b[?25l\u001b[?25hdone\n",
            "  Created wheel for breadability: filename=breadability-0.1.20-py2.py3-none-any.whl size=21693 sha256=270d0a8e7f6eab83d6229da4928c671584f2012b53f3799e461ff463eeec7e04\n",
            "  Stored in directory: /root/.cache/pip/wheels/4d/57/58/7e3d7fedf51fe248b7fcee3df6945ae28638e22cddf01eb92b\n",
            "  Building wheel for docopt (setup.py) ... \u001b[?25l\u001b[?25hdone\n",
            "  Created wheel for docopt: filename=docopt-0.6.2-py2.py3-none-any.whl size=13706 sha256=6b29c97c8f56890f65607a7532216ab5955ab9805bd05cc67ee640ebe7974c32\n",
            "  Stored in directory: /root/.cache/pip/wheels/1a/b0/8c/4b75c4116c31f83c8f9f047231251e13cc74481cca4a78a9ce\n",
            "Successfully built breadability docopt\n",
            "Installing collected packages: docopt, pyngrok, pycountry, breadability, sumy, flask_ngrok\n",
            "Successfully installed breadability-0.1.20 docopt-0.6.2 flask_ngrok-0.0.25 pycountry-24.6.1 pyngrok-7.2.5 sumy-0.11.0\n"
          ]
        }
      ],
      "source": [
        "!pip install flask_ngrok pyngrok transformers sumy\n"
      ]
    },
    {
      "cell_type": "code",
      "execution_count": null,
      "metadata": {
        "colab": {
          "base_uri": "https://localhost:8080/"
        },
        "id": "EQkFGh15UlIa",
        "outputId": "12bcea68-78e2-4d5b-8b7c-9cd7ea486c8f"
      },
      "outputs": [
        {
          "name": "stdout",
          "output_type": "stream",
          "text": [
            "Requirement already satisfied: flask-ngrok in /usr/local/lib/python3.11/dist-packages (0.0.25)\n",
            "Requirement already satisfied: Flask>=0.8 in /usr/local/lib/python3.11/dist-packages (from flask-ngrok) (3.1.0)\n",
            "Requirement already satisfied: requests in /usr/local/lib/python3.11/dist-packages (from flask-ngrok) (2.32.3)\n",
            "Requirement already satisfied: Werkzeug>=3.1 in /usr/local/lib/python3.11/dist-packages (from Flask>=0.8->flask-ngrok) (3.1.3)\n",
            "Requirement already satisfied: Jinja2>=3.1.2 in /usr/local/lib/python3.11/dist-packages (from Flask>=0.8->flask-ngrok) (3.1.6)\n",
            "Requirement already satisfied: itsdangerous>=2.2 in /usr/local/lib/python3.11/dist-packages (from Flask>=0.8->flask-ngrok) (2.2.0)\n",
            "Requirement already satisfied: click>=8.1.3 in /usr/local/lib/python3.11/dist-packages (from Flask>=0.8->flask-ngrok) (8.1.8)\n",
            "Requirement already satisfied: blinker>=1.9 in /usr/local/lib/python3.11/dist-packages (from Flask>=0.8->flask-ngrok) (1.9.0)\n",
            "Requirement already satisfied: charset-normalizer<4,>=2 in /usr/local/lib/python3.11/dist-packages (from requests->flask-ngrok) (3.4.1)\n",
            "Requirement already satisfied: idna<4,>=2.5 in /usr/local/lib/python3.11/dist-packages (from requests->flask-ngrok) (3.10)\n",
            "Requirement already satisfied: urllib3<3,>=1.21.1 in /usr/local/lib/python3.11/dist-packages (from requests->flask-ngrok) (2.3.0)\n",
            "Requirement already satisfied: certifi>=2017.4.17 in /usr/local/lib/python3.11/dist-packages (from requests->flask-ngrok) (2025.1.31)\n",
            "Requirement already satisfied: MarkupSafe>=2.0 in /usr/local/lib/python3.11/dist-packages (from Jinja2>=3.1.2->Flask>=0.8->flask-ngrok) (3.0.2)\n"
          ]
        }
      ],
      "source": [
        "!pip install flask-ngrok  # Install the missing package\n"
      ]
    },
    {
      "cell_type": "code",
      "execution_count": null,
      "metadata": {
        "colab": {
          "base_uri": "https://localhost:8080/"
        },
        "id": "15yOu40iQnTb",
        "outputId": "02155705-8bf5-485d-bfd1-a383336828f8"
      },
      "outputs": [
        {
          "name": "stdout",
          "output_type": "stream",
          "text": [
            "Authtoken saved to configuration file: /root/.config/ngrok/ngrok.yml\n"
          ]
        }
      ],
      "source": [
        "!ngrok config add-authtoken 2wDOjcUmIyzaKfcfG6HZZ4rxJGG_2wUTeLZsXVhsdaBzVhaUL\n",
        "\n"
      ]
    },
    {
      "cell_type": "code",
      "execution_count": null,
      "metadata": {
        "id": "v2yWTI8ZVWev"
      },
      "outputs": [],
      "source": [
        "!fuser -k 5000/tcp\n"
      ]
    },
    {
      "cell_type": "code",
      "execution_count": null,
      "metadata": {
        "colab": {
          "base_uri": "https://localhost:8080/"
        },
        "id": "FX5kLJbcZvjD",
        "outputId": "3e2bb5a6-f906-4672-a652-fd1462c53a49"
      },
      "outputs": [
        {
          "name": "stderr",
          "output_type": "stream",
          "text": [
            "[nltk_data] Downloading package punkt_tab to /root/nltk_data...\n",
            "[nltk_data]   Unzipping tokenizers/punkt_tab.zip.\n"
          ]
        },
        {
          "data": {
            "text/plain": [
              "True"
            ]
          },
          "execution_count": 5,
          "metadata": {},
          "output_type": "execute_result"
        }
      ],
      "source": [
        "import nltk\n",
        "nltk.download('punkt_tab')"
      ]
    },
    {
      "cell_type": "code",
      "execution_count": null,
      "metadata": {
        "colab": {
          "base_uri": "https://localhost:8080/",
          "height": 534,
          "referenced_widgets": [
            "e059139d54d94b9b81a7a10dce5b22c9",
            "c3cbc67ef5254c76bb4447bfd8703f46",
            "9fa267014ce94cc9bab173485d5da37f",
            "44b3f9797b3b436086ad2906e764b297",
            "3d33592c04d04e1ebeb456fe4cd7ca0c",
            "9c8a6eec339b4d31a9cae8e98dae0d1e",
            "284cffa9481943cfb5de251a0675532d",
            "2f999d9077be4c6db3f661a13cbc422c",
            "4e05645d3f084370bf82349dc63276f7",
            "ded8623c3dd2460f88f2df1e7509de6d",
            "54ef738d81254bf3a1f3004e17f8f77e",
            "a8a177b884ff4fba87bda7cef1b5b9cf",
            "dab8f9c176204372867d2b101587ce52",
            "b822e5f290fc4bb9b634ac00326b535b",
            "a635479196e944698fa09f154c25295b",
            "0d31575b1884403ab00cfc9b838dd6d0",
            "c14c8bc740cc4d2f8921610035b7cb33",
            "1f3954036d554d2791ac0b1a9c179d77",
            "c748d43962a0412ab8b04210de35c129",
            "1f54d05c15c14c158087892707ff4207",
            "f60ceab7e8754c58bffcd92e1372d06f",
            "a71a773cccd64a9b9cbff3b32d3ccca6",
            "766ed0e21ea6431dba6a6341a5586e8b",
            "fb85de915c28461d891600dd871e4a3a",
            "c6dd877213fb44cb8fe6ad2dd5625881",
            "de7ac99fde114c898ce885928c7e20a7",
            "cf62bb32a8274fecbf4c9c6f54f8f86b",
            "7dd6014a2860427eb9f5b6ffc0072f48",
            "cc2067956dc34add853391a249c856e3",
            "4a5feb871bb24047804dbe86184cb9a7",
            "40c1351b87c046b79bbd3ca6baea064c",
            "b454eabc83a64dc3858e5143ac4ca236",
            "f8ab46986b704402851fe9e8df75e5dd",
            "d11d33ac647b40d297ac1522f8432b99",
            "686e65ce33a2422bb660d8b9be4c1ed4",
            "a516960412e54599a2504cca4f4b9940",
            "7200a135b81b450785fa60d6e4c0b8c6",
            "b62500f46f1143b3a9207b9ddc4958dd",
            "602b6a9578e840d7a41a1f40d4f6d4c8",
            "4087c80d9cf045d3b322cc1d0ca39644",
            "ad49c2231f7c4513bbe2ae986886b16d",
            "cfbadc10d4124ef585af69512980e8cc",
            "be9621baaa884e1c8b7f5499bab21d0e",
            "98563af5615a4186a5517a4c4f941681",
            "b4e37ff1ee4046bea934c0e879ea730a",
            "3a1a12e84aa34219bdf602a944a47992",
            "0b1255c21a044395aaa2279a3d5aabe4",
            "9ea20f969e684bf38708ef74884e9bfa",
            "f858f1768b3c4fbaab91f0b5fd3737b1",
            "b3da93c152ab4fb2b6e54a3b1dd8a881",
            "acf2f6ddf15d49beaacfa7eb9b01ff99",
            "fa59897c5fa345618d35b97950a19c10",
            "cef4813ce7534a2cb5cf10964ec262f3",
            "3515725400244d89afbd6c05ae9b400c",
            "6a80762493e941c0b06ea691e3e57029",
            "02c27aa91fe643aab6c0ac437d538b48",
            "0bc1adcfd5864939992fa632ddf9720c",
            "55e9be6967bd4427ad7c5b5bcd91168f",
            "892ad474c8e04af6b7aef28345a4f024",
            "b09d8f363db044bb9d634c240ab27cf7",
            "23878962db434e049a29f4a8f0551a8c",
            "806765b1667f4ad6a90907b061650d78",
            "06c1e10b2f784b24bf1465ef3dcba7e6",
            "9ee398583e3a405cb9f4514db0333fe6",
            "bc02e217e8ff4ab5bd3d923dc49ff60e",
            "b293be58ec3c42e89a4b6c8d97e6218a"
          ]
        },
        "id": "jf3WwH_INQ0B",
        "outputId": "8d62a3c1-1316-4a4a-ef96-41689ffc7aa2"
      },
      "outputs": [
        {
          "name": "stderr",
          "output_type": "stream",
          "text": [
            "[nltk_data] Downloading package punkt to /root/nltk_data...\n",
            "[nltk_data]   Unzipping tokenizers/punkt.zip.\n",
            "/usr/local/lib/python3.11/dist-packages/huggingface_hub/utils/_auth.py:94: UserWarning: \n",
            "The secret `HF_TOKEN` does not exist in your Colab secrets.\n",
            "To authenticate with the Hugging Face Hub, create a token in your settings tab (https://huggingface.co/settings/tokens), set it as secret in your Google Colab and restart your session.\n",
            "You will be able to reuse this secret in all of your notebooks.\n",
            "Please note that authentication is recommended but still optional to access public models or datasets.\n",
            "  warnings.warn(\n"
          ]
        },
        {
          "data": {
            "application/vnd.jupyter.widget-view+json": {
              "model_id": "e059139d54d94b9b81a7a10dce5b22c9",
              "version_major": 2,
              "version_minor": 0
            },
            "text/plain": [
              "vocab.json:   0%|          | 0.00/899k [00:00<?, ?B/s]"
            ]
          },
          "metadata": {},
          "output_type": "display_data"
        },
        {
          "data": {
            "application/vnd.jupyter.widget-view+json": {
              "model_id": "a8a177b884ff4fba87bda7cef1b5b9cf",
              "version_major": 2,
              "version_minor": 0
            },
            "text/plain": [
              "merges.txt:   0%|          | 0.00/456k [00:00<?, ?B/s]"
            ]
          },
          "metadata": {},
          "output_type": "display_data"
        },
        {
          "data": {
            "application/vnd.jupyter.widget-view+json": {
              "model_id": "766ed0e21ea6431dba6a6341a5586e8b",
              "version_major": 2,
              "version_minor": 0
            },
            "text/plain": [
              "tokenizer.json:   0%|          | 0.00/1.36M [00:00<?, ?B/s]"
            ]
          },
          "metadata": {},
          "output_type": "display_data"
        },
        {
          "data": {
            "application/vnd.jupyter.widget-view+json": {
              "model_id": "d11d33ac647b40d297ac1522f8432b99",
              "version_major": 2,
              "version_minor": 0
            },
            "text/plain": [
              "config.json:   0%|          | 0.00/1.58k [00:00<?, ?B/s]"
            ]
          },
          "metadata": {},
          "output_type": "display_data"
        },
        {
          "data": {
            "application/vnd.jupyter.widget-view+json": {
              "model_id": "b4e37ff1ee4046bea934c0e879ea730a",
              "version_major": 2,
              "version_minor": 0
            },
            "text/plain": [
              "model.safetensors:   0%|          | 0.00/1.63G [00:00<?, ?B/s]"
            ]
          },
          "metadata": {},
          "output_type": "display_data"
        },
        {
          "data": {
            "application/vnd.jupyter.widget-view+json": {
              "model_id": "02c27aa91fe643aab6c0ac437d538b48",
              "version_major": 2,
              "version_minor": 0
            },
            "text/plain": [
              "generation_config.json:   0%|          | 0.00/363 [00:00<?, ?B/s]"
            ]
          },
          "metadata": {},
          "output_type": "display_data"
        },
        {
          "name": "stdout",
          "output_type": "stream",
          "text": [
            " * ngrok tunnel \"https://93f5-34-85-246-114.ngrok-free.app\" -> \"http://127.0.0.1:5000\"\n",
            " * Serving Flask app '__main__'\n",
            " * Debug mode: off\n"
          ]
        },
        {
          "name": "stderr",
          "output_type": "stream",
          "text": [
            "INFO:werkzeug:\u001b[31m\u001b[1mWARNING: This is a development server. Do not use it in a production deployment. Use a production WSGI server instead.\u001b[0m\n",
            " * Running on http://127.0.0.1:5000\n",
            "INFO:werkzeug:\u001b[33mPress CTRL+C to quit\u001b[0m\n",
            "INFO:werkzeug:127.0.0.1 - - [27/Apr/2025 14:24:02] \"GET / HTTP/1.1\" 200 -\n",
            "INFO:werkzeug:127.0.0.1 - - [27/Apr/2025 14:24:04] \"\u001b[33mGET /favicon.ico HTTP/1.1\u001b[0m\" 404 -\n",
            "INFO:werkzeug:127.0.0.1 - - [27/Apr/2025 14:25:05] \"POST / HTTP/1.1\" 200 -\n"
          ]
        }
      ],
      "source": [
        "from flask import Flask, render_template_string, request\n",
        "from transformers import BartTokenizer, BartForConditionalGeneration\n",
        "import nltk\n",
        "from sumy.parsers.plaintext import PlaintextParser\n",
        "from sumy.nlp.tokenizers import Tokenizer as SumyTokenizer\n",
        "from sumy.summarizers.lex_rank import LexRankSummarizer\n",
        "from pyngrok import ngrok\n",
        "import re\n",
        "\n",
        "# Download required NLTK data\n",
        "nltk.download('punkt')\n",
        "\n",
        "app = Flask(__name__)\n",
        "\n",
        "# Load BART model\n",
        "model_name = \"facebook/bart-large-cnn\"\n",
        "tokenizer = BartTokenizer.from_pretrained(model_name)\n",
        "model = BartForConditionalGeneration.from_pretrained(model_name)\n",
        "\n",
        "# Custom tokenizer class to avoid NLTK punkt_tab issue\n",
        "class CustomTokenizer(SumyTokenizer):\n",
        "    def tokenize(self, text):\n",
        "        sentences = re.split(r'[.!?](?:\\s|\\Z)', text)\n",
        "        # Filter out empty sentences\n",
        "        return [s.strip() + \".\" for s in sentences if s.strip()]\n",
        "\n",
        "def summarize_bart(text):\n",
        "    input_tokens = tokenizer.encode(text, return_tensors=\"pt\", max_length=1024, truncation=True)\n",
        "    input_length = input_tokens.shape[1]\n",
        "\n",
        "    # Output length: ~30–40% of input tokens\n",
        "    max_len = max(60, min(300, int(input_length * 0.4)))\n",
        "    min_len = max(30, int(input_length * 0.2))\n",
        "\n",
        "    summary_ids = model.generate(\n",
        "        input_tokens,\n",
        "        max_length=max_len,\n",
        "        min_length=min_len,\n",
        "        length_penalty=2.0,\n",
        "        num_beams=4,\n",
        "        early_stopping=True\n",
        "    )\n",
        "    return tokenizer.decode(summary_ids[0], skip_special_tokens=True)\n",
        "\n",
        "\n",
        "def summarize_lexrank(text):\n",
        "    parser = PlaintextParser.from_string(text, CustomTokenizer(\"english\"))\n",
        "    summarizer = LexRankSummarizer()\n",
        "\n",
        "    total_sentences = len(parser.document.sentences)\n",
        "\n",
        "    # Aim to return 20% of the input sentences, min 1, max 7\n",
        "    sentence_count = max(1, min(7, total_sentences // 5))\n",
        "\n",
        "    summary = summarizer(parser.document, sentence_count)\n",
        "    return \" \".join(str(sentence) for sentence in summary)\n",
        "\n",
        "\n",
        "index_html = inputhtml\n",
        "\n",
        "result_html = resulthtml\n",
        "\n",
        "@app.route(\"/\", methods=[\"GET\", \"POST\"])\n",
        "def index():\n",
        "    if request.method == \"POST\":\n",
        "        input_text = request.form[\"input_text\"]\n",
        "        bart_summary = summarize_bart(input_text)\n",
        "        lex_summary = summarize_lexrank(input_text)\n",
        "        return render_template_string(result_html, original=input_text, bart=bart_summary, lex=lex_summary)\n",
        "    return render_template_string(index_html)\n",
        "\n",
        "if __name__ == \"__main__\":\n",
        "    # Set up ngrok\n",
        "    port = 5000\n",
        "    public_url = ngrok.connect(port).public_url\n",
        "    print(f\" * ngrok tunnel \\\"{public_url}\\\" -> \\\"http://127.0.0.1:{port}\\\"\")\n",
        "\n",
        "    # Update the app config with the public URL\n",
        "    app.config[\"BASE_URL\"] = public_url\n",
        "\n",
        "    # Run the app\n",
        "    app.run(port=port)"
      ]
    },
    {
      "cell_type": "markdown",
      "metadata": {
        "id": "l3jikxRcpXlX"
      },
      "source": [
        "# **Libraries for Final**"
      ]
    },
    {
      "cell_type": "code",
      "execution_count": null,
      "metadata": {
        "colab": {
          "base_uri": "https://localhost:8080/"
        },
        "id": "Y8zpW14hpqpo",
        "outputId": "00a7f13e-376f-4869-b0f8-26eff768e7b2"
      },
      "outputs": [
        {
          "name": "stdout",
          "output_type": "stream",
          "text": [
            "Authtoken saved to configuration file: /root/.config/ngrok/ngrok.yml\n",
            "Requirement already satisfied: flask-ngrok in /usr/local/lib/python3.11/dist-packages (0.0.25)\n",
            "Requirement already satisfied: Flask>=0.8 in /usr/local/lib/python3.11/dist-packages (from flask-ngrok) (3.1.1)\n",
            "Requirement already satisfied: requests in /usr/local/lib/python3.11/dist-packages (from flask-ngrok) (2.32.3)\n",
            "Requirement already satisfied: blinker>=1.9.0 in /usr/local/lib/python3.11/dist-packages (from Flask>=0.8->flask-ngrok) (1.9.0)\n",
            "Requirement already satisfied: click>=8.1.3 in /usr/local/lib/python3.11/dist-packages (from Flask>=0.8->flask-ngrok) (8.2.1)\n",
            "Requirement already satisfied: itsdangerous>=2.2.0 in /usr/local/lib/python3.11/dist-packages (from Flask>=0.8->flask-ngrok) (2.2.0)\n",
            "Requirement already satisfied: jinja2>=3.1.2 in /usr/local/lib/python3.11/dist-packages (from Flask>=0.8->flask-ngrok) (3.1.6)\n",
            "Requirement already satisfied: markupsafe>=2.1.1 in /usr/local/lib/python3.11/dist-packages (from Flask>=0.8->flask-ngrok) (3.0.2)\n",
            "Requirement already satisfied: werkzeug>=3.1.0 in /usr/local/lib/python3.11/dist-packages (from Flask>=0.8->flask-ngrok) (3.1.3)\n",
            "Requirement already satisfied: charset-normalizer<4,>=2 in /usr/local/lib/python3.11/dist-packages (from requests->flask-ngrok) (3.4.2)\n",
            "Requirement already satisfied: idna<4,>=2.5 in /usr/local/lib/python3.11/dist-packages (from requests->flask-ngrok) (3.10)\n",
            "Requirement already satisfied: urllib3<3,>=1.21.1 in /usr/local/lib/python3.11/dist-packages (from requests->flask-ngrok) (2.4.0)\n",
            "Requirement already satisfied: certifi>=2017.4.17 in /usr/local/lib/python3.11/dist-packages (from requests->flask-ngrok) (2025.4.26)\n",
            "Requirement already satisfied: flask_ngrok in /usr/local/lib/python3.11/dist-packages (0.0.25)\n",
            "Requirement already satisfied: pyngrok in /usr/local/lib/python3.11/dist-packages (7.2.11)\n",
            "Requirement already satisfied: transformers in /usr/local/lib/python3.11/dist-packages (4.52.4)\n",
            "Requirement already satisfied: sumy in /usr/local/lib/python3.11/dist-packages (0.11.0)\n",
            "Requirement already satisfied: Flask>=0.8 in /usr/local/lib/python3.11/dist-packages (from flask_ngrok) (3.1.1)\n",
            "Requirement already satisfied: requests in /usr/local/lib/python3.11/dist-packages (from flask_ngrok) (2.32.3)\n",
            "Requirement already satisfied: PyYAML>=5.1 in /usr/local/lib/python3.11/dist-packages (from pyngrok) (6.0.2)\n",
            "Requirement already satisfied: filelock in /usr/local/lib/python3.11/dist-packages (from transformers) (3.18.0)\n",
            "Requirement already satisfied: huggingface-hub<1.0,>=0.30.0 in /usr/local/lib/python3.11/dist-packages (from transformers) (0.32.4)\n",
            "Requirement already satisfied: numpy>=1.17 in /usr/local/lib/python3.11/dist-packages (from transformers) (2.0.2)\n",
            "Requirement already satisfied: packaging>=20.0 in /usr/local/lib/python3.11/dist-packages (from transformers) (24.2)\n",
            "Requirement already satisfied: regex!=2019.12.17 in /usr/local/lib/python3.11/dist-packages (from transformers) (2024.11.6)\n",
            "Requirement already satisfied: tokenizers<0.22,>=0.21 in /usr/local/lib/python3.11/dist-packages (from transformers) (0.21.1)\n",
            "Requirement already satisfied: safetensors>=0.4.3 in /usr/local/lib/python3.11/dist-packages (from transformers) (0.5.3)\n",
            "Requirement already satisfied: tqdm>=4.27 in /usr/local/lib/python3.11/dist-packages (from transformers) (4.67.1)\n",
            "Requirement already satisfied: docopt<0.7,>=0.6.1 in /usr/local/lib/python3.11/dist-packages (from sumy) (0.6.2)\n",
            "Requirement already satisfied: breadability>=0.1.20 in /usr/local/lib/python3.11/dist-packages (from sumy) (0.1.20)\n",
            "Requirement already satisfied: pycountry>=18.2.23 in /usr/local/lib/python3.11/dist-packages (from sumy) (24.6.1)\n",
            "Requirement already satisfied: nltk>=3.0.2 in /usr/local/lib/python3.11/dist-packages (from sumy) (3.9.1)\n",
            "Requirement already satisfied: chardet in /usr/local/lib/python3.11/dist-packages (from breadability>=0.1.20->sumy) (5.2.0)\n",
            "Requirement already satisfied: lxml>=2.0 in /usr/local/lib/python3.11/dist-packages (from breadability>=0.1.20->sumy) (5.4.0)\n",
            "Requirement already satisfied: blinker>=1.9.0 in /usr/local/lib/python3.11/dist-packages (from Flask>=0.8->flask_ngrok) (1.9.0)\n",
            "Requirement already satisfied: click>=8.1.3 in /usr/local/lib/python3.11/dist-packages (from Flask>=0.8->flask_ngrok) (8.2.1)\n",
            "Requirement already satisfied: itsdangerous>=2.2.0 in /usr/local/lib/python3.11/dist-packages (from Flask>=0.8->flask_ngrok) (2.2.0)\n",
            "Requirement already satisfied: jinja2>=3.1.2 in /usr/local/lib/python3.11/dist-packages (from Flask>=0.8->flask_ngrok) (3.1.6)\n",
            "Requirement already satisfied: markupsafe>=2.1.1 in /usr/local/lib/python3.11/dist-packages (from Flask>=0.8->flask_ngrok) (3.0.2)\n",
            "Requirement already satisfied: werkzeug>=3.1.0 in /usr/local/lib/python3.11/dist-packages (from Flask>=0.8->flask_ngrok) (3.1.3)\n",
            "Requirement already satisfied: fsspec>=2023.5.0 in /usr/local/lib/python3.11/dist-packages (from huggingface-hub<1.0,>=0.30.0->transformers) (2025.3.2)\n",
            "Requirement already satisfied: typing-extensions>=3.7.4.3 in /usr/local/lib/python3.11/dist-packages (from huggingface-hub<1.0,>=0.30.0->transformers) (4.14.0)\n",
            "Requirement already satisfied: hf-xet<2.0.0,>=1.1.2 in /usr/local/lib/python3.11/dist-packages (from huggingface-hub<1.0,>=0.30.0->transformers) (1.1.2)\n",
            "Requirement already satisfied: joblib in /usr/local/lib/python3.11/dist-packages (from nltk>=3.0.2->sumy) (1.5.1)\n",
            "Requirement already satisfied: charset-normalizer<4,>=2 in /usr/local/lib/python3.11/dist-packages (from requests->flask_ngrok) (3.4.2)\n",
            "Requirement already satisfied: idna<4,>=2.5 in /usr/local/lib/python3.11/dist-packages (from requests->flask_ngrok) (3.10)\n",
            "Requirement already satisfied: urllib3<3,>=1.21.1 in /usr/local/lib/python3.11/dist-packages (from requests->flask_ngrok) (2.4.0)\n",
            "Requirement already satisfied: certifi>=2017.4.17 in /usr/local/lib/python3.11/dist-packages (from requests->flask_ngrok) (2025.4.26)\n"
          ]
        }
      ],
      "source": [
        "!ngrok config add-authtoken 2wDOjcUmIyzaKfcfG6HZZ4rxJGG_2wUTeLZsXVhsdaBzVhaUL\n",
        "!pip install flask-ngrok  # Install the missing package\n",
        "!pip install flask_ngrok pyngrok transformers sumy\n",
        "\n"
      ]
    },
    {
      "cell_type": "markdown",
      "metadata": {
        "id": "gxC23cN2p6BF"
      },
      "source": [
        "# **Text Rank**"
      ]
    },
    {
      "cell_type": "code",
      "execution_count": null,
      "metadata": {
        "id": "Qg1CqSeRpUEe"
      },
      "outputs": [],
      "source": [
        "from sumy.summarizers.text_rank import TextRankSummarizer"
      ]
    },
    {
      "cell_type": "code",
      "execution_count": null,
      "metadata": {
        "id": "Jb1EP_d3p2Bk"
      },
      "outputs": [],
      "source": [
        "def summarize_textrank(text):\n",
        "    parser = PlaintextParser.from_string(text, CustomTokenizer(\"english\"))\n",
        "    summarizer = TextRankSummarizer()\n",
        "\n",
        "    total_sentences = len(parser.document.sentences)\n",
        "    sentence_count = max(1, min(7, total_sentences // 5))\n",
        "\n",
        "    summary = summarizer(parser.document, sentence_count)\n",
        "    return \" \".join(str(sentence) for sentence in summary)\n"
      ]
    },
    {
      "cell_type": "markdown",
      "metadata": {
        "id": "4h8sBrAGqBCu"
      },
      "source": [
        "# **T5**"
      ]
    },
    {
      "cell_type": "code",
      "execution_count": null,
      "metadata": {
        "id": "tKuk7dKmqFBC"
      },
      "outputs": [],
      "source": [
        "from transformers import T5Tokenizer, T5ForConditionalGeneration\n",
        "\n",
        "t5_model_name = \"t5-small\"  # Or use \"t5-base\" or \"t5-large\"\n",
        "t5_tokenizer = T5Tokenizer.from_pretrained(t5_model_name)\n",
        "t5_model = T5ForConditionalGeneration.from_pretrained(t5_model_name)\n"
      ]
    },
    {
      "cell_type": "code",
      "execution_count": null,
      "metadata": {
        "id": "MlaOmZPFqG7y"
      },
      "outputs": [],
      "source": [
        "def summarize_t5(text):\n",
        "    input_text = \"summarize: \" + text\n",
        "    input_ids = t5_tokenizer.encode(input_text, return_tensors=\"pt\", max_length=512, truncation=True)\n",
        "\n",
        "    summary_ids = t5_model.generate(\n",
        "        input_ids,\n",
        "        max_length=150,\n",
        "        min_length=40,\n",
        "        length_penalty=2.0,\n",
        "        num_beams=4,\n",
        "        early_stopping=True\n",
        "    )\n",
        "    return t5_tokenizer.decode(summary_ids[0], skip_special_tokens=True)\n"
      ]
    },
    {
      "cell_type": "markdown",
      "metadata": {
        "id": "J_WAu7LtqIp-"
      },
      "source": [
        "# **BERT SUM**"
      ]
    },
    {
      "cell_type": "code",
      "execution_count": null,
      "metadata": {
        "colab": {
          "base_uri": "https://localhost:8080/"
        },
        "collapsed": true,
        "id": "MqX5SQpEqTFq",
        "outputId": "8cab3c92-0284-4ff8-ca36-db62e2c175d5"
      },
      "outputs": [
        {
          "name": "stdout",
          "output_type": "stream",
          "text": [
            "Requirement already satisfied: bert-extractive-summarizer in /usr/local/lib/python3.11/dist-packages (0.10.1)\n",
            "Requirement already satisfied: transformers in /usr/local/lib/python3.11/dist-packages (from bert-extractive-summarizer) (4.52.4)\n",
            "Requirement already satisfied: scikit-learn in /usr/local/lib/python3.11/dist-packages (from bert-extractive-summarizer) (1.6.1)\n",
            "Requirement already satisfied: spacy in /usr/local/lib/python3.11/dist-packages (from bert-extractive-summarizer) (3.8.7)\n",
            "Requirement already satisfied: numpy>=1.19.5 in /usr/local/lib/python3.11/dist-packages (from scikit-learn->bert-extractive-summarizer) (2.0.2)\n",
            "Requirement already satisfied: scipy>=1.6.0 in /usr/local/lib/python3.11/dist-packages (from scikit-learn->bert-extractive-summarizer) (1.15.3)\n",
            "Requirement already satisfied: joblib>=1.2.0 in /usr/local/lib/python3.11/dist-packages (from scikit-learn->bert-extractive-summarizer) (1.5.1)\n",
            "Requirement already satisfied: threadpoolctl>=3.1.0 in /usr/local/lib/python3.11/dist-packages (from scikit-learn->bert-extractive-summarizer) (3.6.0)\n",
            "Requirement already satisfied: spacy-legacy<3.1.0,>=3.0.11 in /usr/local/lib/python3.11/dist-packages (from spacy->bert-extractive-summarizer) (3.0.12)\n",
            "Requirement already satisfied: spacy-loggers<2.0.0,>=1.0.0 in /usr/local/lib/python3.11/dist-packages (from spacy->bert-extractive-summarizer) (1.0.5)\n",
            "Requirement already satisfied: murmurhash<1.1.0,>=0.28.0 in /usr/local/lib/python3.11/dist-packages (from spacy->bert-extractive-summarizer) (1.0.13)\n",
            "Requirement already satisfied: cymem<2.1.0,>=2.0.2 in /usr/local/lib/python3.11/dist-packages (from spacy->bert-extractive-summarizer) (2.0.11)\n",
            "Requirement already satisfied: preshed<3.1.0,>=3.0.2 in /usr/local/lib/python3.11/dist-packages (from spacy->bert-extractive-summarizer) (3.0.10)\n",
            "Requirement already satisfied: thinc<8.4.0,>=8.3.4 in /usr/local/lib/python3.11/dist-packages (from spacy->bert-extractive-summarizer) (8.3.6)\n",
            "Requirement already satisfied: wasabi<1.2.0,>=0.9.1 in /usr/local/lib/python3.11/dist-packages (from spacy->bert-extractive-summarizer) (1.1.3)\n",
            "Requirement already satisfied: srsly<3.0.0,>=2.4.3 in /usr/local/lib/python3.11/dist-packages (from spacy->bert-extractive-summarizer) (2.5.1)\n",
            "Requirement already satisfied: catalogue<2.1.0,>=2.0.6 in /usr/local/lib/python3.11/dist-packages (from spacy->bert-extractive-summarizer) (2.0.10)\n",
            "Requirement already satisfied: weasel<0.5.0,>=0.1.0 in /usr/local/lib/python3.11/dist-packages (from spacy->bert-extractive-summarizer) (0.4.1)\n",
            "Requirement already satisfied: typer<1.0.0,>=0.3.0 in /usr/local/lib/python3.11/dist-packages (from spacy->bert-extractive-summarizer) (0.16.0)\n",
            "Requirement already satisfied: tqdm<5.0.0,>=4.38.0 in /usr/local/lib/python3.11/dist-packages (from spacy->bert-extractive-summarizer) (4.67.1)\n",
            "Requirement already satisfied: requests<3.0.0,>=2.13.0 in /usr/local/lib/python3.11/dist-packages (from spacy->bert-extractive-summarizer) (2.32.3)\n",
            "Requirement already satisfied: pydantic!=1.8,!=1.8.1,<3.0.0,>=1.7.4 in /usr/local/lib/python3.11/dist-packages (from spacy->bert-extractive-summarizer) (2.11.5)\n",
            "Requirement already satisfied: jinja2 in /usr/local/lib/python3.11/dist-packages (from spacy->bert-extractive-summarizer) (3.1.6)\n",
            "Requirement already satisfied: setuptools in /usr/local/lib/python3.11/dist-packages (from spacy->bert-extractive-summarizer) (75.2.0)\n",
            "Requirement already satisfied: packaging>=20.0 in /usr/local/lib/python3.11/dist-packages (from spacy->bert-extractive-summarizer) (24.2)\n",
            "Requirement already satisfied: langcodes<4.0.0,>=3.2.0 in /usr/local/lib/python3.11/dist-packages (from spacy->bert-extractive-summarizer) (3.5.0)\n",
            "Requirement already satisfied: filelock in /usr/local/lib/python3.11/dist-packages (from transformers->bert-extractive-summarizer) (3.18.0)\n",
            "Requirement already satisfied: huggingface-hub<1.0,>=0.30.0 in /usr/local/lib/python3.11/dist-packages (from transformers->bert-extractive-summarizer) (0.32.4)\n",
            "Requirement already satisfied: pyyaml>=5.1 in /usr/local/lib/python3.11/dist-packages (from transformers->bert-extractive-summarizer) (6.0.2)\n",
            "Requirement already satisfied: regex!=2019.12.17 in /usr/local/lib/python3.11/dist-packages (from transformers->bert-extractive-summarizer) (2024.11.6)\n",
            "Requirement already satisfied: tokenizers<0.22,>=0.21 in /usr/local/lib/python3.11/dist-packages (from transformers->bert-extractive-summarizer) (0.21.1)\n",
            "Requirement already satisfied: safetensors>=0.4.3 in /usr/local/lib/python3.11/dist-packages (from transformers->bert-extractive-summarizer) (0.5.3)\n",
            "Requirement already satisfied: fsspec>=2023.5.0 in /usr/local/lib/python3.11/dist-packages (from huggingface-hub<1.0,>=0.30.0->transformers->bert-extractive-summarizer) (2025.3.2)\n",
            "Requirement already satisfied: typing-extensions>=3.7.4.3 in /usr/local/lib/python3.11/dist-packages (from huggingface-hub<1.0,>=0.30.0->transformers->bert-extractive-summarizer) (4.14.0)\n",
            "Requirement already satisfied: hf-xet<2.0.0,>=1.1.2 in /usr/local/lib/python3.11/dist-packages (from huggingface-hub<1.0,>=0.30.0->transformers->bert-extractive-summarizer) (1.1.2)\n",
            "Requirement already satisfied: language-data>=1.2 in /usr/local/lib/python3.11/dist-packages (from langcodes<4.0.0,>=3.2.0->spacy->bert-extractive-summarizer) (1.3.0)\n",
            "Requirement already satisfied: annotated-types>=0.6.0 in /usr/local/lib/python3.11/dist-packages (from pydantic!=1.8,!=1.8.1,<3.0.0,>=1.7.4->spacy->bert-extractive-summarizer) (0.7.0)\n",
            "Requirement already satisfied: pydantic-core==2.33.2 in /usr/local/lib/python3.11/dist-packages (from pydantic!=1.8,!=1.8.1,<3.0.0,>=1.7.4->spacy->bert-extractive-summarizer) (2.33.2)\n",
            "Requirement already satisfied: typing-inspection>=0.4.0 in /usr/local/lib/python3.11/dist-packages (from pydantic!=1.8,!=1.8.1,<3.0.0,>=1.7.4->spacy->bert-extractive-summarizer) (0.4.1)\n",
            "Requirement already satisfied: charset-normalizer<4,>=2 in /usr/local/lib/python3.11/dist-packages (from requests<3.0.0,>=2.13.0->spacy->bert-extractive-summarizer) (3.4.2)\n",
            "Requirement already satisfied: idna<4,>=2.5 in /usr/local/lib/python3.11/dist-packages (from requests<3.0.0,>=2.13.0->spacy->bert-extractive-summarizer) (3.10)\n",
            "Requirement already satisfied: urllib3<3,>=1.21.1 in /usr/local/lib/python3.11/dist-packages (from requests<3.0.0,>=2.13.0->spacy->bert-extractive-summarizer) (2.4.0)\n",
            "Requirement already satisfied: certifi>=2017.4.17 in /usr/local/lib/python3.11/dist-packages (from requests<3.0.0,>=2.13.0->spacy->bert-extractive-summarizer) (2025.4.26)\n",
            "Requirement already satisfied: blis<1.4.0,>=1.3.0 in /usr/local/lib/python3.11/dist-packages (from thinc<8.4.0,>=8.3.4->spacy->bert-extractive-summarizer) (1.3.0)\n",
            "Requirement already satisfied: confection<1.0.0,>=0.0.1 in /usr/local/lib/python3.11/dist-packages (from thinc<8.4.0,>=8.3.4->spacy->bert-extractive-summarizer) (0.1.5)\n",
            "Requirement already satisfied: click>=8.0.0 in /usr/local/lib/python3.11/dist-packages (from typer<1.0.0,>=0.3.0->spacy->bert-extractive-summarizer) (8.2.1)\n",
            "Requirement already satisfied: shellingham>=1.3.0 in /usr/local/lib/python3.11/dist-packages (from typer<1.0.0,>=0.3.0->spacy->bert-extractive-summarizer) (1.5.4)\n",
            "Requirement already satisfied: rich>=10.11.0 in /usr/local/lib/python3.11/dist-packages (from typer<1.0.0,>=0.3.0->spacy->bert-extractive-summarizer) (13.9.4)\n",
            "Requirement already satisfied: cloudpathlib<1.0.0,>=0.7.0 in /usr/local/lib/python3.11/dist-packages (from weasel<0.5.0,>=0.1.0->spacy->bert-extractive-summarizer) (0.21.1)\n",
            "Requirement already satisfied: smart-open<8.0.0,>=5.2.1 in /usr/local/lib/python3.11/dist-packages (from weasel<0.5.0,>=0.1.0->spacy->bert-extractive-summarizer) (7.1.0)\n",
            "Requirement already satisfied: MarkupSafe>=2.0 in /usr/local/lib/python3.11/dist-packages (from jinja2->spacy->bert-extractive-summarizer) (3.0.2)\n",
            "Requirement already satisfied: marisa-trie>=1.1.0 in /usr/local/lib/python3.11/dist-packages (from language-data>=1.2->langcodes<4.0.0,>=3.2.0->spacy->bert-extractive-summarizer) (1.2.1)\n",
            "Requirement already satisfied: markdown-it-py>=2.2.0 in /usr/local/lib/python3.11/dist-packages (from rich>=10.11.0->typer<1.0.0,>=0.3.0->spacy->bert-extractive-summarizer) (3.0.0)\n",
            "Requirement already satisfied: pygments<3.0.0,>=2.13.0 in /usr/local/lib/python3.11/dist-packages (from rich>=10.11.0->typer<1.0.0,>=0.3.0->spacy->bert-extractive-summarizer) (2.19.1)\n",
            "Requirement already satisfied: wrapt in /usr/local/lib/python3.11/dist-packages (from smart-open<8.0.0,>=5.2.1->weasel<0.5.0,>=0.1.0->spacy->bert-extractive-summarizer) (1.17.2)\n",
            "Requirement already satisfied: mdurl~=0.1 in /usr/local/lib/python3.11/dist-packages (from markdown-it-py>=2.2.0->rich>=10.11.0->typer<1.0.0,>=0.3.0->spacy->bert-extractive-summarizer) (0.1.2)\n",
            "Requirement already satisfied: spacy in /usr/local/lib/python3.11/dist-packages (3.8.7)\n",
            "Requirement already satisfied: spacy-legacy<3.1.0,>=3.0.11 in /usr/local/lib/python3.11/dist-packages (from spacy) (3.0.12)\n",
            "Requirement already satisfied: spacy-loggers<2.0.0,>=1.0.0 in /usr/local/lib/python3.11/dist-packages (from spacy) (1.0.5)\n",
            "Requirement already satisfied: murmurhash<1.1.0,>=0.28.0 in /usr/local/lib/python3.11/dist-packages (from spacy) (1.0.13)\n",
            "Requirement already satisfied: cymem<2.1.0,>=2.0.2 in /usr/local/lib/python3.11/dist-packages (from spacy) (2.0.11)\n",
            "Requirement already satisfied: preshed<3.1.0,>=3.0.2 in /usr/local/lib/python3.11/dist-packages (from spacy) (3.0.10)\n",
            "Requirement already satisfied: thinc<8.4.0,>=8.3.4 in /usr/local/lib/python3.11/dist-packages (from spacy) (8.3.6)\n",
            "Requirement already satisfied: wasabi<1.2.0,>=0.9.1 in /usr/local/lib/python3.11/dist-packages (from spacy) (1.1.3)\n",
            "Requirement already satisfied: srsly<3.0.0,>=2.4.3 in /usr/local/lib/python3.11/dist-packages (from spacy) (2.5.1)\n",
            "Requirement already satisfied: catalogue<2.1.0,>=2.0.6 in /usr/local/lib/python3.11/dist-packages (from spacy) (2.0.10)\n",
            "Requirement already satisfied: weasel<0.5.0,>=0.1.0 in /usr/local/lib/python3.11/dist-packages (from spacy) (0.4.1)\n",
            "Requirement already satisfied: typer<1.0.0,>=0.3.0 in /usr/local/lib/python3.11/dist-packages (from spacy) (0.16.0)\n",
            "Requirement already satisfied: tqdm<5.0.0,>=4.38.0 in /usr/local/lib/python3.11/dist-packages (from spacy) (4.67.1)\n",
            "Requirement already satisfied: numpy>=1.19.0 in /usr/local/lib/python3.11/dist-packages (from spacy) (2.0.2)\n",
            "Requirement already satisfied: requests<3.0.0,>=2.13.0 in /usr/local/lib/python3.11/dist-packages (from spacy) (2.32.3)\n",
            "Requirement already satisfied: pydantic!=1.8,!=1.8.1,<3.0.0,>=1.7.4 in /usr/local/lib/python3.11/dist-packages (from spacy) (2.11.5)\n",
            "Requirement already satisfied: jinja2 in /usr/local/lib/python3.11/dist-packages (from spacy) (3.1.6)\n",
            "Requirement already satisfied: setuptools in /usr/local/lib/python3.11/dist-packages (from spacy) (75.2.0)\n",
            "Requirement already satisfied: packaging>=20.0 in /usr/local/lib/python3.11/dist-packages (from spacy) (24.2)\n",
            "Requirement already satisfied: langcodes<4.0.0,>=3.2.0 in /usr/local/lib/python3.11/dist-packages (from spacy) (3.5.0)\n",
            "Requirement already satisfied: language-data>=1.2 in /usr/local/lib/python3.11/dist-packages (from langcodes<4.0.0,>=3.2.0->spacy) (1.3.0)\n",
            "Requirement already satisfied: annotated-types>=0.6.0 in /usr/local/lib/python3.11/dist-packages (from pydantic!=1.8,!=1.8.1,<3.0.0,>=1.7.4->spacy) (0.7.0)\n",
            "Requirement already satisfied: pydantic-core==2.33.2 in /usr/local/lib/python3.11/dist-packages (from pydantic!=1.8,!=1.8.1,<3.0.0,>=1.7.4->spacy) (2.33.2)\n",
            "Requirement already satisfied: typing-extensions>=4.12.2 in /usr/local/lib/python3.11/dist-packages (from pydantic!=1.8,!=1.8.1,<3.0.0,>=1.7.4->spacy) (4.14.0)\n",
            "Requirement already satisfied: typing-inspection>=0.4.0 in /usr/local/lib/python3.11/dist-packages (from pydantic!=1.8,!=1.8.1,<3.0.0,>=1.7.4->spacy) (0.4.1)\n",
            "Requirement already satisfied: charset-normalizer<4,>=2 in /usr/local/lib/python3.11/dist-packages (from requests<3.0.0,>=2.13.0->spacy) (3.4.2)\n",
            "Requirement already satisfied: idna<4,>=2.5 in /usr/local/lib/python3.11/dist-packages (from requests<3.0.0,>=2.13.0->spacy) (3.10)\n",
            "Requirement already satisfied: urllib3<3,>=1.21.1 in /usr/local/lib/python3.11/dist-packages (from requests<3.0.0,>=2.13.0->spacy) (2.4.0)\n",
            "Requirement already satisfied: certifi>=2017.4.17 in /usr/local/lib/python3.11/dist-packages (from requests<3.0.0,>=2.13.0->spacy) (2025.4.26)\n",
            "Requirement already satisfied: blis<1.4.0,>=1.3.0 in /usr/local/lib/python3.11/dist-packages (from thinc<8.4.0,>=8.3.4->spacy) (1.3.0)\n",
            "Requirement already satisfied: confection<1.0.0,>=0.0.1 in /usr/local/lib/python3.11/dist-packages (from thinc<8.4.0,>=8.3.4->spacy) (0.1.5)\n",
            "Requirement already satisfied: click>=8.0.0 in /usr/local/lib/python3.11/dist-packages (from typer<1.0.0,>=0.3.0->spacy) (8.2.1)\n",
            "Requirement already satisfied: shellingham>=1.3.0 in /usr/local/lib/python3.11/dist-packages (from typer<1.0.0,>=0.3.0->spacy) (1.5.4)\n",
            "Requirement already satisfied: rich>=10.11.0 in /usr/local/lib/python3.11/dist-packages (from typer<1.0.0,>=0.3.0->spacy) (13.9.4)\n",
            "Requirement already satisfied: cloudpathlib<1.0.0,>=0.7.0 in /usr/local/lib/python3.11/dist-packages (from weasel<0.5.0,>=0.1.0->spacy) (0.21.1)\n",
            "Requirement already satisfied: smart-open<8.0.0,>=5.2.1 in /usr/local/lib/python3.11/dist-packages (from weasel<0.5.0,>=0.1.0->spacy) (7.1.0)\n",
            "Requirement already satisfied: MarkupSafe>=2.0 in /usr/local/lib/python3.11/dist-packages (from jinja2->spacy) (3.0.2)\n",
            "Requirement already satisfied: marisa-trie>=1.1.0 in /usr/local/lib/python3.11/dist-packages (from language-data>=1.2->langcodes<4.0.0,>=3.2.0->spacy) (1.2.1)\n",
            "Requirement already satisfied: markdown-it-py>=2.2.0 in /usr/local/lib/python3.11/dist-packages (from rich>=10.11.0->typer<1.0.0,>=0.3.0->spacy) (3.0.0)\n",
            "Requirement already satisfied: pygments<3.0.0,>=2.13.0 in /usr/local/lib/python3.11/dist-packages (from rich>=10.11.0->typer<1.0.0,>=0.3.0->spacy) (2.19.1)\n",
            "Requirement already satisfied: wrapt in /usr/local/lib/python3.11/dist-packages (from smart-open<8.0.0,>=5.2.1->weasel<0.5.0,>=0.1.0->spacy) (1.17.2)\n",
            "Requirement already satisfied: mdurl~=0.1 in /usr/local/lib/python3.11/dist-packages (from markdown-it-py>=2.2.0->rich>=10.11.0->typer<1.0.0,>=0.3.0->spacy) (0.1.2)\n",
            "Collecting en-core-web-sm==3.8.0\n",
            "  Downloading https://github.com/explosion/spacy-models/releases/download/en_core_web_sm-3.8.0/en_core_web_sm-3.8.0-py3-none-any.whl (12.8 MB)\n",
            "\u001b[2K     \u001b[90m━━━━━━━━━━━━━━━━━━━━━━━━━━━━━━━━━━━━━━━━\u001b[0m \u001b[32m12.8/12.8 MB\u001b[0m \u001b[31m31.5 MB/s\u001b[0m eta \u001b[36m0:00:00\u001b[0m\n",
            "\u001b[?25h\u001b[38;5;2m✔ Download and installation successful\u001b[0m\n",
            "You can now load the package via spacy.load('en_core_web_sm')\n",
            "\u001b[38;5;3m⚠ Restart to reload dependencies\u001b[0m\n",
            "If you are in a Jupyter or Colab notebook, you may need to restart Python in\n",
            "order to load all the package's dependencies. You can do this by selecting the\n",
            "'Restart kernel' or 'Restart runtime' option.\n",
            "Requirement already satisfied: transformers in /usr/local/lib/python3.11/dist-packages (4.52.4)\n",
            "Requirement already satisfied: filelock in /usr/local/lib/python3.11/dist-packages (from transformers) (3.18.0)\n",
            "Requirement already satisfied: huggingface-hub<1.0,>=0.30.0 in /usr/local/lib/python3.11/dist-packages (from transformers) (0.32.4)\n",
            "Requirement already satisfied: numpy>=1.17 in /usr/local/lib/python3.11/dist-packages (from transformers) (2.0.2)\n",
            "Requirement already satisfied: packaging>=20.0 in /usr/local/lib/python3.11/dist-packages (from transformers) (24.2)\n",
            "Requirement already satisfied: pyyaml>=5.1 in /usr/local/lib/python3.11/dist-packages (from transformers) (6.0.2)\n",
            "Requirement already satisfied: regex!=2019.12.17 in /usr/local/lib/python3.11/dist-packages (from transformers) (2024.11.6)\n",
            "Requirement already satisfied: requests in /usr/local/lib/python3.11/dist-packages (from transformers) (2.32.3)\n",
            "Requirement already satisfied: tokenizers<0.22,>=0.21 in /usr/local/lib/python3.11/dist-packages (from transformers) (0.21.1)\n",
            "Requirement already satisfied: safetensors>=0.4.3 in /usr/local/lib/python3.11/dist-packages (from transformers) (0.5.3)\n",
            "Requirement already satisfied: tqdm>=4.27 in /usr/local/lib/python3.11/dist-packages (from transformers) (4.67.1)\n",
            "Requirement already satisfied: fsspec>=2023.5.0 in /usr/local/lib/python3.11/dist-packages (from huggingface-hub<1.0,>=0.30.0->transformers) (2025.3.2)\n",
            "Requirement already satisfied: typing-extensions>=3.7.4.3 in /usr/local/lib/python3.11/dist-packages (from huggingface-hub<1.0,>=0.30.0->transformers) (4.14.0)\n",
            "Requirement already satisfied: hf-xet<2.0.0,>=1.1.2 in /usr/local/lib/python3.11/dist-packages (from huggingface-hub<1.0,>=0.30.0->transformers) (1.1.2)\n",
            "Requirement already satisfied: charset-normalizer<4,>=2 in /usr/local/lib/python3.11/dist-packages (from requests->transformers) (3.4.2)\n",
            "Requirement already satisfied: idna<4,>=2.5 in /usr/local/lib/python3.11/dist-packages (from requests->transformers) (3.10)\n",
            "Requirement already satisfied: urllib3<3,>=1.21.1 in /usr/local/lib/python3.11/dist-packages (from requests->transformers) (2.4.0)\n",
            "Requirement already satisfied: certifi>=2017.4.17 in /usr/local/lib/python3.11/dist-packages (from requests->transformers) (2025.4.26)\n"
          ]
        }
      ],
      "source": [
        "!pip install bert-extractive-summarizer\n",
        "!pip install spacy\n",
        "!python -m spacy download en_core_web_sm\n",
        "\n",
        "!pip install transformers\n"
      ]
    },
    {
      "cell_type": "code",
      "execution_count": null,
      "metadata": {
        "id": "00ColsfVqeII"
      },
      "outputs": [],
      "source": [
        "from summarizer import Summarizer\n",
        "\n",
        "# Initialize the BERT summarizer model\n",
        "summarizer_bertsum = Summarizer(model='bert-base-uncased')\n",
        "\n",
        "def summarize_bertsum(text):\n",
        "\n",
        "    summary = summarizer_bertsum(text, max_length=200, min_length=50)\n",
        "    return summary\n",
        "    # Example usage:\n"
      ]
    },
    {
      "cell_type": "markdown",
      "metadata": {
        "id": "qHQZgX5Kqn4O"
      },
      "source": [
        "# **PEGASUS**"
      ]
    },
    {
      "cell_type": "code",
      "execution_count": null,
      "metadata": {
        "colab": {
          "base_uri": "https://localhost:8080/"
        },
        "id": "xIh58oKHqnUL",
        "outputId": "4f771252-2a65-48a5-f6bd-dabcf8bd1c31"
      },
      "outputs": [
        {
          "name": "stderr",
          "output_type": "stream",
          "text": [
            "Some weights of PegasusForConditionalGeneration were not initialized from the model checkpoint at google/pegasus-xsum and are newly initialized: ['model.decoder.embed_positions.weight', 'model.encoder.embed_positions.weight']\n",
            "You should probably TRAIN this model on a down-stream task to be able to use it for predictions and inference.\n"
          ]
        }
      ],
      "source": [
        "from transformers import PegasusTokenizer, PegasusForConditionalGeneration\n",
        "\n",
        "pegasus_model_name = \"google/pegasus-xsum\"  # Or \"google/pegasus-cnn_dailymail\"\n",
        "pegasus_tokenizer = PegasusTokenizer.from_pretrained(pegasus_model_name)\n",
        "pegasus_model = PegasusForConditionalGeneration.from_pretrained(pegasus_model_name)\n"
      ]
    },
    {
      "cell_type": "code",
      "execution_count": null,
      "metadata": {
        "id": "QsZMHXxMqvGU"
      },
      "outputs": [],
      "source": [
        "def summarize_pegasus(text):\n",
        "    tokens = pegasus_tokenizer(text, truncation=True, padding=\"longest\", return_tensors=\"pt\")\n",
        "\n",
        "    summary_ids = pegasus_model.generate(\n",
        "        tokens.input_ids,\n",
        "        max_length=150,\n",
        "        min_length=40,\n",
        "        length_penalty=2.0,\n",
        "        num_beams=4,\n",
        "        early_stopping=True\n",
        "    )\n",
        "    return pegasus_tokenizer.decode(summary_ids[0], skip_special_tokens=True)\n"
      ]
    },
    {
      "cell_type": "code",
      "execution_count": null,
      "metadata": {
        "id": "P0cnwwo3qxOR"
      },
      "outputs": [],
      "source": [
        "# @app.route(\"/\", methods=[\"GET\", \"POST\"])\n",
        "# def index():\n",
        "#     if request.method == \"POST\":\n",
        "#         input_text = request.form[\"input_text\"]\n",
        "#         bart_summary = summarize_bart(input_text)\n",
        "#         lex_summary = summarize_lexrank(input_text)\n",
        "#         textrank_summary = summarize_textrank(input_text)\n",
        "#         t5_summary = summarize_t5(input_text)\n",
        "#         bertsum_summary = summarize_bertsum(input_text)\n",
        "#         pegasus_summary = summarize_pegasus(input_text)\n",
        "\n",
        "#         return render_template_string(result_html,\n",
        "#             original=input_text,\n",
        "#             bart=bart_summary,\n",
        "#             lex=lex_summary,\n",
        "#             textrank=textrank_summary,\n",
        "#             t5=t5_summary,\n",
        "#             bertsum=bertsum_summary,\n",
        "#             pegasus=pegasus_summary\n",
        "#         )\n",
        "#     return render_template_string(index_html)\n"
      ]
    },
    {
      "cell_type": "markdown",
      "metadata": {
        "id": "mHs7Ty5Ortsg"
      },
      "source": [
        "# **BART**"
      ]
    },
    {
      "cell_type": "code",
      "execution_count": null,
      "metadata": {
        "id": "afNqQG8urwaf"
      },
      "outputs": [],
      "source": [
        "from transformers import BartTokenizer, BartForConditionalGeneration\n"
      ]
    },
    {
      "cell_type": "code",
      "execution_count": null,
      "metadata": {
        "id": "Y1L5aLIeryRz"
      },
      "outputs": [],
      "source": [
        "model_name = \"facebook/bart-large-cnn\"\n",
        "tokenizer = BartTokenizer.from_pretrained(model_name)\n",
        "model = BartForConditionalGeneration.from_pretrained(model_name)\n"
      ]
    },
    {
      "cell_type": "code",
      "execution_count": null,
      "metadata": {
        "id": "EmMjo-kIrztK"
      },
      "outputs": [],
      "source": [
        "def summarize_bart(text):\n",
        "    input_tokens = tokenizer.encode(text, return_tensors=\"pt\", max_length=1024, truncation=True)\n",
        "    input_length = input_tokens.shape[1]\n",
        "\n",
        "    # Set dynamic summary length: 30-40% of input\n",
        "    max_len = max(60, min(300, int(input_length * 0.4)))\n",
        "    min_len = max(30, int(input_length * 0.2))\n",
        "\n",
        "    summary_ids = model.generate(\n",
        "        input_tokens,\n",
        "        max_length=max_len,\n",
        "        min_length=min_len,\n",
        "        length_penalty=2.0,\n",
        "        num_beams=4,\n",
        "        early_stopping=True\n",
        "    )\n",
        "    return tokenizer.decode(summary_ids[0], skip_special_tokens=True)\n"
      ]
    },
    {
      "cell_type": "markdown",
      "metadata": {
        "id": "778_oEJFr1tN"
      },
      "source": [
        "# **LEX RANK**"
      ]
    },
    {
      "cell_type": "code",
      "execution_count": null,
      "metadata": {
        "id": "PI6EFY9nr1O7"
      },
      "outputs": [],
      "source": [
        "from sumy.parsers.plaintext import PlaintextParser\n",
        "from sumy.nlp.tokenizers import Tokenizer as SumyTokenizer\n",
        "from sumy.summarizers.lex_rank import LexRankSummarizer\n",
        "import re\n"
      ]
    },
    {
      "cell_type": "code",
      "execution_count": null,
      "metadata": {
        "id": "cKnCiLQBr7Az"
      },
      "outputs": [],
      "source": [
        "class CustomTokenizer(SumyTokenizer):\n",
        "    def tokenize(self, text):\n",
        "        sentences = re.split(r'[.!?](?:\\s|\\Z)', text)\n",
        "        return [s.strip() + \".\" for s in sentences if s.strip()]\n"
      ]
    },
    {
      "cell_type": "code",
      "execution_count": null,
      "metadata": {
        "id": "6Ci0seQIr8re"
      },
      "outputs": [],
      "source": [
        "def summarize_lexrank(text):\n",
        "    parser = PlaintextParser.from_string(text, CustomTokenizer(\"english\"))\n",
        "    summarizer = LexRankSummarizer()\n",
        "\n",
        "    total_sentences = len(parser.document.sentences)\n",
        "\n",
        "    # Extract 20% of sentences, min 1, max 7\n",
        "    sentence_count = max(1, min(7, total_sentences // 5))\n",
        "\n",
        "    summary = summarizer(parser.document, sentence_count)\n",
        "    return \" \".join(str(sentence) for sentence in summary)\n"
      ]
    },
    {
      "cell_type": "markdown",
      "metadata": {
        "id": "Z8vb_WF-sB6k"
      },
      "source": [
        "# **Final Web**"
      ]
    },
    {
      "cell_type": "code",
      "execution_count": null,
      "metadata": {
        "id": "B6low5jKrR8B"
      },
      "outputs": [],
      "source": [
        "inputhtml='''\n",
        "<!DOCTYPE html>\n",
        "<html>\n",
        "<head>\n",
        "  <title>Text Summarizer</title>\n",
        "  <link href=\"https://cdn.jsdelivr.net/npm/bootstrap@5.3.2/dist/css/bootstrap.min.css\" rel=\"stylesheet\" />\n",
        "  <link rel=\"stylesheet\" href=\"https://cdnjs.cloudflare.com/ajax/libs/font-awesome/6.0.0/css/all.min.css\" />\n",
        "  <style>\n",
        "    body {\n",
        "      background: linear-gradient(135deg, #667eea 0%, #764ba2 100%);\n",
        "      min-height: 100vh;\n",
        "      display: flex;\n",
        "      align-items: center;\n",
        "      justify-content: center;\n",
        "      font-family: 'Segoe UI', Tahoma, Geneva, Verdana, sans-serif;\n",
        "    }\n",
        "\n",
        "    .card {\n",
        "      border-radius: 15px;\n",
        "      box-shadow: 0 15px 30px rgba(0, 0, 0, 0.2);\n",
        "      backdrop-filter: blur(10px);\n",
        "      background-color: rgba(255, 255, 255, 0.9);\n",
        "      border: none;\n",
        "      overflow: hidden;\n",
        "      transition: transform 0.3s ease;\n",
        "    }\n",
        "\n",
        "    .card:hover {\n",
        "      transform: translateY(-5px);\n",
        "    }\n",
        "\n",
        "    .card-header {\n",
        "      background: linear-gradient(to right, #4a00e0, #8e2de2);\n",
        "      color: white;\n",
        "      font-weight: 600;\n",
        "      border-bottom: none;\n",
        "      padding: 1.5rem;\n",
        "      text-align: center;\n",
        "      border-radius: 15px 15px 0 0 !important;\n",
        "    }\n",
        "\n",
        "    .form-label {\n",
        "      font-weight: 500;\n",
        "      color: #4a5568;\n",
        "      margin-bottom: 8px;\n",
        "    }\n",
        "\n",
        "    .form-control {\n",
        "      border-radius: 10px;\n",
        "      border: 2px solid #e2e8f0;\n",
        "      padding: 12px;\n",
        "      font-size: 1rem;\n",
        "      transition: all 0.3s ease;\n",
        "    }\n",
        "\n",
        "    .form-control:focus {\n",
        "      border-color: #8e2de2;\n",
        "      box-shadow: 0 0 0 0.25rem rgba(142, 45, 226, 0.25);\n",
        "    }\n",
        "\n",
        "    .btn-primary {\n",
        "      background: linear-gradient(to right, #4a00e0, #8e2de2);\n",
        "      border: none;\n",
        "      border-radius: 10px;\n",
        "      padding: 12px 24px;\n",
        "      font-weight: 600;\n",
        "      letter-spacing: 0.5px;\n",
        "      transition: all 0.3s ease;\n",
        "      box-shadow: 0 4px 6px rgba(74, 0, 224, 0.2);\n",
        "    }\n",
        "\n",
        "    .btn-primary:hover {\n",
        "      transform: translateY(-2px);\n",
        "      box-shadow: 0 7px 14px rgba(74, 0, 224, 0.3);\n",
        "      background: linear-gradient(to right, #5b15e5, #9d3fe8);\n",
        "    }\n",
        "\n",
        "    .brain-icon {\n",
        "      font-size: 2.5rem;\n",
        "      margin-bottom: 1rem;\n",
        "      background: linear-gradient(to right, #f9d423, #ff4e50);\n",
        "      -webkit-background-clip: text;\n",
        "      -webkit-text-fill-color: transparent;\n",
        "      display: inline-block;\n",
        "    }\n",
        "\n",
        "    .floating {\n",
        "      animation: floating 3s ease-in-out infinite;\n",
        "    }\n",
        "\n",
        "    @keyframes floating {\n",
        "      0% { transform: translateY(0px); }\n",
        "      50% { transform: translateY(-10px); }\n",
        "      100% { transform: translateY(0px); }\n",
        "    }\n",
        "\n",
        "    .card-body {\n",
        "      padding: 2rem;\n",
        "    }\n",
        "\n",
        "    .footer {\n",
        "      font-size: 0.8rem;\n",
        "      color: white;\n",
        "      text-align: center;\n",
        "      margin-top: 1rem;\n",
        "      opacity: 0.8;\n",
        "    }\n",
        "  </style>\n",
        "</head>\n",
        "<body>\n",
        "  <div class=\"container py-5\">\n",
        "    <div class=\"row justify-content-center\">\n",
        "      <div class=\"col-md-8\">\n",
        "        <div class=\"card\">\n",
        "          <div class=\"card-header\">\n",
        "            <div class=\"brain-icon floating\">\n",
        "              <i class=\"fas fa-brain\"></i>\n",
        "            </div>\n",
        "            <h2 class=\"mb-0\">Text Summarization</h2>\n",
        "            <p class=\"mb-0\">Powered by BART + LexRank AI Models</p>\n",
        "          </div>\n",
        "          <div class=\"card-body\">\n",
        "            <form method=\"post\">\n",
        "              <div class=\"mb-4\">\n",
        "                <label class=\"form-label\">\n",
        "                  <i class=\"fas fa-file-alt me-2\"></i>Enter your text to summarize:\n",
        "                </label>\n",
        "                <textarea class=\"form-control\" name=\"input_text\" rows=\"7\" placeholder=\"Paste your long text here...\" required></textarea>\n",
        "              </div>\n",
        "              <button type=\"submit\" class=\"btn btn-primary w-100\">\n",
        "                <i class=\"fas fa-magic me-2\"></i>Generate Summary\n",
        "              </button>\n",
        "            </form>\n",
        "          </div>\n",
        "        </div>\n",
        "        <div class=\"footer\">\n",
        "          AI-Powered Text Summarization Tool By AI Students © VJIT-2025\n",
        "        </div>\n",
        "      </div>\n",
        "    </div>\n",
        "  </div>\n",
        "\n",
        "  <script src=\"https://cdn.jsdelivr.net/npm/bootstrap@5.3.2/dist/js/bootstrap.bundle.min.js\"></script>\n",
        "  '''"
      ]
    },
    {
      "cell_type": "code",
      "execution_count": null,
      "metadata": {
        "id": "8K_bEiHGtSv2"
      },
      "outputs": [],
      "source": [
        "resulthtml = '''\n",
        "<!DOCTYPE html>\n",
        "<html>\n",
        "<head>\n",
        "  <title>Summary Result</title>\n",
        "  <link href=\"https://cdn.jsdelivr.net/npm/bootstrap@5.3.2/dist/css/bootstrap.min.css\" rel=\"stylesheet\" />\n",
        "  <link rel=\"stylesheet\" href=\"https://cdnjs.cloudflare.com/ajax/libs/font-awesome/6.0.0/css/all.min.css\" />\n",
        "  <style>\n",
        "    body {\n",
        "      background: linear-gradient(135deg, #667eea 0%, #764ba2 100%);\n",
        "      min-height: 100vh;\n",
        "      padding: 2rem 0;\n",
        "      font-family: 'Segoe UI', Tahoma, Geneva, Verdana, sans-serif;\n",
        "    }\n",
        "    .card {\n",
        "      border-radius: 15px;\n",
        "      box-shadow: 0 15px 30px rgba(0, 0, 0, 0.2);\n",
        "      backdrop-filter: blur(10px);\n",
        "      background-color: rgba(255, 255, 255, 0.9);\n",
        "      border: none;\n",
        "      overflow: hidden;\n",
        "      margin-bottom: 2rem;\n",
        "    }\n",
        "    .card-header {\n",
        "      background: linear-gradient(to right, #4a00e0, #8e2de2);\n",
        "      color: white;\n",
        "      font-weight: 600;\n",
        "      border-bottom: none;\n",
        "      padding: 1.5rem;\n",
        "      text-align: center;\n",
        "      border-radius: 15px 15px 0 0 !important;\n",
        "    }\n",
        "    .summary-icon {\n",
        "      font-size: 2rem;\n",
        "      margin-bottom: 0.5rem;\n",
        "      background: linear-gradient(to right, #f9d423, #ff4e50);\n",
        "      -webkit-background-clip: text;\n",
        "      -webkit-text-fill-color: transparent;\n",
        "      display: inline-block;\n",
        "    }\n",
        "    .section-card {\n",
        "      border-radius: 12px;\n",
        "      margin-bottom: 1.5rem;\n",
        "      box-shadow: 0 5px 15px rgba(0, 0, 0, 0.1);\n",
        "      overflow: hidden;\n",
        "      border: none;\n",
        "    }\n",
        "    .section-header {\n",
        "      padding: 1rem 1.5rem;\n",
        "      font-weight: 600;\n",
        "      display: flex;\n",
        "      align-items: center;\n",
        "      gap: 0.75rem;\n",
        "    }\n",
        "    .original-header { background-color: #e2e8f0; color: #4a5568; }\n",
        "    .bart-header { background-color: #ebf4ff; color: #3182ce; }\n",
        "    .lexrank-header { background-color: #faf5ff; color: #805ad5; }\n",
        "    .textrank-header { background-color: #fff5f7; color: #d53f8c; }\n",
        "    .t5-header { background-color: #f0fff4; color: #38a169; }\n",
        "    .bertsum-header { background-color: #fefcbf; color: #d69e2e; }\n",
        "    .pegasus-header { background-color: #f7fafc; color: #2b6cb0; }\n",
        "    .section-body {\n",
        "      padding: 1.5rem;\n",
        "      background-color: white;\n",
        "      color: #4a5568;\n",
        "      line-height: 1.7;\n",
        "    }\n",
        "    .btn-back {\n",
        "      background: linear-gradient(to right, #4a00e0, #8e2de2);\n",
        "      border: none;\n",
        "      border-radius: 10px;\n",
        "      padding: 12px 24px;\n",
        "      font-weight: 600;\n",
        "      letter-spacing: 0.5px;\n",
        "      transition: all 0.3s ease;\n",
        "      box-shadow: 0 4px 6px rgba(74, 0, 224, 0.2);\n",
        "      color: white;\n",
        "    }\n",
        "    .btn-back:hover {\n",
        "      transform: translateY(-2px);\n",
        "      box-shadow: 0 7px 14px rgba(74, 0, 224, 0.3);\n",
        "      background: linear-gradient(to right, #5b15e5, #9d3fe8);\n",
        "    }\n",
        "    .footer {\n",
        "      font-size: 0.8rem;\n",
        "      color: white;\n",
        "      text-align: center;\n",
        "      margin-top: 1rem;\n",
        "      opacity: 0.8;\n",
        "    }\n",
        "  </style>\n",
        "</head>\n",
        "<body>\n",
        "  <div class=\"container py-4\">\n",
        "    <div class=\"card\">\n",
        "      <div class=\"card-header\">\n",
        "        <div class=\"summary-icon\">\n",
        "          <i class=\"fas fa-file-alt\"></i>\n",
        "        </div>\n",
        "        <h2 class=\"mb-0\">Summary Results</h2>\n",
        "        <p class=\"mb-0\">AI-generated summaries of your text using 6 models</p>\n",
        "      </div>\n",
        "      <div class=\"card-body p-4\">\n",
        "\n",
        "        <div class=\"section-card\">\n",
        "          <div class=\"section-header original-header\">\n",
        "            <i class=\"fas fa-align-left\"></i>\n",
        "            <h5 class=\"mb-0\">Original Text</h5>\n",
        "          </div>\n",
        "          <div class=\"section-body\">\n",
        "            <p>{{ original }}</p>\n",
        "          </div>\n",
        "        </div>\n",
        "\n",
        "        <div class=\"section-card\">\n",
        "          <div class=\"section-header lexrank-header\">\n",
        "            <i class=\"fas fa-chart-line\"></i>\n",
        "            <h5 class=\"mb-0\">LexRank Summary (Extractive)</h5>\n",
        "          </div>\n",
        "          <div class=\"section-body\">\n",
        "            <p>{{ lex }}</p>\n",
        "          </div>\n",
        "        </div>\n",
        "\n",
        "        <div class=\"section-card\">\n",
        "          <div class=\"section-header textrank-header\">\n",
        "            <i class=\"fas fa-project-diagram\"></i>\n",
        "            <h5 class=\"mb-0\">TextRank Summary (Extractive)</h5>\n",
        "          </div>\n",
        "          <div class=\"section-body\">\n",
        "            <p>{{ textrank }}</p>\n",
        "          </div>\n",
        "        </div>\n",
        "\n",
        "        <div class=\"section-card\">\n",
        "          <div class=\"section-header bertsum-header\">\n",
        "            <i class=\"fas fa-brain\"></i>\n",
        "            <h5 class=\"mb-0\">BERTSum Summary (Extractive)</h5>\n",
        "          </div>\n",
        "          <div class=\"section-body\">\n",
        "            <p>{{ bertsum }}</p>\n",
        "          </div>\n",
        "        </div>\n",
        "\n",
        "        <div class=\"section-card\">\n",
        "          <div class=\"section-header bart-header\">\n",
        "            <i class=\"fas fa-robot\"></i>\n",
        "            <h5 class=\"mb-0\">BART Summary (Abstractive)</h5>\n",
        "          </div>\n",
        "          <div class=\"section-body\">\n",
        "            <p>{{ bart }}</p>\n",
        "          </div>\n",
        "        </div>\n",
        "\n",
        "        <div class=\"section-card\">\n",
        "          <div class=\"section-header t5-header\">\n",
        "            <i class=\"fas fa-magic\"></i>\n",
        "            <h5 class=\"mb-0\">T5 Summary (Abstractive)</h5>\n",
        "          </div>\n",
        "          <div class=\"section-body\">\n",
        "            <p>{{ t5 }}</p>\n",
        "          </div>\n",
        "        </div>\n",
        "\n",
        "        <div class=\"section-card\">\n",
        "          <div class=\"section-header pegasus-header\">\n",
        "            <i class=\"fas fa-feather-alt\"></i>\n",
        "            <h5 class=\"mb-0\">Pegasus Summary (Abstractive)</h5>\n",
        "          </div>\n",
        "          <div class=\"section-body\">\n",
        "            <p>{{ pegasus }}</p>\n",
        "          </div>\n",
        "        </div>\n",
        "\n",
        "        <a href=\"/\" class=\"btn btn-back w-100 mt-3\">\n",
        "          <i class=\"fas fa-arrow-left me-2\"></i>Back to Summarizer\n",
        "        </a>\n",
        "      </div>\n",
        "    </div>\n",
        "    <div class=\"footer\">\n",
        "      AI-Powered Text Summarization Tool By AI Students © VJIT-2025\n",
        "    </div>\n",
        "  </div>\n",
        "\n",
        "  <script src=\"https://cdn.jsdelivr.net/npm/bootstrap@5.3.2/dist/js/bootstrap.bundle.min.js\"></script>\n",
        "</body>\n",
        "</html>\n",
        "'''\n"
      ]
    },
    {
      "cell_type": "code",
      "execution_count": null,
      "metadata": {
        "colab": {
          "base_uri": "https://localhost:8080/"
        },
        "id": "7CU42tgbuhiD",
        "outputId": "0bf1d361-d9f2-4fdb-f89d-6e35a98b4abf"
      },
      "outputs": [
        {
          "name": "stderr",
          "output_type": "stream",
          "text": [
            "[nltk_data] Downloading package punkt to /root/nltk_data...\n",
            "[nltk_data]   Package punkt is already up-to-date!\n"
          ]
        },
        {
          "data": {
            "text/plain": [
              "True"
            ]
          },
          "execution_count": 40,
          "metadata": {},
          "output_type": "execute_result"
        }
      ],
      "source": [
        "import nltk\n",
        "nltk.download(\"punkt\")  # This is sufficient\n"
      ]
    },
    {
      "cell_type": "code",
      "execution_count": null,
      "metadata": {
        "colab": {
          "background_save": true,
          "base_uri": "https://localhost:8080/"
        },
        "id": "gjr7g82esYM2",
        "outputId": "1568c559-fdf9-4c12-abc7-8cf54501bdf1"
      },
      "outputs": [
        {
          "name": "stderr",
          "output_type": "stream",
          "text": [
            "[nltk_data] Downloading package punkt_tab to /root/nltk_data...\n",
            "[nltk_data]   Package punkt_tab is already up-to-date!\n"
          ]
        },
        {
          "name": "stdout",
          "output_type": "stream",
          "text": [
            " * ngrok tunnel \"https://2f7c-34-32-206-197.ngrok-free.app\" -> \"http://127.0.0.1:5000\"\n",
            " * Serving Flask app '__main__'\n",
            " * Debug mode: off\n"
          ]
        },
        {
          "name": "stderr",
          "output_type": "stream",
          "text": [
            "INFO:werkzeug:\u001b[31m\u001b[1mWARNING: This is a development server. Do not use it in a production deployment. Use a production WSGI server instead.\u001b[0m\n",
            " * Running on http://127.0.0.1:5000\n",
            "INFO:werkzeug:\u001b[33mPress CTRL+C to quit\u001b[0m\n",
            "INFO:werkzeug:127.0.0.1 - - [13/Jun/2025 09:32:41] \"GET / HTTP/1.1\" 200 -\n",
            "INFO:werkzeug:127.0.0.1 - - [13/Jun/2025 09:32:43] \"\u001b[33mGET /favicon.ico HTTP/1.1\u001b[0m\" 404 -\n"
          ]
        }
      ],
      "source": [
        "from flask import Flask, render_template_string, request\n",
        "from transformers import BartTokenizer, BartForConditionalGeneration\n",
        "# import nltk\n",
        "from sumy.parsers.plaintext import PlaintextParser\n",
        "from sumy.nlp.tokenizers import Tokenizer as SumyTokenizer\n",
        "from sumy.summarizers.lex_rank import LexRankSummarizer\n",
        "from pyngrok import ngrok\n",
        "import re\n",
        "import nltk\n",
        "\n",
        "nltk.download('punkt_tab')\n",
        "# Download required NLTK data\n",
        "# nltk.download('punkt')\n",
        "\n",
        "app = Flask(__name__)\n",
        "\n",
        "index_html = inputhtml\n",
        "result_html = resulthtml\n",
        "\n",
        "@app.route(\"/\", methods=[\"GET\", \"POST\"])\n",
        "def index():\n",
        "    if request.method == \"POST\":\n",
        "        input_text = request.form[\"input_text\"]\n",
        "        bart_summary = summarize_bart(input_text)\n",
        "        lex_summary = summarize_lexrank(input_text)\n",
        "        textrank_summary = summarize_textrank(input_text)\n",
        "        t5_summary = summarize_t5(input_text)\n",
        "        bertsum_summary = summarize_bertsum(input_text)\n",
        "        pegasus_summary = summarize_pegasus(input_text)\n",
        "\n",
        "        return render_template_string(result_html,\n",
        "            original=input_text,\n",
        "            bart=bart_summary,\n",
        "            lex=lex_summary,\n",
        "            textrank=textrank_summary,\n",
        "            t5=t5_summary,\n",
        "            bertsum=bertsum_summary,\n",
        "            pegasus=pegasus_summary\n",
        "        )\n",
        "    return render_template_string(index_html)\n",
        "\n",
        "\n",
        "if __name__ == \"__main__\":\n",
        "    # Set up ngrok\n",
        "    port = 5000\n",
        "    public_url = ngrok.connect(port).public_url\n",
        "    print(f\" * ngrok tunnel \\\"{public_url}\\\" -> \\\"http://127.0.0.1:{port}\\\"\")\n",
        "\n",
        "    # Update the app config with the public URL\n",
        "    app.config[\"BASE_URL\"] = public_url\n",
        "\n",
        "    # Run the app\n",
        "    app.run(port=port)"
      ]
    },
    {
      "cell_type": "code",
      "execution_count": null,
      "metadata": {
        "id": "xQZ_zH0pun3u"
      },
      "outputs": [],
      "source": [
        "from sumy.parsers.plaintext import PlaintextParser\n",
        "from sumy.nlp.tokenizers import Tokenizer as SumyTokenizer\n",
        "from sumy.summarizers.lex_rank import LexRankSummarizer\n",
        "\n",
        "def summarize_lexrank(text):\n",
        "    parser = PlaintextParser.from_string(text, SumyTokenizer(\"english\"))\n",
        "    summarizer = LexRankSummarizer()\n",
        "    summary = summarizer(parser.document, sentences_count=3)\n",
        "    return \" \".join(str(sentence) for sentence in summary)\n"
      ]
    },
    {
      "cell_type": "code",
      "execution_count": null,
      "metadata": {
        "id": "1Td8v-wbsBhu"
      },
      "outputs": [],
      "source": [
        "# @app.route(\"/\", methods=[\"GET\", \"POST\"])\n",
        "# def index():\n",
        "#     if request.method == \"POST\":\n",
        "#         input_text = request.form[\"input_text\"]\n",
        "#         bart_summary = summarize_bart(input_text)\n",
        "#         lex_summary = summarize_lexrank(input_text)\n",
        "#         textrank_summary = summarize_textrank(input_text)\n",
        "#         t5_summary = summarize_t5(input_text)\n",
        "#         bertsum_summary = summarize_bertsum(input_text)\n",
        "#         pegasus_summary = summarize_pegasus(input_text)\n",
        "\n",
        "#         return render_template_string(result_html,\n",
        "#             original=input_text,\n",
        "#             bart=bart_summary,\n",
        "#             lex=lex_summary,\n",
        "#             textrank=textrank_summary,\n",
        "#             t5=t5_summary,\n",
        "#             bertsum=bertsum_summary,\n",
        "#             pegasus=pegasus_summary\n",
        "#         )\n",
        "#     return render_template_string(index_html)\n"
      ]
    },
    {
      "cell_type": "code",
      "execution_count": null,
      "metadata": {
        "colab": {
          "base_uri": "https://localhost:8080/",
          "height": 607
        },
        "id": "h9GehcJDdgBj",
        "outputId": "a9333b2f-60db-4d14-955d-f4588c9c5010"
      },
      "outputs": [
        {
          "data": {
            "image/png": "[encoded data removed]",
            "text/plain": [
              "<Figure size 1000x600 with 1 Axes>"
            ]
          },
          "metadata": {},
          "output_type": "display_data"
        }
      ],
      "source": [
        "import matplotlib.pyplot as plt\n",
        "import seaborn as sns\n",
        "import pandas as pd\n",
        "\n",
        "# Example data\n",
        "data = {\n",
        "    'Model': ['LexRank', 'BART', 'Flan-T5'],\n",
        "    'ROUGE-1': [0.45, 0.56, 0.61],\n",
        "    'ROUGE-2': [0.22, 0.38, 0.44],\n",
        "    'ROUGE-L': [0.40, 0.51, 0.58]\n",
        "}\n",
        "\n",
        "df = pd.DataFrame(data)\n",
        "\n",
        "# Melt the dataframe for seaborn\n",
        "df_melted = df.melt(id_vars='Model', var_name='Metric', value_name='Score')\n",
        "\n",
        "# Plot\n",
        "plt.figure(figsize=(10, 6))\n",
        "sns.barplot(data=df_melted, x='Metric', y='Score', hue='Model')\n",
        "plt.title('Comparative ROUGE Scores of Summarization Models')\n",
        "plt.ylabel('Score')\n",
        "plt.xlabel('ROUGE Metric')\n",
        "plt.legend(title='Model')\n",
        "plt.tight_layout()\n",
        "plt.show()\n"
      ]
    },
    {
      "cell_type": "code",
      "execution_count": null,
      "metadata": {
        "colab": {
          "base_uri": "https://localhost:8080/",
          "height": 750
        },
        "id": "HJYYYbpFd2aS",
        "outputId": "72799a40-0a58-4742-b7e1-00e11651da64"
      },
      "outputs": [
        {
          "name": "stderr",
          "output_type": "stream",
          "text": [
            "<ipython-input-45-1359630912>:104: UserWarning: marker is redundantly defined by the 'marker' keyword argument and the fmt string \"o-\" (-> marker='o'). The keyword argument will take precedence.\n",
            "  ax.plot(angles, values, 'o-', linewidth=2.5, markersize=8,\n",
            "<ipython-input-45-1359630912>:187: FutureWarning: \n",
            "\n",
            "Passing `palette` without assigning `hue` is deprecated and will be removed in v0.14.0. Assign the `x` variable to `hue` and set `legend=False` for the same effect.\n",
            "\n",
            "  sns.boxplot(x='Models', y='Score', data=df_melt, palette='viridis', ax=ax)\n"
          ]
        },
        {
          "data": {
            "image/png": "[encoded data removed]",
            "text/plain": [
              "<Figure size 1000x600 with 1 Axes>"
            ]
          },
          "execution_count": 45,
          "metadata": {},
          "output_type": "execute_result"
        }
      ],
      "source": [
        "import matplotlib.pyplot as plt\n",
        "import numpy as np\n",
        "import pandas as pd\n",
        "import seaborn as sns\n",
        "from matplotlib.colors import LinearSegmentedColormap\n",
        "\n",
        "# Set style\n",
        "plt.style.use('ggplot')\n",
        "sns.set_palette(\"Set2\")\n",
        "\n",
        "# Create data dictionary with all models\n",
        "data = {\n",
        "    'Models': ['TextRank', 'BERT', 'LexRank', 'PEGASUS', 'T5', 'BART'],\n",
        "    'ROUGE-1': [0.6200, 0.5040, 0.6782, 0.5164, 0.4907, 0.5510],\n",
        "    'ROUGE-2': [0.5530, 0.4079, 0.6243, 0.4280, 0.3981, 0.4667],\n",
        "    'ROUGE-L': [0.6018, 0.4678, 0.6637, 0.4864, 0.4572, 0.5180],\n",
        "    'ROUGE-Lsum': [0.6014, 0.4695, 0.6635, 0.4870, 0.4571, 0.5187],\n",
        "    'METEOR': [0.7272, 0.4938, 0.7611, 0.4831, 0.4382, 0.5285],\n",
        "    'BERTScore': [0.9303, 0.9101, 0.9370, 0.8983, 0.8950, 0.9145]\n",
        "}\n",
        "\n",
        "# Create DataFrame for easier manipulation\n",
        "df = pd.DataFrame(data)\n",
        "df_melt = pd.melt(df, id_vars=['Models'], var_name='Metric', value_name='Score')\n",
        "\n",
        "# 1. Grouped Bar Chart Comparison\n",
        "def plot_metrics_comparison():\n",
        "    # Set up figure\n",
        "    fig, ax = plt.subplots(figsize=(10, 6))  # was (16, 10)\n",
        "    # Set position of bars on X-axis\n",
        "    models = data['Models']\n",
        "    metric_names = ['ROUGE-1', 'ROUGE-2', 'ROUGE-L', 'ROUGE-Lsum', 'METEOR', 'BERTScore']\n",
        "    x = np.arange(len(models))\n",
        "    width = 0.13\n",
        "\n",
        "    # Colors for each metric\n",
        "    colors = ['#FF6B6B', '#4ECDC4', '#FFD166', '#06D6A0', '#118AB2', '#073B4C']\n",
        "\n",
        "    # Plot bars for each metric\n",
        "    for i, metric in enumerate(metric_names):\n",
        "        offset = width * (i - 2.5)\n",
        "        bars = ax.bar(x + offset, data[metric], width, label=metric, color=colors[i], alpha=0.85)\n",
        "\n",
        "        # Add text annotations\n",
        "        for bar in bars:\n",
        "            height = bar.get_height()\n",
        "            ax.annotate(f'{height:.3f}',\n",
        "                        xy=(bar.get_x() + bar.get_width()/2, height),\n",
        "                        xytext=(0, 3),  # 3 points vertical offset\n",
        "                        textcoords=\"offset points\",\n",
        "                        ha='center', va='bottom', fontsize=8, rotation=90)\n",
        "\n",
        "    # Customize chart\n",
        "    ax.set_title('Performance Comparison of Text Summarization Models', fontsize=18, fontweight='bold', pad=20)\n",
        "    ax.set_xlabel('Models', fontsize=14, fontweight='bold')\n",
        "    ax.set_ylabel('Score', fontsize=14, fontweight='bold')\n",
        "    ax.set_xticks(x)\n",
        "    ax.set_xticklabels(models, fontsize=12, fontweight='bold')\n",
        "    ax.set_ylim(0, 1.0)\n",
        "    ax.grid(axis='y', linestyle='--', alpha=0.6)\n",
        "\n",
        "    # Add legend\n",
        "    ax.legend(title='Metrics', title_fontsize=12, fontsize=10, loc='upper center',\n",
        "              bbox_to_anchor=(0.5, -0.08), ncol=6)\n",
        "\n",
        "    plt.tight_layout()\n",
        "    return fig\n",
        "\n",
        "# 2. Radar Chart\n",
        "def plot_radar_chart():\n",
        "    # Set up the figure\n",
        "    fig = plt.figure(figsize=(8, 6))  # was (14, 10)\n",
        "\n",
        "    # Define the number of metrics (variables)\n",
        "    metrics = ['ROUGE-1', 'ROUGE-2', 'ROUGE-L', 'ROUGE-Lsum', 'METEOR', 'BERTScore']\n",
        "    N = len(metrics)\n",
        "\n",
        "    # What will be the angle of each axis in the plot\n",
        "    angles = [n / float(N) * 2 * np.pi for n in range(N)]\n",
        "    angles += angles[:1]  # Close the loop\n",
        "\n",
        "    # Initialize the spider plot\n",
        "    ax = plt.subplot(111, polar=True)\n",
        "\n",
        "    # Draw one axis per variable and add labels\n",
        "    plt.xticks(angles[:-1], metrics, fontsize=14)\n",
        "\n",
        "    # Draw ylabels\n",
        "    ax.set_rlabel_position(0)\n",
        "    plt.yticks([0.2, 0.4, 0.6, 0.8, 1.0], ['0.2', '0.4', '0.6', '0.8', '1.0'],\n",
        "                fontsize=12, color=\"gray\")\n",
        "    plt.ylim(0, 1)\n",
        "\n",
        "    # Colors for each model\n",
        "    colors = ['#FF6B6B', '#4ECDC4', '#FFD166', '#06D6A0', '#118AB2', '#073B4C']\n",
        "    markers = ['o', 's', '^', 'D', 'P', '*']\n",
        "\n",
        "    # Plot each model\n",
        "    for i, model in enumerate(data['Models']):\n",
        "        values = [data[metric][i] for metric in metrics]\n",
        "        values += values[:1]  # Close the loop\n",
        "\n",
        "        # Plot values\n",
        "        ax.plot(angles, values, 'o-', linewidth=2.5, markersize=8,\n",
        "                label=model, color=colors[i], marker=markers[i])\n",
        "        ax.fill(angles, values, color=colors[i], alpha=0.1)\n",
        "\n",
        "    # Add title\n",
        "    plt.title('Radar Chart of Model Performance Across Metrics', size=18, y=1.1, fontweight='bold')\n",
        "\n",
        "    # Add legend\n",
        "    plt.legend(loc='upper right', bbox_to_anchor=(0.3, 0.1), fontsize=12)\n",
        "\n",
        "    return fig\n",
        "\n",
        "# 3. Heatmap\n",
        "def plot_heatmap():\n",
        "    # Create DataFrame for heatmap\n",
        "    heatmap_data = pd.DataFrame({\n",
        "        metric: data[metric] for metric in ['ROUGE-1', 'ROUGE-2', 'ROUGE-L', 'ROUGE-Lsum', 'METEOR', 'BERTScore']\n",
        "    }, index=data['Models'])\n",
        "\n",
        "    # Set up the figure\n",
        "    fig, ax = plt.subplots(figsize=(8, 6))  # was (12, 8)\n",
        "\n",
        "    # Create custom colormap (blue to red)\n",
        "    cmap = LinearSegmentedColormap.from_list(\"custom_cmap\", [\"#4575B4\", \"#FFFFBF\", \"#D73027\"])\n",
        "\n",
        "    # Create heatmap\n",
        "    sns.heatmap(heatmap_data, annot=True, fmt=\".3f\", cmap=cmap,\n",
        "                linewidths=0.5, ax=ax, vmin=0.35, vmax=1.0,\n",
        "                cbar_kws={\"shrink\": 0.8, \"label\": \"Score\"})\n",
        "\n",
        "    # Customize chart\n",
        "    ax.set_title('Performance Metrics Across All Models', fontsize=16, fontweight='bold', pad=20)\n",
        "    ax.set_xlabel('Metrics', fontsize=14, fontweight='bold')\n",
        "    ax.set_ylabel('Models', fontsize=14, fontweight='bold')\n",
        "\n",
        "    plt.tight_layout()\n",
        "    return fig\n",
        "\n",
        "# 4. Model Average Performance Bar Chart\n",
        "def plot_average_performance():\n",
        "    # Calculate average performance across metrics for each model\n",
        "    avg_performance = {}\n",
        "    for i, model in enumerate(data['Models']):\n",
        "        metrics_values = [data[metric][i] for metric in ['ROUGE-1', 'ROUGE-2', 'ROUGE-L', 'ROUGE-Lsum', 'METEOR', 'BERTScore']]\n",
        "        avg_performance[model] = sum(metrics_values) / len(metrics_values)\n",
        "\n",
        "    # Sort models by average performance\n",
        "    sorted_models = sorted(avg_performance.items(), key=lambda x: x[1], reverse=True)\n",
        "    models_sorted = [item[0] for item in sorted_models]\n",
        "    avg_scores = [item[1] for item in sorted_models]\n",
        "\n",
        "    # Set up the figure\n",
        "    fig, ax = plt.subplots(figsize=(8, 6))  # was (12, 8)\n",
        "\n",
        "    # Create gradient colors based on performance\n",
        "    colors = plt.cm.viridis(np.linspace(0.1, 0.9, len(models_sorted)))\n",
        "\n",
        "    # Create bar chart\n",
        "    bars = ax.bar(models_sorted, avg_scores, color=colors, width=0.6, edgecolor='black', linewidth=1)\n",
        "\n",
        "    # Add data labels\n",
        "    for bar in bars:\n",
        "        height = bar.get_height()\n",
        "        ax.text(bar.get_x() + bar.get_width()/2., height + 0.01,\n",
        "                f'{height:.4f}', ha='center', va='bottom', fontsize=12, fontweight='bold')\n",
        "\n",
        "    # Customize chart\n",
        "    ax.set_title('Average Performance Across All Metrics', fontsize=16, fontweight='bold', pad=20)\n",
        "    ax.set_xlabel('Models', fontsize=14, fontweight='bold')\n",
        "    ax.set_ylabel('Average Score', fontsize=14, fontweight='bold')\n",
        "    ax.set_ylim(0, max(avg_scores) + 0.15)\n",
        "    ax.set_axisbelow(True)\n",
        "    ax.grid(axis='y', linestyle='--', alpha=0.7)\n",
        "\n",
        "    plt.tight_layout()\n",
        "    return fig\n",
        "\n",
        "# 5. Grouped boxplot for score distribution\n",
        "def plot_score_distribution():\n",
        "    # Set up the figure\n",
        "    fig, ax = plt.subplots(figsize=(6, 4))\n",
        "\n",
        "    # Create boxplot\n",
        "    sns.boxplot(x='Models', y='Score', data=df_melt, palette='viridis', ax=ax)\n",
        "\n",
        "    # Add individual points\n",
        "    sns.stripplot(x='Models', y='Score', data=df_melt, size=6, color='black', alpha=0.4, ax=ax)\n",
        "\n",
        "    # Customize chart\n",
        "    ax.set_title('Distribution of Scores Across Metrics', fontsize=16, fontweight='bold', pad=20)\n",
        "    ax.set_xlabel('Models', fontsize=14, fontweight='bold')\n",
        "    ax.set_ylabel('Score', fontsize=14, fontweight='bold')\n",
        "    ax.set_ylim(0.35, 1.0)\n",
        "    ax.grid(axis='y', linestyle='--', alpha=0.7)\n",
        "\n",
        "    plt.tight_layout()\n",
        "    return fig\n",
        "\n",
        "# 6. Line plot for comparing individual metrics\n",
        "def plot_metric_comparison_line():\n",
        "    # Set up the figure\n",
        "    fig, ax = plt.subplots(figsize=(9, 6))  # was (14, 8)\n",
        "\n",
        "    # Get metrics\n",
        "    metrics = ['ROUGE-1', 'ROUGE-2', 'ROUGE-L', 'ROUGE-Lsum', 'METEOR', 'BERTScore']\n",
        "    models = data['Models']\n",
        "\n",
        "    # Set x positions\n",
        "    x = np.arange(len(metrics))\n",
        "\n",
        "    # Plot lines for each model\n",
        "    for i, model in enumerate(models):\n",
        "        values = [data[metric][i] for metric in metrics]\n",
        "        ax.plot(x, values, 'o-', linewidth=2.5, markersize=8, label=model)\n",
        "\n",
        "    # Customize chart\n",
        "    ax.set_title('Metric-wise Comparison Across Models', fontsize=16, fontweight='bold', pad=20)\n",
        "    ax.set_xlabel('Metrics', fontsize=14, fontweight='bold')\n",
        "    ax.set_ylabel('Score', fontsize=14, fontweight='bold')\n",
        "    ax.set_xticks(x)\n",
        "    ax.set_xticklabels(metrics, fontsize=12)\n",
        "    ax.set_ylim(0.35, 1.0)\n",
        "    ax.grid(True, linestyle='--', alpha=0.7)\n",
        "\n",
        "    # Add legend\n",
        "    ax.legend(title='Models', fontsize=12, title_fontsize=14)\n",
        "\n",
        "    plt.tight_layout()\n",
        "    return fig\n",
        "\n",
        "# Create all visualizations\n",
        "fig1 = plot_metrics_comparison()\n",
        "fig2 = plot_radar_chart()\n",
        "fig3 = plot_heatmap()\n",
        "fig4 = plot_average_performance()\n",
        "fig5 = plot_score_distribution()\n",
        "fig6 = plot_metric_comparison_line()\n",
        "\n",
        "# Close figures but keep references\n",
        "plt.close(fig1)\n",
        "plt.close(fig2)\n",
        "plt.close(fig3)\n",
        "plt.close(fig4)\n",
        "plt.close(fig5)\n",
        "plt.close(fig6)\n",
        "\n",
        "# Function to save all figures\n",
        "def save_figures():\n",
        "    fig1.savefig('metrics_comparison_bar.png', dpi=300, bbox_inches='tight')\n",
        "    fig2.savefig('radar_chart.png', dpi=300, bbox_inches='tight')\n",
        "    fig3.savefig('heatmap.png', dpi=300, bbox_inches='tight')\n",
        "    fig4.savefig('average_performance.png', dpi=300, bbox_inches='tight')\n",
        "    fig5.savefig('score_distribution.png', dpi=300, bbox_inches='tight')\n",
        "    fig6.savefig('metric_comparison_line.png', dpi=300, bbox_inches='tight')\n",
        "    print(\"All visualizations saved successfully!\")\n",
        "\n",
        "# Display one figure to check\n",
        "fig1"
      ]
    },
    {
      "cell_type": "code",
      "execution_count": null,
      "metadata": {
        "colab": {
          "base_uri": "https://localhost:8080/",
          "height": 697
        },
        "id": "pthI5I04geZq",
        "outputId": "752241eb-51a7-4f6f-827e-ca214f265ab3"
      },
      "outputs": [
        {
          "data": {
            "image/png": "[encoded data removed]",
            "text/plain": [
              "<Figure size 800x600 with 1 Axes>"
            ]
          },
          "execution_count": 46,
          "metadata": {},
          "output_type": "execute_result"
        }
      ],
      "source": [
        "fig2"
      ]
    },
    {
      "cell_type": "code",
      "execution_count": null,
      "metadata": {
        "colab": {
          "base_uri": "https://localhost:8080/",
          "height": 607
        },
        "id": "DFj8yHlDiaB5",
        "outputId": "98b489af-47ac-421b-d3be-595cd640ff6a"
      },
      "outputs": [
        {
          "data": {
            "image/png": "[encoded data removed]",
            "text/plain": [
              "<Figure size 800x600 with 2 Axes>"
            ]
          },
          "execution_count": 47,
          "metadata": {},
          "output_type": "execute_result"
        }
      ],
      "source": [
        "fig3"
      ]
    },
    {
      "cell_type": "code",
      "execution_count": null,
      "metadata": {
        "colab": {
          "base_uri": "https://localhost:8080/",
          "height": 607
        },
        "id": "cG6bCh-2icVs",
        "outputId": "90663aaf-f0b7-435e-deef-4a38743c0b43"
      },
      "outputs": [
        {
          "data": {
            "image/png": "[encoded data removed]",
            "text/plain": [
              "<Figure size 800x600 with 1 Axes>"
            ]
          },
          "execution_count": 48,
          "metadata": {},
          "output_type": "execute_result"
        }
      ],
      "source": [
        "fig4"
      ]
    },
    {
      "cell_type": "code",
      "execution_count": null,
      "metadata": {
        "colab": {
          "base_uri": "https://localhost:8080/",
          "height": 607
        },
        "id": "TffSIbb5igKR",
        "outputId": "f45bdebc-96c1-45ce-a969-ba18a176349e"
      },
      "outputs": [
        {
          "data": {
            "image/png": "[encoded data removed]",
            "text/plain": [
              "<Figure size 900x600 with 1 Axes>"
            ]
          },
          "execution_count": 49,
          "metadata": {},
          "output_type": "execute_result"
        }
      ],
      "source": [
        "fig6"
      ]
    }
  ],
  "metadata": {
    "colab": {
      "provenance": [],
      "include_colab_link": true
    },
    "kernelspec": {
      "display_name": "Python 3",
      "name": "python3"
    },
    "language_info": {
      "name": "python"
    }
  },
  "nbformat": 4,
  "nbformat_minor": 0
}